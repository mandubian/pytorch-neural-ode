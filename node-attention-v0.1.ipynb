{
 "cells": [
  {
   "cell_type": "code",
   "execution_count": 1,
   "metadata": {},
   "outputs": [
    {
     "name": "stdout",
     "output_type": "stream",
     "text": [
      "Torch Version 1.1.0\n"
     ]
    }
   ],
   "source": [
    "import numpy as np\n",
    "import torch\n",
    "import torch.utils.data\n",
    "import torch.nn as nn\n",
    "import torch.optim as optim\n",
    "\n",
    "import torchdiffeq\n",
    "\n",
    "from tensorboard_utils import Tensorboard\n",
    "from tensorboard_utils import tensorboard_event_accumulator\n",
    "\n",
    "import transformer.Constants as Constants\n",
    "from transformer.Layers import EncoderLayer, DecoderLayer\n",
    "from transformer.Modules import ScaledDotProductAttention\n",
    "from transformer.Models import Decoder, get_attn_key_pad_mask, get_non_pad_mask, get_sinusoid_encoding_table\n",
    "from transformer.SubLayers import PositionwiseFeedForward\n",
    "\n",
    "from dataset import TranslationDataset, paired_collate_fn\n",
    "\n",
    "import model_process\n",
    "import checkpoints\n",
    "\n",
    "import matplotlib\n",
    "import numpy as np\n",
    "import matplotlib.pyplot as plt\n",
    "%matplotlib notebook  \n",
    "\n",
    "print(\"Torch Version\", torch.__version__)\n",
    "\n",
    "%load_ext autoreload\n",
    "%autoreload 2"
   ]
  },
  {
   "cell_type": "code",
   "execution_count": 37,
   "metadata": {},
   "outputs": [
    {
     "name": "stdout",
     "output_type": "stream",
     "text": [
      "Collecting https://github.com/chengs/tqdm/archive/colab.zip\n",
      "  Downloading https://github.com/chengs/tqdm/archive/colab.zip\n",
      "\u001b[K     | 808kB 1.3MB/s\n",
      "Building wheels for collected packages: tqdm\n",
      "  Building wheel for tqdm (setup.py) ... \u001b[?25ldone\n",
      "\u001b[?25h  Stored in directory: /tmp/pip-ephem-wheel-cache-2u43pw1d/wheels/41/18/ee/d5dd158441b27965855b1bbae03fa2d8a91fe645c01b419896\n",
      "Successfully built tqdm\n",
      "Installing collected packages: tqdm\n",
      "  Found existing installation: tqdm 4.28.1\n",
      "    Uninstalling tqdm-4.28.1:\n",
      "      Successfully uninstalled tqdm-4.28.1\n",
      "\u001b[33m  The script tqdm is installed in '/home/mandubian/.local/bin' which is not on PATH.\n",
      "  Consider adding this directory to PATH or, if you prefer to suppress this warning, use --no-warn-script-location.\u001b[0m\n",
      "Successfully installed tqdm-4.28.1\n",
      "\u001b[33mYou are using pip version 19.0.3, however version 19.1.1 is available.\n",
      "You should consider upgrading via the 'pip install --upgrade pip' command.\u001b[0m\n"
     ]
    }
   ],
   "source": [
    "!pip install --user --force https://github.com/chengs/tqdm/archive/colab.zip"
   ]
  },
  {
   "cell_type": "code",
   "execution_count": 2,
   "metadata": {},
   "outputs": [],
   "source": [
    "def prepare_dataloaders(data, batch_size=64, num_workers=2):\n",
    "    train_loader = torch.utils.data.DataLoader(\n",
    "        TranslationDataset(\n",
    "            src_word2idx=data['dict']['src'],\n",
    "            tgt_word2idx=data['dict']['tgt'],\n",
    "            src_insts=data['train']['src'],\n",
    "            tgt_insts=data['train']['tgt']),\n",
    "        num_workers=num_workers,\n",
    "        batch_size=batch_size,\n",
    "        collate_fn=paired_collate_fn,\n",
    "        shuffle=True)\n",
    "\n",
    "    valid_loader = torch.utils.data.DataLoader(\n",
    "        TranslationDataset(\n",
    "            src_word2idx=data['dict']['src'],\n",
    "            tgt_word2idx=data['dict']['tgt'],\n",
    "            src_insts=data['valid']['src'],\n",
    "            tgt_insts=data['valid']['tgt']),\n",
    "        num_workers=num_workers,\n",
    "        batch_size=batch_size,\n",
    "        collate_fn=paired_collate_fn,\n",
    "        shuffle=False)\n",
    "    return train_loader, valid_loader"
   ]
  },
  {
   "cell_type": "code",
   "execution_count": 3,
   "metadata": {},
   "outputs": [
    {
     "name": "stdout",
     "output_type": "stream",
     "text": [
      "device cuda\n"
     ]
    }
   ],
   "source": [
    "seed = 1\n",
    "torch.manual_seed(seed)\n",
    "device = torch.device(\"cuda\")\n",
    "print(\"device\", device)"
   ]
  },
  {
   "cell_type": "code",
   "execution_count": 4,
   "metadata": {},
   "outputs": [],
   "source": [
    "data = torch.load(\"/home/mandubian/datasets/multi30k/multi30k.atok.low.pt\")"
   ]
  },
  {
   "cell_type": "code",
   "execution_count": 5,
   "metadata": {},
   "outputs": [
    {
     "name": "stdout",
     "output_type": "stream",
     "text": [
      "52\n"
     ]
    }
   ],
   "source": [
    "max_token_seq_len = data['settings'].max_token_seq_len\n",
    "print(max_token_seq_len)"
   ]
  },
  {
   "cell_type": "code",
   "execution_count": 6,
   "metadata": {},
   "outputs": [],
   "source": [
    "train_loader, val_loader = prepare_dataloaders(data, batch_size=64)"
   ]
  },
  {
   "cell_type": "code",
   "execution_count": 7,
   "metadata": {},
   "outputs": [
    {
     "name": "stdout",
     "output_type": "stream",
     "text": [
      "(tensor([[   2, 2428, 5671,  ...,    0,    0,    0],\n",
      "        [   2,  113, 1523,  ...,    0,    0,    0],\n",
      "        [   2, 5572,  963,  ...,    0,    0,    0],\n",
      "        ...,\n",
      "        [   2, 1611, 6919,  ...,    0,    0,    0],\n",
      "        [   2,  113, 2785,  ...,    0,    0,    0],\n",
      "        [   2, 5572, 7377,  ...,    0,    0,    0]]), tensor([[1, 2, 3,  ..., 0, 0, 0],\n",
      "        [1, 2, 3,  ..., 0, 0, 0],\n",
      "        [1, 2, 3,  ..., 0, 0, 0],\n",
      "        ...,\n",
      "        [1, 2, 3,  ..., 0, 0, 0],\n",
      "        [1, 2, 3,  ..., 0, 0, 0],\n",
      "        [1, 2, 3,  ..., 0, 0, 0]]), tensor([[    2,  8935,  7643,  ...,     0,     0,     0],\n",
      "        [    2,  1156,  8610,  ...,     0,     0,     0],\n",
      "        [    2,   594,  4565,  ...,     0,     0,     0],\n",
      "        ...,\n",
      "        [    2, 12709,  4724,  ...,     0,     0,     0],\n",
      "        [    2,  1156,  1298,  ...,     0,     0,     0],\n",
      "        [    2, 12709,  5824,  ...,     0,     0,     0]]), tensor([[1, 2, 3,  ..., 0, 0, 0],\n",
      "        [1, 2, 3,  ..., 0, 0, 0],\n",
      "        [1, 2, 3,  ..., 0, 0, 0],\n",
      "        ...,\n",
      "        [1, 2, 3,  ..., 0, 0, 0],\n",
      "        [1, 2, 3,  ..., 0, 0, 0],\n",
      "        [1, 2, 3,  ..., 0, 0, 0]]))\n",
      "<s> six workers are working on the train tracks . </s> <blank> <blank> <blank> <blank> <blank> <blank> <blank> <blank> <blank> <blank> <blank> <blank> <blank> <blank> <blank> <blank> <blank> <blank> <blank> <blank> <blank> <blank> <blank> <blank> <blank> <blank> <blank> <blank> <blank>\n",
      "<s> sechs arbeiter arbeiten auf den bahngleisen . </s> <blank> <blank> <blank> <blank> <blank> <blank> <blank> <blank> <blank> <blank> <blank> <blank> <blank> <blank> <blank> <blank> <blank> <blank> <blank> <blank> <blank> <blank> <blank> <blank> <blank>\n"
     ]
    }
   ],
   "source": [
    "fst = next(iter(train_loader))\n",
    "print(fst)\n",
    "en = ' '.join([train_loader.dataset.src_idx2word[idx] for idx in fst[0][0].numpy()])\n",
    "ge = ' '.join([train_loader.dataset.tgt_idx2word[idx] for idx in fst[2][0].numpy()])\n",
    "print(en)\n",
    "print(ge)"
   ]
  },
  {
   "cell_type": "code",
   "execution_count": 11,
   "metadata": {},
   "outputs": [
    {
     "name": "stdout",
     "output_type": "stream",
     "text": [
      "fst (tensor([[   2, 5572, 4113, 8034, 1523, 3968,  995, 7521, 9726, 5572, 8218,    3]]), tensor([[ 1,  2,  3,  4,  5,  6,  7,  8,  9, 10, 11, 12]]), tensor([[    2, 12709, 12710,  9165,  4869,   762,  4378,  7724,  6533, 14015,\n",
      "             3]]), tensor([[ 1,  2,  3,  4,  5,  6,  7,  8,  9, 10, 11]]))\n",
      "ts tensor([0.0000, 0.2000, 0.4000, 0.6000, 0.8000, 1.0000], device='cuda:0')\n"
     ]
    },
    {
     "data": {
      "text/plain": [
       "tensor([[ 0.0000, -0.1402, 15.3975,  ..., -2.3901, -1.0970,  2.5601],\n",
       "        [ 0.0000, -0.5810,  1.1288,  ..., -0.9210, -1.8688,  0.7077],\n",
       "        [ 0.0000, -0.8570,  0.4723,  ...,  0.4867, -0.8943,  2.2571],\n",
       "        ...,\n",
       "        [ 0.0000, -1.8532,  1.4003,  ..., -0.5003,  0.8397,  0.7987],\n",
       "        [ 0.0000, -0.8690, -1.3879,  ...,  0.3047,  0.8819,  0.6424],\n",
       "        [ 0.0000, -2.3078,  1.0934,  ..., -0.0613,  0.4002,  0.9100]],\n",
       "       device='cuda:0', grad_fn=<ViewBackward>)"
      ]
     },
     "execution_count": 11,
     "metadata": {},
     "output_type": "execute_result"
    }
   ],
   "source": [
    "node_trans.eval()\n",
    "\n",
    "src, src_idx, tgt, tgt_idx = fst\n",
    "\n",
    "print(\"fst\", fst)\n",
    "print(\"ts\", ts)\n",
    "node_trans(src.to(device), src_idx.to(device), tgt.to(device), tgt_idx.to(device), ts.to(device))"
   ]
  },
  {
   "cell_type": "markdown",
   "metadata": {},
   "source": [
    "### Create an experiment with a name and a unique ID"
   ]
  },
  {
   "cell_type": "code",
   "execution_count": 8,
   "metadata": {},
   "outputs": [],
   "source": [
    "exp_name = \"node_transformer_multi30k\"\n",
    "unique_id = \"2019-05-29_1200\"\n"
   ]
  },
  {
   "cell_type": "markdown",
   "metadata": {},
   "source": [
    "### Create Model"
   ]
  },
  {
   "cell_type": "code",
   "execution_count": 9,
   "metadata": {},
   "outputs": [],
   "source": [
    "from node_transformer import NodeTransformer\n",
    "\n",
    "src_vocab_sz = train_loader.dataset.src_vocab_size\n",
    "tgt_vocab_sz = train_loader.dataset.tgt_vocab_size\n",
    "\n",
    "model = NodeTransformer(\n",
    "    n_src_vocab=src_vocab_sz,\n",
    "    n_tgt_vocab=tgt_vocab_sz,\n",
    "    len_max_seq=max_token_seq_len,\n",
    "    emb_src_tgt_weight_sharing=False,\n",
    "    #d_word_vec=128, d_model=128, d_inner=512,\n",
    "    n_layers=1, n_head=8, method='dopri5-ext', rtol=1e-3, atol=1e-3)\n"
   ]
  },
  {
   "cell_type": "markdown",
   "metadata": {},
   "source": [
    "### Create Tensorboard metrics logger"
   ]
  },
  {
   "cell_type": "code",
   "execution_count": 10,
   "metadata": {},
   "outputs": [
    {
     "name": "stdout",
     "output_type": "stream",
     "text": [
      "Writing TensorBoard events locally to runs/node_transformer_multi30k_2019-05-29_1200\n"
     ]
    }
   ],
   "source": [
    "tb = Tensorboard(exp_name, unique_name=unique_id)"
   ]
  },
  {
   "cell_type": "markdown",
   "metadata": {},
   "source": [
    "### Create basic optimizer"
   ]
  },
  {
   "cell_type": "code",
   "execution_count": 11,
   "metadata": {},
   "outputs": [],
   "source": [
    "optimizer = optim.Adam(model.parameters(), lr=1e-5, betas=(0.9, 0.995), eps=1e-9)\n"
   ]
  },
  {
   "cell_type": "code",
   "execution_count": null,
   "metadata": {},
   "outputs": [
    {
     "name": "stderr",
     "output_type": "stream",
     "text": [
      "  0%|          | 0/453 [00:00<?, ?it/s]"
     ]
    },
    {
     "name": "stdout",
     "output_type": "stream",
     "text": [
      "Loaded model and timesteps to cuda\n",
      "[ Epoch 0 ]\n",
      "Adding group train to writers (dict_keys([]))\n"
     ]
    },
    {
     "name": "stderr",
     "output_type": "stream",
     "text": [
      "  0%|          | 0/16 [00:00<?, ?it/s]"
     ]
    },
    {
     "name": "stdout",
     "output_type": "stream",
     "text": [
      "[Training]  loss: 7.772877168508285, ppl:  2375.29559, accuracy: 14.472 %, elapse: 932072.848ms\n"
     ]
    },
    {
     "name": "stderr",
     "output_type": "stream",
     "text": []
    },
    {
     "name": "stdout",
     "output_type": "stream",
     "text": [
      "Adding group eval to writers (dict_keys(['train']))\n",
      "[Validation]  loss: 6.674679250394011,  ppl:  792.09335, accuracy: 24.493 %, elapse: 1127.259ms\n",
      "Checkpointing Validation Model...\n"
     ]
    },
    {
     "name": "stderr",
     "output_type": "stream",
     "text": [
      "  0%|          | 0/453 [00:00<?, ?it/s]"
     ]
    },
    {
     "name": "stdout",
     "output_type": "stream",
     "text": [
      "[ Epoch 1 ]\n"
     ]
    },
    {
     "name": "stderr",
     "output_type": "stream",
     "text": [
      "  0%|          | 0/16 [00:00<?, ?it/s]"
     ]
    },
    {
     "name": "stdout",
     "output_type": "stream",
     "text": [
      "[Training]  loss: 6.754271093470751, ppl:  857.71433, accuracy: 28.150 %, elapse: 894210.277ms\n"
     ]
    },
    {
     "name": "stderr",
     "output_type": "stream",
     "text": []
    },
    {
     "name": "stdout",
     "output_type": "stream",
     "text": [
      "[Validation]  loss: 6.0787044557666645,  ppl:  436.46337, accuracy: 30.074 %, elapse: 1126.177ms\n",
      "Checkpointing Validation Model...\n"
     ]
    },
    {
     "name": "stderr",
     "output_type": "stream",
     "text": [
      "  0%|          | 0/453 [00:00<?, ?it/s]"
     ]
    },
    {
     "name": "stdout",
     "output_type": "stream",
     "text": [
      "[ Epoch 2 ]\n"
     ]
    },
    {
     "name": "stderr",
     "output_type": "stream",
     "text": [
      "  0%|          | 0/16 [00:00<?, ?it/s]"
     ]
    },
    {
     "name": "stdout",
     "output_type": "stream",
     "text": [
      "[Training]  loss: 6.400615447797599, ppl:  602.21556, accuracy: 31.743 %, elapse: 885503.449ms\n"
     ]
    },
    {
     "name": "stderr",
     "output_type": "stream",
     "text": []
    },
    {
     "name": "stdout",
     "output_type": "stream",
     "text": [
      "[Validation]  loss: 5.772487434602004,  ppl:  321.33604, accuracy: 32.323 %, elapse: 1126.302ms\n",
      "Checkpointing Validation Model...\n"
     ]
    },
    {
     "name": "stderr",
     "output_type": "stream",
     "text": [
      "  0%|          | 0/453 [00:00<?, ?it/s]"
     ]
    },
    {
     "name": "stdout",
     "output_type": "stream",
     "text": [
      "[ Epoch 3 ]\n"
     ]
    },
    {
     "name": "stderr",
     "output_type": "stream",
     "text": [
      "  0%|          | 0/16 [00:00<?, ?it/s]"
     ]
    },
    {
     "name": "stdout",
     "output_type": "stream",
     "text": [
      "[Training]  loss: 6.191441062070472, ppl:  488.54963, accuracy: 33.489 %, elapse: 872408.148ms\n"
     ]
    },
    {
     "name": "stderr",
     "output_type": "stream",
     "text": []
    },
    {
     "name": "stdout",
     "output_type": "stream",
     "text": [
      "[Validation]  loss: 5.553710185437039,  ppl:  258.19373, accuracy: 33.820 %, elapse: 1126.762ms\n",
      "Checkpointing Validation Model...\n"
     ]
    },
    {
     "name": "stderr",
     "output_type": "stream",
     "text": [
      "  0%|          | 0/453 [00:00<?, ?it/s]"
     ]
    },
    {
     "name": "stdout",
     "output_type": "stream",
     "text": [
      "[ Epoch 4 ]\n"
     ]
    },
    {
     "name": "stderr",
     "output_type": "stream",
     "text": [
      "  0%|          | 0/16 [00:00<?, ?it/s]"
     ]
    },
    {
     "name": "stdout",
     "output_type": "stream",
     "text": [
      "[Training]  loss: 6.031144473281045, ppl:  416.19108, accuracy: 34.885 %, elapse: 876850.305ms\n"
     ]
    },
    {
     "name": "stderr",
     "output_type": "stream",
     "text": []
    },
    {
     "name": "stdout",
     "output_type": "stream",
     "text": [
      "[Validation]  loss: 5.373627625014551,  ppl:  215.64373, accuracy: 35.597 %, elapse: 1127.067ms\n",
      "Checkpointing Validation Model...\n"
     ]
    },
    {
     "name": "stderr",
     "output_type": "stream",
     "text": [
      "  0%|          | 0/453 [00:00<?, ?it/s]"
     ]
    },
    {
     "name": "stdout",
     "output_type": "stream",
     "text": [
      "[ Epoch 5 ]\n"
     ]
    },
    {
     "name": "stderr",
     "output_type": "stream",
     "text": [
      "  0%|          | 0/16 [00:00<?, ?it/s]"
     ]
    },
    {
     "name": "stdout",
     "output_type": "stream",
     "text": [
      "[Training]  loss: 5.897737418914761, ppl:  364.21247, accuracy: 36.099 %, elapse: 887652.689ms\n"
     ]
    },
    {
     "name": "stderr",
     "output_type": "stream",
     "text": []
    },
    {
     "name": "stdout",
     "output_type": "stream",
     "text": [
      "[Validation]  loss: 5.216899487869609,  ppl:  184.36168, accuracy: 36.965 %, elapse: 1123.003ms\n",
      "Checkpointing Validation Model...\n"
     ]
    },
    {
     "name": "stderr",
     "output_type": "stream",
     "text": [
      "  0%|          | 0/453 [00:00<?, ?it/s]"
     ]
    },
    {
     "name": "stdout",
     "output_type": "stream",
     "text": [
      "[ Epoch 6 ]\n"
     ]
    },
    {
     "name": "stderr",
     "output_type": "stream",
     "text": [
      "  0%|          | 0/16 [00:00<?, ?it/s]"
     ]
    },
    {
     "name": "stdout",
     "output_type": "stream",
     "text": [
      "[Training]  loss: 5.780387622675538, ppl:  323.88471, accuracy: 37.093 %, elapse: 892534.662ms\n"
     ]
    },
    {
     "name": "stderr",
     "output_type": "stream",
     "text": []
    },
    {
     "name": "stdout",
     "output_type": "stream",
     "text": [
      "[Validation]  loss: 5.079440900304015,  ppl:  160.68419, accuracy: 38.140 %, elapse: 1122.408ms\n",
      "Checkpointing Validation Model...\n"
     ]
    },
    {
     "name": "stderr",
     "output_type": "stream",
     "text": [
      "  0%|          | 0/453 [00:00<?, ?it/s]"
     ]
    },
    {
     "name": "stdout",
     "output_type": "stream",
     "text": [
      "[ Epoch 7 ]\n"
     ]
    },
    {
     "name": "stderr",
     "output_type": "stream",
     "text": [
      "  0%|          | 0/16 [00:00<?, ?it/s]"
     ]
    },
    {
     "name": "stdout",
     "output_type": "stream",
     "text": [
      "[Training]  loss: 5.67492754227238, ppl:  291.46722, accuracy: 38.132 %, elapse: 889743.139ms\n"
     ]
    },
    {
     "name": "stderr",
     "output_type": "stream",
     "text": []
    },
    {
     "name": "stdout",
     "output_type": "stream",
     "text": [
      "[Validation]  loss: 4.966722333317662,  ppl:  143.55559, accuracy: 38.964 %, elapse: 1136.502ms\n",
      "Checkpointing Validation Model...\n"
     ]
    },
    {
     "name": "stderr",
     "output_type": "stream",
     "text": [
      "  0%|          | 0/453 [00:00<?, ?it/s]"
     ]
    },
    {
     "name": "stdout",
     "output_type": "stream",
     "text": [
      "[ Epoch 8 ]\n"
     ]
    },
    {
     "name": "stderr",
     "output_type": "stream",
     "text": [
      "  0%|          | 0/16 [00:00<?, ?it/s]"
     ]
    },
    {
     "name": "stdout",
     "output_type": "stream",
     "text": [
      "[Training]  loss: 5.580504402045974, ppl:  265.20534, accuracy: 38.956 %, elapse: 894299.257ms\n"
     ]
    },
    {
     "name": "stderr",
     "output_type": "stream",
     "text": []
    },
    {
     "name": "stdout",
     "output_type": "stream",
     "text": [
      "[Validation]  loss: 4.86604137353701,  ppl:  129.80604, accuracy: 39.960 %, elapse: 1124.189ms\n",
      "Checkpointing Validation Model...\n"
     ]
    },
    {
     "name": "stderr",
     "output_type": "stream",
     "text": [
      "  0%|          | 0/453 [00:00<?, ?it/s]"
     ]
    },
    {
     "name": "stdout",
     "output_type": "stream",
     "text": [
      "[ Epoch 9 ]\n"
     ]
    },
    {
     "name": "stderr",
     "output_type": "stream",
     "text": [
      "  0%|          | 0/16 [00:00<?, ?it/s]"
     ]
    },
    {
     "name": "stdout",
     "output_type": "stream",
     "text": [
      "[Training]  loss: 5.493336958695328, ppl:  243.06696, accuracy: 39.799 %, elapse: 898622.197ms\n"
     ]
    },
    {
     "name": "stderr",
     "output_type": "stream",
     "text": []
    },
    {
     "name": "stdout",
     "output_type": "stream",
     "text": [
      "[Validation]  loss: 4.7674782930143635,  ppl:  117.62226, accuracy: 40.884 %, elapse: 1137.485ms\n",
      "Checkpointing Validation Model...\n"
     ]
    },
    {
     "name": "stderr",
     "output_type": "stream",
     "text": [
      "  0%|          | 0/453 [00:00<?, ?it/s]"
     ]
    },
    {
     "name": "stdout",
     "output_type": "stream",
     "text": [
      "[ Epoch 10 ]\n"
     ]
    },
    {
     "name": "stderr",
     "output_type": "stream",
     "text": [
      "  0%|          | 0/16 [00:00<?, ?it/s]"
     ]
    },
    {
     "name": "stdout",
     "output_type": "stream",
     "text": [
      "[Training]  loss: 5.411757381198697, ppl:  224.02494, accuracy: 40.487 %, elapse: 902221.318ms\n"
     ]
    },
    {
     "name": "stderr",
     "output_type": "stream",
     "text": []
    },
    {
     "name": "stdout",
     "output_type": "stream",
     "text": [
      "[Validation]  loss: 4.670859522614219,  ppl:  106.78949, accuracy: 41.672 %, elapse: 1123.696ms\n",
      "Checkpointing Validation Model...\n"
     ]
    },
    {
     "name": "stderr",
     "output_type": "stream",
     "text": [
      "  0%|          | 0/453 [00:00<?, ?it/s]"
     ]
    },
    {
     "name": "stdout",
     "output_type": "stream",
     "text": [
      "[ Epoch 11 ]\n"
     ]
    },
    {
     "name": "stderr",
     "output_type": "stream",
     "text": [
      "  0%|          | 0/16 [00:00<?, ?it/s]"
     ]
    },
    {
     "name": "stdout",
     "output_type": "stream",
     "text": [
      "[Training]  loss: 5.334392323844883, ppl:  207.34671, accuracy: 41.252 %, elapse: 908835.289ms\n"
     ]
    },
    {
     "name": "stderr",
     "output_type": "stream",
     "text": []
    },
    {
     "name": "stdout",
     "output_type": "stream",
     "text": [
      "[Validation]  loss: 4.59576444436609,  ppl:  99.06384, accuracy: 42.360 %, elapse: 1126.570ms\n",
      "Checkpointing Validation Model...\n"
     ]
    },
    {
     "name": "stderr",
     "output_type": "stream",
     "text": [
      "  0%|          | 0/453 [00:00<?, ?it/s]"
     ]
    },
    {
     "name": "stdout",
     "output_type": "stream",
     "text": [
      "[ Epoch 12 ]\n"
     ]
    },
    {
     "name": "stderr",
     "output_type": "stream",
     "text": [
      "  0%|          | 0/16 [00:00<?, ?it/s]"
     ]
    },
    {
     "name": "stdout",
     "output_type": "stream",
     "text": [
      "[Training]  loss: 5.261967273697875, ppl:  192.86053, accuracy: 41.949 %, elapse: 917785.429ms\n"
     ]
    },
    {
     "name": "stderr",
     "output_type": "stream",
     "text": []
    },
    {
     "name": "stdout",
     "output_type": "stream",
     "text": [
      "[Validation]  loss: 4.510300918929992,  ppl:  90.94918, accuracy: 42.854 %, elapse: 1122.581ms\n",
      "Checkpointing Validation Model...\n"
     ]
    },
    {
     "name": "stderr",
     "output_type": "stream",
     "text": [
      "  0%|          | 0/453 [00:00<?, ?it/s]"
     ]
    },
    {
     "name": "stdout",
     "output_type": "stream",
     "text": [
      "[ Epoch 13 ]\n"
     ]
    },
    {
     "name": "stderr",
     "output_type": "stream",
     "text": [
      "  0%|          | 0/16 [00:00<?, ?it/s]"
     ]
    },
    {
     "name": "stdout",
     "output_type": "stream",
     "text": [
      "[Training]  loss: 5.193884961262795, ppl:  180.16714, accuracy: 42.716 %, elapse: 929965.462ms\n"
     ]
    },
    {
     "name": "stderr",
     "output_type": "stream",
     "text": []
    },
    {
     "name": "stdout",
     "output_type": "stream",
     "text": [
      "[Validation]  loss: 4.439625889603034,  ppl:  84.74323, accuracy: 43.499 %, elapse: 1126.473ms\n",
      "Checkpointing Validation Model...\n"
     ]
    },
    {
     "name": "stderr",
     "output_type": "stream",
     "text": [
      "  0%|          | 0/453 [00:00<?, ?it/s]"
     ]
    },
    {
     "name": "stdout",
     "output_type": "stream",
     "text": [
      "[ Epoch 14 ]\n"
     ]
    },
    {
     "name": "stderr",
     "output_type": "stream",
     "text": [
      "  0%|          | 0/16 [00:00<?, ?it/s]"
     ]
    },
    {
     "name": "stdout",
     "output_type": "stream",
     "text": [
      "[Training]  loss: 5.131747499937813, ppl:  169.31273, accuracy: 43.332 %, elapse: 933687.749ms\n"
     ]
    },
    {
     "name": "stderr",
     "output_type": "stream",
     "text": []
    },
    {
     "name": "stdout",
     "output_type": "stream",
     "text": [
      "[Validation]  loss: 4.372634272271697,  ppl:  79.25213, accuracy: 44.136 %, elapse: 1124.963ms\n",
      "Checkpointing Validation Model...\n"
     ]
    },
    {
     "name": "stderr",
     "output_type": "stream",
     "text": [
      "  0%|          | 0/453 [00:00<?, ?it/s]"
     ]
    },
    {
     "name": "stdout",
     "output_type": "stream",
     "text": [
      "[ Epoch 15 ]\n"
     ]
    },
    {
     "name": "stderr",
     "output_type": "stream",
     "text": [
      " 25%|██▍       | 113/453 [03:52<11:22,  2.01s/it]"
     ]
    }
   ],
   "source": [
    "timesteps = np.linspace(0., 1, num=6)\n",
    "timesteps = torch.from_numpy(timesteps).float()\n",
    "\n",
    "model_process.train(\n",
    "    exp_name, unique_id,\n",
    "    model, \n",
    "    train_loader, val_loader, timesteps,\n",
    "    optimizer, device,\n",
    "    epochs=20, tb=tb, log_interval=100,\n",
    ")"
   ]
  }
 ],
 "metadata": {
  "kernelspec": {
   "display_name": "Python 3",
   "language": "python",
   "name": "python3"
  },
  "language_info": {
   "codemirror_mode": {
    "name": "ipython",
    "version": 3
   },
   "file_extension": ".py",
   "mimetype": "text/x-python",
   "name": "python",
   "nbconvert_exporter": "python",
   "pygments_lexer": "ipython3",
   "version": "3.6.8"
  }
 },
 "nbformat": 4,
 "nbformat_minor": 2
}
