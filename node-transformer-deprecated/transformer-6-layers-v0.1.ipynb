{
 "cells": [
  {
   "cell_type": "code",
   "execution_count": 7,
   "metadata": {},
   "outputs": [
    {
     "name": "stdout",
     "output_type": "stream",
     "text": [
      "Torch Version 1.1.0\n",
      "The autoreload extension is already loaded. To reload it, use:\n",
      "  %reload_ext autoreload\n"
     ]
    }
   ],
   "source": [
    "import numpy as np\n",
    "import torch\n",
    "import torch.utils.data\n",
    "import torch.nn as nn\n",
    "import torch.optim as optim\n",
    "\n",
    "import torchdiffeq\n",
    "\n",
    "from tensorboard_utils import Tensorboard\n",
    "from tensorboard_utils import tensorboard_event_accumulator\n",
    "\n",
    "import transformer.Constants as Constants\n",
    "from transformer.Layers import EncoderLayer, DecoderLayer\n",
    "from transformer.Modules import ScaledDotProductAttention\n",
    "from transformer.Models import Decoder, get_attn_key_pad_mask, get_non_pad_mask, get_sinusoid_encoding_table\n",
    "from transformer.SubLayers import PositionwiseFeedForward\n",
    "\n",
    "import dataset\n",
    "\n",
    "import model_process\n",
    "import checkpoints\n",
    "from node_transformer import NodeTransformer\n",
    "\n",
    "import matplotlib\n",
    "import numpy as np\n",
    "import matplotlib.pyplot as plt\n",
    "#%matplotlib notebook  \n",
    "%matplotlib inline\n",
    "%config InlineBackend.figure_format = 'retina'\n",
    "\n",
    "print(\"Torch Version\", torch.__version__)\n",
    "\n",
    "%load_ext autoreload\n",
    "%autoreload 2"
   ]
  },
  {
   "cell_type": "code",
   "execution_count": 8,
   "metadata": {},
   "outputs": [
    {
     "name": "stdout",
     "output_type": "stream",
     "text": [
      "device cuda\n"
     ]
    }
   ],
   "source": [
    "seed = 1\n",
    "torch.manual_seed(seed)\n",
    "device = torch.device(\"cuda\")\n",
    "print(\"device\", device)"
   ]
  },
  {
   "cell_type": "code",
   "execution_count": 9,
   "metadata": {},
   "outputs": [],
   "source": [
    "data = torch.load(\"/home/mandubian/datasets/multi30k/multi30k.atok.low.pt\")"
   ]
  },
  {
   "cell_type": "code",
   "execution_count": 10,
   "metadata": {},
   "outputs": [
    {
     "name": "stdout",
     "output_type": "stream",
     "text": [
      "52\n"
     ]
    }
   ],
   "source": [
    "max_token_seq_len = data['settings'].max_token_seq_len\n",
    "print(max_token_seq_len)"
   ]
  },
  {
   "cell_type": "code",
   "execution_count": 11,
   "metadata": {},
   "outputs": [],
   "source": [
    "train_loader, val_loader = dataset.prepare_dataloaders(data, batch_size=128)"
   ]
  },
  {
   "cell_type": "markdown",
   "metadata": {},
   "source": [
    "### Create an experiment with a name and a unique ID"
   ]
  },
  {
   "cell_type": "code",
   "execution_count": 12,
   "metadata": {},
   "outputs": [],
   "source": [
    "exp_name = \"transformer_6_layers_multi30k\"\n",
    "unique_id = \"2019-06-07_1000\"\n"
   ]
  },
  {
   "cell_type": "markdown",
   "metadata": {},
   "source": [
    "### Create Model"
   ]
  },
  {
   "cell_type": "code",
   "execution_count": 13,
   "metadata": {},
   "outputs": [],
   "source": [
    "model = None"
   ]
  },
  {
   "cell_type": "code",
   "execution_count": 14,
   "metadata": {},
   "outputs": [
    {
     "name": "stdout",
     "output_type": "stream",
     "text": [
      "src_vocab_sz 9795\n",
      "tgt_vocab_sz 17989\n"
     ]
    }
   ],
   "source": [
    "src_vocab_sz = train_loader.dataset.src_vocab_size\n",
    "print(\"src_vocab_sz\", src_vocab_sz)\n",
    "tgt_vocab_sz = train_loader.dataset.tgt_vocab_size\n",
    "print(\"tgt_vocab_sz\", tgt_vocab_sz)\n",
    "\n",
    "if model:\n",
    "    del model\n",
    "    \n",
    "model = NodeTransformer(\n",
    "    n_src_vocab=max(src_vocab_sz, tgt_vocab_sz),\n",
    "    n_tgt_vocab=max(src_vocab_sz, tgt_vocab_sz),\n",
    "    len_max_seq=max_token_seq_len,\n",
    "    n_layers=6,\n",
    "    #emb_src_tgt_weight_sharing=False,\n",
    "    #d_word_vec=128, d_model=128, d_inner=512,\n",
    "    n_head=8, method='dopri5-ext', rtol=1e-3, atol=1e-3,\n",
    "    has_node_encoder=False, has_node_decoder=False)\n",
    "\n",
    "model = model.to(device)"
   ]
  },
  {
   "cell_type": "markdown",
   "metadata": {},
   "source": [
    "### Create Tensorboard metrics logger"
   ]
  },
  {
   "cell_type": "code",
   "execution_count": 15,
   "metadata": {},
   "outputs": [
    {
     "name": "stdout",
     "output_type": "stream",
     "text": [
      "Writing TensorBoard events locally to runs/transformer_6_layers_multi30k_2019-06-07_1000\n"
     ]
    }
   ],
   "source": [
    "tb = Tensorboard(exp_name, unique_name=unique_id)"
   ]
  },
  {
   "cell_type": "markdown",
   "metadata": {},
   "source": [
    "### Create basic optimizer"
   ]
  },
  {
   "cell_type": "code",
   "execution_count": 16,
   "metadata": {},
   "outputs": [],
   "source": [
    "optimizer = optim.Adam(model.parameters(), lr=1e-4, betas=(0.9, 0.995), eps=1e-9)\n"
   ]
  },
  {
   "cell_type": "markdown",
   "metadata": {},
   "source": [
    "### Train"
   ]
  },
  {
   "cell_type": "code",
   "execution_count": 17,
   "metadata": {},
   "outputs": [
    {
     "name": "stdout",
     "output_type": "stream",
     "text": [
      "Loaded model and timesteps to cuda\n"
     ]
    },
    {
     "data": {
      "application/vnd.jupyter.widget-view+json": {
       "model_id": "fd4961ad5745453ab968d0d6a1255869",
       "version_major": 2,
       "version_minor": 0
      },
      "text/plain": [
       "HBox(children=(IntProgress(value=0, description='Training', max=50, style=ProgressStyle(description_width='ini…"
      ]
     },
     "metadata": {},
     "output_type": "display_data"
    },
    {
     "data": {
      "application/vnd.jupyter.widget-view+json": {
       "model_id": "b8cb6cd0fed94635b08d990ed6114eb1",
       "version_major": 2,
       "version_minor": 0
      },
      "text/plain": [
       "HBox(children=(IntProgress(value=0, description='Epoch 0', max=227, style=ProgressStyle(description_width='ini…"
      ]
     },
     "metadata": {},
     "output_type": "display_data"
    },
    {
     "name": "stdout",
     "output_type": "stream",
     "text": [
      "[ Epoch 0 ]\n",
      "Adding group train to writers (dict_keys([]))\n",
      "[Training]  loss: 7.2235593511588565, ppl:  1371.36154, accuracy: 16.599 %, elapse: 62618.487ms\n",
      "Adding group eval to writers (dict_keys(['train']))\n",
      "[Validation]  loss: 5.975024863551293,  ppl:  393.47788, accuracy: 27.932 %, elapse: 898.344ms\n",
      "Checkpointing Validation Model...\n"
     ]
    },
    {
     "data": {
      "application/vnd.jupyter.widget-view+json": {
       "model_id": "1b836ece4da446ad9d182aa33eebc05e",
       "version_major": 2,
       "version_minor": 0
      },
      "text/plain": [
       "HBox(children=(IntProgress(value=0, description='Epoch 1', max=227, style=ProgressStyle(description_width='ini…"
      ]
     },
     "metadata": {},
     "output_type": "display_data"
    },
    {
     "name": "stdout",
     "output_type": "stream",
     "text": [
      "[ Epoch 1 ]\n",
      "[Training]  loss: 6.131624574610461, ppl:  460.18316, accuracy: 30.963 %, elapse: 62870.110ms\n",
      "[Validation]  loss: 5.2839826120245,  ppl:  197.15350, accuracy: 33.047 %, elapse: 898.867ms\n",
      "Checkpointing Validation Model...\n"
     ]
    },
    {
     "data": {
      "application/vnd.jupyter.widget-view+json": {
       "model_id": "129210f2b04146d18cb889bc57c55b60",
       "version_major": 2,
       "version_minor": 0
      },
      "text/plain": [
       "HBox(children=(IntProgress(value=0, description='Epoch 2', max=227, style=ProgressStyle(description_width='ini…"
      ]
     },
     "metadata": {},
     "output_type": "display_data"
    },
    {
     "name": "stdout",
     "output_type": "stream",
     "text": [
      "[ Epoch 2 ]\n",
      "[Training]  loss: 5.611737301748947, ppl:  273.61918, accuracy: 35.105 %, elapse: 62964.462ms\n",
      "[Validation]  loss: 4.799503687417168,  ppl:  121.45013, accuracy: 36.256 %, elapse: 898.765ms\n",
      "Checkpointing Validation Model...\n"
     ]
    },
    {
     "data": {
      "application/vnd.jupyter.widget-view+json": {
       "model_id": "0dc9f959077246d89c8b93369261bdc9",
       "version_major": 2,
       "version_minor": 0
      },
      "text/plain": [
       "HBox(children=(IntProgress(value=0, description='Epoch 3', max=227, style=ProgressStyle(description_width='ini…"
      ]
     },
     "metadata": {},
     "output_type": "display_data"
    },
    {
     "name": "stdout",
     "output_type": "stream",
     "text": [
      "[ Epoch 3 ]\n",
      "[Training]  loss: 5.249176728696815, ppl:  190.40945, accuracy: 38.443 %, elapse: 63148.525ms\n",
      "[Validation]  loss: 4.434336158571531,  ppl:  84.29615, accuracy: 39.802 %, elapse: 900.744ms\n",
      "Checkpointing Validation Model...\n"
     ]
    },
    {
     "data": {
      "application/vnd.jupyter.widget-view+json": {
       "model_id": "2c2baf98488248d481bc160520c647cd",
       "version_major": 2,
       "version_minor": 0
      },
      "text/plain": [
       "HBox(children=(IntProgress(value=0, description='Epoch 4', max=227, style=ProgressStyle(description_width='ini…"
      ]
     },
     "metadata": {},
     "output_type": "display_data"
    },
    {
     "name": "stdout",
     "output_type": "stream",
     "text": [
      "[ Epoch 4 ]\n",
      "[Training]  loss: 4.970103780322496, ppl:  144.04184, accuracy: 41.545 %, elapse: 62701.082ms\n",
      "[Validation]  loss: 4.145467690815513,  ppl:  63.14715, accuracy: 42.919 %, elapse: 898.673ms\n",
      "Checkpointing Validation Model...\n"
     ]
    },
    {
     "data": {
      "application/vnd.jupyter.widget-view+json": {
       "model_id": "130db0e003334fe19784066c896db987",
       "version_major": 2,
       "version_minor": 0
      },
      "text/plain": [
       "HBox(children=(IntProgress(value=0, description='Epoch 5', max=227, style=ProgressStyle(description_width='ini…"
      ]
     },
     "metadata": {},
     "output_type": "display_data"
    },
    {
     "name": "stdout",
     "output_type": "stream",
     "text": [
      "[ Epoch 5 ]\n",
      "[Training]  loss: 4.741854278772327, ppl:  114.64659, accuracy: 44.069 %, elapse: 62832.880ms\n",
      "[Validation]  loss: 3.9454950589113653,  ppl:  51.70193, accuracy: 44.588 %, elapse: 901.717ms\n",
      "Checkpointing Validation Model...\n"
     ]
    },
    {
     "data": {
      "application/vnd.jupyter.widget-view+json": {
       "model_id": "783a6f591f464c2dbeba59266815ace5",
       "version_major": 2,
       "version_minor": 0
      },
      "text/plain": [
       "HBox(children=(IntProgress(value=0, description='Epoch 6', max=227, style=ProgressStyle(description_width='ini…"
      ]
     },
     "metadata": {},
     "output_type": "display_data"
    },
    {
     "name": "stdout",
     "output_type": "stream",
     "text": [
      "[ Epoch 6 ]\n",
      "[Training]  loss: 4.5556971131717985, ppl:  95.17308, accuracy: 46.124 %, elapse: 62386.549ms\n",
      "[Validation]  loss: 3.804431938511892,  ppl:  44.89974, accuracy: 46.056 %, elapse: 898.355ms\n",
      "Checkpointing Validation Model...\n"
     ]
    },
    {
     "data": {
      "application/vnd.jupyter.widget-view+json": {
       "model_id": "b9df974f251846b481c90162ba322c2e",
       "version_major": 2,
       "version_minor": 0
      },
      "text/plain": [
       "HBox(children=(IntProgress(value=0, description='Epoch 7', max=227, style=ProgressStyle(description_width='ini…"
      ]
     },
     "metadata": {},
     "output_type": "display_data"
    },
    {
     "name": "stdout",
     "output_type": "stream",
     "text": [
      "[ Epoch 7 ]\n",
      "[Training]  loss: 4.403000811119757, ppl:  81.69565, accuracy: 47.906 %, elapse: 62695.796ms\n",
      "[Validation]  loss: 3.6607101880954938,  ppl:  38.88895, accuracy: 47.181 %, elapse: 912.795ms\n",
      "Checkpointing Validation Model...\n"
     ]
    },
    {
     "data": {
      "application/vnd.jupyter.widget-view+json": {
       "model_id": "9149fc887eec428db372160266c7264f",
       "version_major": 2,
       "version_minor": 0
      },
      "text/plain": [
       "HBox(children=(IntProgress(value=0, description='Epoch 8', max=227, style=ProgressStyle(description_width='ini…"
      ]
     },
     "metadata": {},
     "output_type": "display_data"
    },
    {
     "name": "stdout",
     "output_type": "stream",
     "text": [
      "[ Epoch 8 ]\n",
      "[Training]  loss: 4.269500272654117, ppl:  71.48590, accuracy: 49.554 %, elapse: 62765.730ms\n",
      "[Validation]  loss: 3.5257453888396375,  ppl:  33.97909, accuracy: 48.241 %, elapse: 898.891ms\n",
      "Checkpointing Validation Model...\n"
     ]
    },
    {
     "data": {
      "application/vnd.jupyter.widget-view+json": {
       "model_id": "226a06aa5dbf47dd970f1b8319dec18c",
       "version_major": 2,
       "version_minor": 0
      },
      "text/plain": [
       "HBox(children=(IntProgress(value=0, description='Epoch 9', max=227, style=ProgressStyle(description_width='ini…"
      ]
     },
     "metadata": {},
     "output_type": "display_data"
    },
    {
     "name": "stdout",
     "output_type": "stream",
     "text": [
      "[ Epoch 9 ]\n",
      "[Training]  loss: 4.153875382076213, ppl:  63.68031, accuracy: 51.029 %, elapse: 62932.537ms\n",
      "[Validation]  loss: 3.4440650549152876,  ppl:  31.31399, accuracy: 48.986 %, elapse: 898.474ms\n",
      "Checkpointing Validation Model...\n"
     ]
    },
    {
     "data": {
      "application/vnd.jupyter.widget-view+json": {
       "model_id": "d35df263bdb343788af1354244204439",
       "version_major": 2,
       "version_minor": 0
      },
      "text/plain": [
       "HBox(children=(IntProgress(value=0, description='Epoch 10', max=227, style=ProgressStyle(description_width='in…"
      ]
     },
     "metadata": {},
     "output_type": "display_data"
    },
    {
     "name": "stdout",
     "output_type": "stream",
     "text": [
      "[ Epoch 10 ]\n",
      "[Training]  loss: 4.049625650546544, ppl:  57.37597, accuracy: 52.437 %, elapse: 62850.186ms\n",
      "[Validation]  loss: 3.3790054523515294,  ppl:  29.34158, accuracy: 49.953 %, elapse: 899.055ms\n",
      "Checkpointing Validation Model...\n"
     ]
    },
    {
     "data": {
      "application/vnd.jupyter.widget-view+json": {
       "model_id": "0f9f8fcc22114e818f3b8b0f339ab4cf",
       "version_major": 2,
       "version_minor": 0
      },
      "text/plain": [
       "HBox(children=(IntProgress(value=0, description='Epoch 11', max=227, style=ProgressStyle(description_width='in…"
      ]
     },
     "metadata": {},
     "output_type": "display_data"
    },
    {
     "name": "stdout",
     "output_type": "stream",
     "text": [
      "[ Epoch 11 ]\n",
      "[Training]  loss: 3.954736531867953, ppl:  52.18194, accuracy: 53.670 %, elapse: 63218.207ms\n",
      "[Validation]  loss: 3.3172995258995095,  ppl:  27.58576, accuracy: 50.340 %, elapse: 914.636ms\n",
      "Checkpointing Validation Model...\n"
     ]
    },
    {
     "data": {
      "application/vnd.jupyter.widget-view+json": {
       "model_id": "10daae30c60c4f609fd225782fe18172",
       "version_major": 2,
       "version_minor": 0
      },
      "text/plain": [
       "HBox(children=(IntProgress(value=0, description='Epoch 12', max=227, style=ProgressStyle(description_width='in…"
      ]
     },
     "metadata": {},
     "output_type": "display_data"
    },
    {
     "name": "stdout",
     "output_type": "stream",
     "text": [
      "[ Epoch 12 ]\n",
      "[Training]  loss: 3.8644316215776335, ppl:  47.67617, accuracy: 54.984 %, elapse: 62335.318ms\n",
      "[Validation]  loss: 3.268442962425675,  ppl:  26.27040, accuracy: 51.035 %, elapse: 898.999ms\n",
      "Checkpointing Validation Model...\n"
     ]
    },
    {
     "data": {
      "application/vnd.jupyter.widget-view+json": {
       "model_id": "5f516a792d8946d89b879d5735804433",
       "version_major": 2,
       "version_minor": 0
      },
      "text/plain": [
       "HBox(children=(IntProgress(value=0, description='Epoch 13', max=227, style=ProgressStyle(description_width='in…"
      ]
     },
     "metadata": {},
     "output_type": "display_data"
    },
    {
     "name": "stdout",
     "output_type": "stream",
     "text": [
      "[ Epoch 13 ]\n",
      "[Training]  loss: 3.7836560495446614, ppl:  43.97653, accuracy: 56.116 %, elapse: 62914.256ms\n",
      "[Validation]  loss: 3.221307188966348,  ppl:  25.06086, accuracy: 51.408 %, elapse: 900.491ms\n",
      "Checkpointing Validation Model...\n"
     ]
    },
    {
     "data": {
      "application/vnd.jupyter.widget-view+json": {
       "model_id": "372158ddf777421880ab44278e4b6724",
       "version_major": 2,
       "version_minor": 0
      },
      "text/plain": [
       "HBox(children=(IntProgress(value=0, description='Epoch 14', max=227, style=ProgressStyle(description_width='in…"
      ]
     },
     "metadata": {},
     "output_type": "display_data"
    },
    {
     "name": "stdout",
     "output_type": "stream",
     "text": [
      "[ Epoch 14 ]\n",
      "[Training]  loss: 3.7020620794527606, ppl:  40.53080, accuracy: 57.324 %, elapse: 62679.862ms\n",
      "[Validation]  loss: 3.178625622078498,  ppl:  24.01373, accuracy: 51.873 %, elapse: 915.979ms\n",
      "Checkpointing Validation Model...\n"
     ]
    },
    {
     "data": {
      "application/vnd.jupyter.widget-view+json": {
       "model_id": "1a4f9a8629d64a5e871a12fd762a9384",
       "version_major": 2,
       "version_minor": 0
      },
      "text/plain": [
       "HBox(children=(IntProgress(value=0, description='Epoch 15', max=227, style=ProgressStyle(description_width='in…"
      ]
     },
     "metadata": {},
     "output_type": "display_data"
    },
    {
     "name": "stdout",
     "output_type": "stream",
     "text": [
      "[ Epoch 15 ]\n",
      "[Training]  loss: 3.626175195168419, ppl:  37.56885, accuracy: 58.479 %, elapse: 62399.382ms\n",
      "[Validation]  loss: 3.181361767049932,  ppl:  24.07952, accuracy: 52.031 %, elapse: 900.084ms\n",
      "Checkpointing Validation Model...\n"
     ]
    },
    {
     "data": {
      "application/vnd.jupyter.widget-view+json": {
       "model_id": "4605df60e84c4e9a8a27a0bafa13dc45",
       "version_major": 2,
       "version_minor": 0
      },
      "text/plain": [
       "HBox(children=(IntProgress(value=0, description='Epoch 16', max=227, style=ProgressStyle(description_width='in…"
      ]
     },
     "metadata": {},
     "output_type": "display_data"
    },
    {
     "name": "stdout",
     "output_type": "stream",
     "text": [
      "[ Epoch 16 ]\n",
      "[Training]  loss: 3.5552920700777126, ppl:  34.99804, accuracy: 59.516 %, elapse: 63134.391ms\n",
      "[Validation]  loss: 3.129823591914267,  ppl:  22.86994, accuracy: 52.583 %, elapse: 904.963ms\n",
      "Checkpointing Validation Model...\n"
     ]
    },
    {
     "data": {
      "application/vnd.jupyter.widget-view+json": {
       "model_id": "9ee4d561d26646d289688b0ae4ac0c09",
       "version_major": 2,
       "version_minor": 0
      },
      "text/plain": [
       "HBox(children=(IntProgress(value=0, description='Epoch 17', max=227, style=ProgressStyle(description_width='in…"
      ]
     },
     "metadata": {},
     "output_type": "display_data"
    },
    {
     "name": "stdout",
     "output_type": "stream",
     "text": [
      "[ Epoch 17 ]\n",
      "[Training]  loss: 3.485296185512063, ppl:  32.63209, accuracy: 60.653 %, elapse: 62853.519ms\n",
      "[Validation]  loss: 3.1065540643021525,  ppl:  22.34392, accuracy: 52.797 %, elapse: 899.832ms\n",
      "Checkpointing Validation Model...\n"
     ]
    },
    {
     "data": {
      "application/vnd.jupyter.widget-view+json": {
       "model_id": "84583d060dc643b4acd4448b1566d99c",
       "version_major": 2,
       "version_minor": 0
      },
      "text/plain": [
       "HBox(children=(IntProgress(value=0, description='Epoch 18', max=227, style=ProgressStyle(description_width='in…"
      ]
     },
     "metadata": {},
     "output_type": "display_data"
    },
    {
     "name": "stdout",
     "output_type": "stream",
     "text": [
      "[ Epoch 18 ]\n",
      "[Training]  loss: 3.417452145880192, ppl:  30.49163, accuracy: 61.772 %, elapse: 62872.348ms\n",
      "[Validation]  loss: 3.0798077321307042,  ppl:  21.75422, accuracy: 53.299 %, elapse: 899.189ms\n",
      "Checkpointing Validation Model...\n"
     ]
    },
    {
     "data": {
      "application/vnd.jupyter.widget-view+json": {
       "model_id": "4a4901284f244609a8aac5245c388298",
       "version_major": 2,
       "version_minor": 0
      },
      "text/plain": [
       "HBox(children=(IntProgress(value=0, description='Epoch 19', max=227, style=ProgressStyle(description_width='in…"
      ]
     },
     "metadata": {},
     "output_type": "display_data"
    },
    {
     "name": "stdout",
     "output_type": "stream",
     "text": [
      "[ Epoch 19 ]\n",
      "[Training]  loss: 3.353798248410696, ppl:  28.61120, accuracy: 62.747 %, elapse: 62755.629ms\n",
      "[Validation]  loss: 3.0865037509402535,  ppl:  21.90037, accuracy: 53.414 %, elapse: 903.416ms\n",
      "Checkpointing Validation Model...\n"
     ]
    },
    {
     "data": {
      "application/vnd.jupyter.widget-view+json": {
       "model_id": "203c1f9ec17649139ba5f9c7861be291",
       "version_major": 2,
       "version_minor": 0
      },
      "text/plain": [
       "HBox(children=(IntProgress(value=0, description='Epoch 20', max=227, style=ProgressStyle(description_width='in…"
      ]
     },
     "metadata": {},
     "output_type": "display_data"
    },
    {
     "name": "stdout",
     "output_type": "stream",
     "text": [
      "[ Epoch 20 ]\n",
      "[Training]  loss: 3.291516870416551, ppl:  26.88361, accuracy: 63.770 %, elapse: 62905.492ms\n",
      "[Validation]  loss: 3.057862569903378,  ppl:  21.28202, accuracy: 53.156 %, elapse: 902.444ms\n"
     ]
    },
    {
     "data": {
      "application/vnd.jupyter.widget-view+json": {
       "model_id": "3dd2a51587d147fc9660b63e4c1959c8",
       "version_major": 2,
       "version_minor": 0
      },
      "text/plain": [
       "HBox(children=(IntProgress(value=0, description='Epoch 21', max=227, style=ProgressStyle(description_width='in…"
      ]
     },
     "metadata": {},
     "output_type": "display_data"
    },
    {
     "name": "stdout",
     "output_type": "stream",
     "text": [
      "[ Epoch 21 ]\n",
      "[Training]  loss: 3.2308629888999056, ppl:  25.30148, accuracy: 64.776 %, elapse: 62770.658ms\n",
      "[Validation]  loss: 3.025019910429651,  ppl:  20.59441, accuracy: 53.521 %, elapse: 899.750ms\n",
      "Checkpointing Validation Model...\n"
     ]
    },
    {
     "data": {
      "application/vnd.jupyter.widget-view+json": {
       "model_id": "75ed007deab94009acef00a0dd39141d",
       "version_major": 2,
       "version_minor": 0
      },
      "text/plain": [
       "HBox(children=(IntProgress(value=0, description='Epoch 22', max=227, style=ProgressStyle(description_width='in…"
      ]
     },
     "metadata": {},
     "output_type": "display_data"
    },
    {
     "name": "stdout",
     "output_type": "stream",
     "text": [
      "[ Epoch 22 ]\n",
      "[Training]  loss: 3.171966132266974, ppl:  23.85434, accuracy: 65.763 %, elapse: 62714.431ms\n",
      "[Validation]  loss: 3.057421511211405,  ppl:  21.27264, accuracy: 53.679 %, elapse: 900.906ms\n",
      "Checkpointing Validation Model...\n"
     ]
    },
    {
     "data": {
      "application/vnd.jupyter.widget-view+json": {
       "model_id": "57103fc379574c68bf67b6c63673513f",
       "version_major": 2,
       "version_minor": 0
      },
      "text/plain": [
       "HBox(children=(IntProgress(value=0, description='Epoch 23', max=227, style=ProgressStyle(description_width='in…"
      ]
     },
     "metadata": {},
     "output_type": "display_data"
    },
    {
     "name": "stdout",
     "output_type": "stream",
     "text": [
      "[ Epoch 23 ]\n",
      "[Training]  loss: 3.1163941959925805, ppl:  22.56487, accuracy: 66.723 %, elapse: 62309.328ms\n",
      "[Validation]  loss: 3.0611816860985743,  ppl:  21.35277, accuracy: 53.693 %, elapse: 899.066ms\n",
      "Checkpointing Validation Model...\n"
     ]
    },
    {
     "data": {
      "application/vnd.jupyter.widget-view+json": {
       "model_id": "1a1b527afa274a45aab4288c05597a98",
       "version_major": 2,
       "version_minor": 0
      },
      "text/plain": [
       "HBox(children=(IntProgress(value=0, description='Epoch 24', max=227, style=ProgressStyle(description_width='in…"
      ]
     },
     "metadata": {},
     "output_type": "display_data"
    },
    {
     "name": "stdout",
     "output_type": "stream",
     "text": [
      "[ Epoch 24 ]\n",
      "[Training]  loss: 3.0595907375453293, ppl:  21.31883, accuracy: 67.700 %, elapse: 62765.106ms\n",
      "[Validation]  loss: 3.033094198299484,  ppl:  20.76137, accuracy: 54.366 %, elapse: 899.578ms\n",
      "Checkpointing Validation Model...\n"
     ]
    },
    {
     "data": {
      "application/vnd.jupyter.widget-view+json": {
       "model_id": "79fe7f22509a4b79844b67a3dd0a0b3f",
       "version_major": 2,
       "version_minor": 0
      },
      "text/plain": [
       "HBox(children=(IntProgress(value=0, description='Epoch 25', max=227, style=ProgressStyle(description_width='in…"
      ]
     },
     "metadata": {},
     "output_type": "display_data"
    },
    {
     "name": "stdout",
     "output_type": "stream",
     "text": [
      "[ Epoch 25 ]\n",
      "[Training]  loss: 3.0079640168011736, ppl:  20.24614, accuracy: 68.573 %, elapse: 63059.067ms\n",
      "[Validation]  loss: 3.0568231139520203,  ppl:  21.25991, accuracy: 54.144 %, elapse: 901.091ms\n"
     ]
    },
    {
     "data": {
      "application/vnd.jupyter.widget-view+json": {
       "model_id": "b6e191485bf24f7b835ff3153d972917",
       "version_major": 2,
       "version_minor": 0
      },
      "text/plain": [
       "HBox(children=(IntProgress(value=0, description='Epoch 26', max=227, style=ProgressStyle(description_width='in…"
      ]
     },
     "metadata": {},
     "output_type": "display_data"
    },
    {
     "name": "stdout",
     "output_type": "stream",
     "text": [
      "[ Epoch 26 ]\n",
      "[Training]  loss: 2.9573720794054266, ppl:  19.24732, accuracy: 69.459 %, elapse: 62669.177ms\n",
      "[Validation]  loss: 3.051384579393223,  ppl:  21.14460, accuracy: 53.765 %, elapse: 900.339ms\n"
     ]
    },
    {
     "data": {
      "application/vnd.jupyter.widget-view+json": {
       "model_id": "b3162090d60646d7889c22f13159ebdb",
       "version_major": 2,
       "version_minor": 0
      },
      "text/plain": [
       "HBox(children=(IntProgress(value=0, description='Epoch 27', max=227, style=ProgressStyle(description_width='in…"
      ]
     },
     "metadata": {},
     "output_type": "display_data"
    },
    {
     "name": "stdout",
     "output_type": "stream",
     "text": [
      "[ Epoch 27 ]\n",
      "[Training]  loss: 2.907264680751677, ppl:  18.30666, accuracy: 70.346 %, elapse: 62876.373ms\n",
      "[Validation]  loss: 3.023755570163067,  ppl:  20.56839, accuracy: 54.144 %, elapse: 900.720ms\n"
     ]
    },
    {
     "data": {
      "application/vnd.jupyter.widget-view+json": {
       "model_id": "64124620d7f94d879cf64cdf9f297670",
       "version_major": 2,
       "version_minor": 0
      },
      "text/plain": [
       "HBox(children=(IntProgress(value=0, description='Epoch 28', max=227, style=ProgressStyle(description_width='in…"
      ]
     },
     "metadata": {},
     "output_type": "display_data"
    },
    {
     "name": "stdout",
     "output_type": "stream",
     "text": [
      "[ Epoch 28 ]\n",
      "[Training]  loss: 2.8561339292737955, ppl:  17.39415, accuracy: 71.267 %, elapse: 62640.442ms\n",
      "[Validation]  loss: 3.040335550205065,  ppl:  20.91226, accuracy: 54.266 %, elapse: 899.159ms\n"
     ]
    },
    {
     "data": {
      "application/vnd.jupyter.widget-view+json": {
       "model_id": "c261a019fd0048139cb4d275738f78fd",
       "version_major": 2,
       "version_minor": 0
      },
      "text/plain": [
       "HBox(children=(IntProgress(value=0, description='Epoch 29', max=227, style=ProgressStyle(description_width='in…"
      ]
     },
     "metadata": {},
     "output_type": "display_data"
    },
    {
     "name": "stdout",
     "output_type": "stream",
     "text": [
      "[ Epoch 29 ]\n",
      "[Training]  loss: 2.811232707694427, ppl:  16.63041, accuracy: 72.050 %, elapse: 62948.086ms\n",
      "[Validation]  loss: 3.0446501878828176,  ppl:  21.00268, accuracy: 54.417 %, elapse: 899.967ms\n",
      "Checkpointing Validation Model...\n"
     ]
    },
    {
     "data": {
      "application/vnd.jupyter.widget-view+json": {
       "model_id": "9943496ce9b245c988c3f8799f3368c1",
       "version_major": 2,
       "version_minor": 0
      },
      "text/plain": [
       "HBox(children=(IntProgress(value=0, description='Epoch 30', max=227, style=ProgressStyle(description_width='in…"
      ]
     },
     "metadata": {},
     "output_type": "display_data"
    },
    {
     "name": "stdout",
     "output_type": "stream",
     "text": [
      "[ Epoch 30 ]\n",
      "[Training]  loss: 2.766295042615599, ppl:  15.89962, accuracy: 72.803 %, elapse: 62849.457ms\n",
      "[Validation]  loss: 3.048543635322641,  ppl:  21.08462, accuracy: 54.660 %, elapse: 898.722ms\n",
      "Checkpointing Validation Model...\n"
     ]
    },
    {
     "data": {
      "application/vnd.jupyter.widget-view+json": {
       "model_id": "ef640aa3a94949d28ccf415f482b8d45",
       "version_major": 2,
       "version_minor": 0
      },
      "text/plain": [
       "HBox(children=(IntProgress(value=0, description='Epoch 31', max=227, style=ProgressStyle(description_width='in…"
      ]
     },
     "metadata": {},
     "output_type": "display_data"
    },
    {
     "name": "stdout",
     "output_type": "stream",
     "text": [
      "[ Epoch 31 ]\n",
      "[Training]  loss: 2.7213144256506467, ppl:  15.20029, accuracy: 73.659 %, elapse: 62595.737ms\n",
      "[Validation]  loss: 3.078574803610126,  ppl:  21.72741, accuracy: 54.696 %, elapse: 900.294ms\n",
      "Checkpointing Validation Model...\n"
     ]
    },
    {
     "data": {
      "application/vnd.jupyter.widget-view+json": {
       "model_id": "fe1575caeaf1441b8399d46328bb9fdf",
       "version_major": 2,
       "version_minor": 0
      },
      "text/plain": [
       "HBox(children=(IntProgress(value=0, description='Epoch 32', max=227, style=ProgressStyle(description_width='in…"
      ]
     },
     "metadata": {},
     "output_type": "display_data"
    },
    {
     "name": "stdout",
     "output_type": "stream",
     "text": [
      "[ Epoch 32 ]\n",
      "[Training]  loss: 2.676646051568525, ppl:  14.53626, accuracy: 74.516 %, elapse: 62809.583ms\n",
      "[Validation]  loss: 3.091830735323089,  ppl:  22.01735, accuracy: 54.273 %, elapse: 898.241ms\n"
     ]
    },
    {
     "data": {
      "application/vnd.jupyter.widget-view+json": {
       "model_id": "bc620f0319a24b91a54c8ba99597d7c7",
       "version_major": 2,
       "version_minor": 0
      },
      "text/plain": [
       "HBox(children=(IntProgress(value=0, description='Epoch 33', max=227, style=ProgressStyle(description_width='in…"
      ]
     },
     "metadata": {},
     "output_type": "display_data"
    },
    {
     "name": "stdout",
     "output_type": "stream",
     "text": [
      "[ Epoch 33 ]\n",
      "[Training]  loss: 2.635380696009296, ppl:  13.94862, accuracy: 75.226 %, elapse: 62817.650ms\n",
      "[Validation]  loss: 3.065088425813991,  ppl:  21.43636, accuracy: 54.667 %, elapse: 899.381ms\n"
     ]
    },
    {
     "data": {
      "application/vnd.jupyter.widget-view+json": {
       "model_id": "af97820488f74cea8538a735033333e1",
       "version_major": 2,
       "version_minor": 0
      },
      "text/plain": [
       "HBox(children=(IntProgress(value=0, description='Epoch 34', max=227, style=ProgressStyle(description_width='in…"
      ]
     },
     "metadata": {},
     "output_type": "display_data"
    },
    {
     "name": "stdout",
     "output_type": "stream",
     "text": [
      "[ Epoch 34 ]\n",
      "[Training]  loss: 2.5955309207385153, ppl:  13.40370, accuracy: 75.868 %, elapse: 62714.220ms\n",
      "[Validation]  loss: 3.075884901765886,  ppl:  21.66905, accuracy: 54.359 %, elapse: 901.710ms\n"
     ]
    },
    {
     "data": {
      "application/vnd.jupyter.widget-view+json": {
       "model_id": "62111003124a4270b78625fa8fe4d523",
       "version_major": 2,
       "version_minor": 0
      },
      "text/plain": [
       "HBox(children=(IntProgress(value=0, description='Epoch 35', max=227, style=ProgressStyle(description_width='in…"
      ]
     },
     "metadata": {},
     "output_type": "display_data"
    },
    {
     "name": "stdout",
     "output_type": "stream",
     "text": [
      "[ Epoch 35 ]\n",
      "[Training]  loss: 2.555540369113705, ppl:  12.87826, accuracy: 76.631 %, elapse: 62968.859ms\n",
      "[Validation]  loss: 3.069434929973494,  ppl:  21.52973, accuracy: 54.782 %, elapse: 898.213ms\n",
      "Checkpointing Validation Model...\n"
     ]
    },
    {
     "data": {
      "application/vnd.jupyter.widget-view+json": {
       "model_id": "1b552427e06e4b81a0fc4dd71684ae69",
       "version_major": 2,
       "version_minor": 0
      },
      "text/plain": [
       "HBox(children=(IntProgress(value=0, description='Epoch 36', max=227, style=ProgressStyle(description_width='in…"
      ]
     },
     "metadata": {},
     "output_type": "display_data"
    },
    {
     "name": "stdout",
     "output_type": "stream",
     "text": [
      "[ Epoch 36 ]\n",
      "[Training]  loss: 2.5160290404708068, ppl:  12.37934, accuracy: 77.334 %, elapse: 62880.538ms\n",
      "[Validation]  loss: 3.0907347522207895,  ppl:  21.99323, accuracy: 55.147 %, elapse: 900.972ms\n",
      "Checkpointing Validation Model...\n"
     ]
    },
    {
     "data": {
      "application/vnd.jupyter.widget-view+json": {
       "model_id": "4e20c4f29b534453831fdb786818fe7c",
       "version_major": 2,
       "version_minor": 0
      },
      "text/plain": [
       "HBox(children=(IntProgress(value=0, description='Epoch 37', max=227, style=ProgressStyle(description_width='in…"
      ]
     },
     "metadata": {},
     "output_type": "display_data"
    },
    {
     "name": "stdout",
     "output_type": "stream",
     "text": [
      "[ Epoch 37 ]\n",
      "[Training]  loss: 2.480366587020254, ppl:  11.94564, accuracy: 77.976 %, elapse: 62719.978ms\n",
      "[Validation]  loss: 3.1059780190535675,  ppl:  22.33105, accuracy: 54.653 %, elapse: 901.098ms\n"
     ]
    },
    {
     "data": {
      "application/vnd.jupyter.widget-view+json": {
       "model_id": "19f3a8c7107c46478daa828c3026e73c",
       "version_major": 2,
       "version_minor": 0
      },
      "text/plain": [
       "HBox(children=(IntProgress(value=0, description='Epoch 38', max=227, style=ProgressStyle(description_width='in…"
      ]
     },
     "metadata": {},
     "output_type": "display_data"
    },
    {
     "name": "stdout",
     "output_type": "stream",
     "text": [
      "[ Epoch 38 ]\n",
      "[Training]  loss: 2.4440151729382067, ppl:  11.51920, accuracy: 78.676 %, elapse: 62621.534ms\n",
      "[Validation]  loss: 3.130931957820671,  ppl:  22.89531, accuracy: 54.603 %, elapse: 905.002ms\n"
     ]
    },
    {
     "data": {
      "application/vnd.jupyter.widget-view+json": {
       "model_id": "847a8866ce8949c7b17e9efafaf4c17c",
       "version_major": 2,
       "version_minor": 0
      },
      "text/plain": [
       "HBox(children=(IntProgress(value=0, description='Epoch 39', max=227, style=ProgressStyle(description_width='in…"
      ]
     },
     "metadata": {},
     "output_type": "display_data"
    },
    {
     "name": "stdout",
     "output_type": "stream",
     "text": [
      "[ Epoch 39 ]\n",
      "[Training]  loss: 2.4066043645102333, ppl:  11.09622, accuracy: 79.378 %, elapse: 62556.738ms\n",
      "[Validation]  loss: 3.1300716677524356,  ppl:  22.87562, accuracy: 54.653 %, elapse: 917.993ms\n"
     ]
    },
    {
     "data": {
      "application/vnd.jupyter.widget-view+json": {
       "model_id": "d7840984451d4bf481dc84d77cbb11e6",
       "version_major": 2,
       "version_minor": 0
      },
      "text/plain": [
       "HBox(children=(IntProgress(value=0, description='Epoch 40', max=227, style=ProgressStyle(description_width='in…"
      ]
     },
     "metadata": {},
     "output_type": "display_data"
    },
    {
     "name": "stdout",
     "output_type": "stream",
     "text": [
      "[ Epoch 40 ]\n",
      "[Training]  loss: 2.37166661335434, ppl:  10.71524, accuracy: 79.958 %, elapse: 62806.269ms\n",
      "[Validation]  loss: 3.128873928782506,  ppl:  22.84824, accuracy: 54.904 %, elapse: 902.856ms\n"
     ]
    },
    {
     "data": {
      "application/vnd.jupyter.widget-view+json": {
       "model_id": "06b79bb7a5b34a7bb82a440c365051be",
       "version_major": 2,
       "version_minor": 0
      },
      "text/plain": [
       "HBox(children=(IntProgress(value=0, description='Epoch 41', max=227, style=ProgressStyle(description_width='in…"
      ]
     },
     "metadata": {},
     "output_type": "display_data"
    },
    {
     "name": "stdout",
     "output_type": "stream",
     "text": [
      "[ Epoch 41 ]\n",
      "[Training]  loss: 2.339608342409426, ppl:  10.37717, accuracy: 80.619 %, elapse: 62798.428ms\n",
      "[Validation]  loss: 3.126169720252167,  ppl:  22.78653, accuracy: 55.298 %, elapse: 901.376ms\n",
      "Checkpointing Validation Model...\n"
     ]
    },
    {
     "data": {
      "application/vnd.jupyter.widget-view+json": {
       "model_id": "056397fd306f42f6a48baf6014db4ac4",
       "version_major": 2,
       "version_minor": 0
      },
      "text/plain": [
       "HBox(children=(IntProgress(value=0, description='Epoch 42', max=227, style=ProgressStyle(description_width='in…"
      ]
     },
     "metadata": {},
     "output_type": "display_data"
    },
    {
     "name": "stdout",
     "output_type": "stream",
     "text": [
      "[ Epoch 42 ]\n",
      "[Training]  loss: 2.3057704804396466, ppl:  10.03190, accuracy: 81.219 %, elapse: 62750.147ms\n",
      "[Validation]  loss: 3.154124844970091,  ppl:  23.43252, accuracy: 54.925 %, elapse: 899.322ms\n"
     ]
    },
    {
     "data": {
      "application/vnd.jupyter.widget-view+json": {
       "model_id": "3cc93ee37cda48aa81cac9e7b7d20bfd",
       "version_major": 2,
       "version_minor": 0
      },
      "text/plain": [
       "HBox(children=(IntProgress(value=0, description='Epoch 43', max=227, style=ProgressStyle(description_width='in…"
      ]
     },
     "metadata": {},
     "output_type": "display_data"
    },
    {
     "name": "stdout",
     "output_type": "stream",
     "text": [
      "[ Epoch 43 ]\n",
      "[Training]  loss: 2.2770802726710504, ppl:  9.74818, accuracy: 81.706 %, elapse: 63141.242ms\n",
      "[Validation]  loss: 3.152339972195358,  ppl:  23.39073, accuracy: 55.033 %, elapse: 914.182ms\n"
     ]
    },
    {
     "data": {
      "application/vnd.jupyter.widget-view+json": {
       "model_id": "ef532f2c9fb84de08083a661e42a46d9",
       "version_major": 2,
       "version_minor": 0
      },
      "text/plain": [
       "HBox(children=(IntProgress(value=0, description='Epoch 44', max=227, style=ProgressStyle(description_width='in…"
      ]
     },
     "metadata": {},
     "output_type": "display_data"
    },
    {
     "name": "stdout",
     "output_type": "stream",
     "text": [
      "[ Epoch 44 ]\n",
      "[Training]  loss: 2.2432607621112335, ppl:  9.42401, accuracy: 82.410 %, elapse: 62756.275ms\n",
      "[Validation]  loss: 3.175580326760513,  ppl:  23.94071, accuracy: 54.818 %, elapse: 901.367ms\n"
     ]
    },
    {
     "data": {
      "application/vnd.jupyter.widget-view+json": {
       "model_id": "c9311144d93a458fa4cad6c659255b3b",
       "version_major": 2,
       "version_minor": 0
      },
      "text/plain": [
       "HBox(children=(IntProgress(value=0, description='Epoch 45', max=227, style=ProgressStyle(description_width='in…"
      ]
     },
     "metadata": {},
     "output_type": "display_data"
    },
    {
     "name": "stdout",
     "output_type": "stream",
     "text": [
      "[ Epoch 45 ]\n",
      "[Training]  loss: 2.216281681360717, ppl:  9.17316, accuracy: 82.921 %, elapse: 63131.145ms\n",
      "[Validation]  loss: 3.17959511868463,  ppl:  24.03702, accuracy: 54.875 %, elapse: 900.291ms\n"
     ]
    },
    {
     "data": {
      "application/vnd.jupyter.widget-view+json": {
       "model_id": "501f840707174b00874b18e1039c73e2",
       "version_major": 2,
       "version_minor": 0
      },
      "text/plain": [
       "HBox(children=(IntProgress(value=0, description='Epoch 46', max=227, style=ProgressStyle(description_width='in…"
      ]
     },
     "metadata": {},
     "output_type": "display_data"
    },
    {
     "name": "stdout",
     "output_type": "stream",
     "text": [
      "[ Epoch 46 ]\n",
      "[Training]  loss: 2.185835235953352, ppl:  8.89808, accuracy: 83.551 %, elapse: 62791.074ms\n",
      "[Validation]  loss: 3.1733583130171397,  ppl:  23.88757, accuracy: 55.298 %, elapse: 903.101ms\n"
     ]
    },
    {
     "data": {
      "application/vnd.jupyter.widget-view+json": {
       "model_id": "ae6427a5999e42df92342f889f11d5f4",
       "version_major": 2,
       "version_minor": 0
      },
      "text/plain": [
       "HBox(children=(IntProgress(value=0, description='Epoch 47', max=227, style=ProgressStyle(description_width='in…"
      ]
     },
     "metadata": {},
     "output_type": "display_data"
    },
    {
     "name": "stdout",
     "output_type": "stream",
     "text": [
      "[ Epoch 47 ]\n",
      "[Training]  loss: 2.1569908027534717, ppl:  8.64508, accuracy: 84.064 %, elapse: 62907.164ms\n",
      "[Validation]  loss: 3.2005433952221685,  ppl:  24.54586, accuracy: 55.333 %, elapse: 900.654ms\n",
      "Checkpointing Validation Model...\n"
     ]
    },
    {
     "data": {
      "application/vnd.jupyter.widget-view+json": {
       "model_id": "ddd9cd5fd8a84960829c625d6fafc528",
       "version_major": 2,
       "version_minor": 0
      },
      "text/plain": [
       "HBox(children=(IntProgress(value=0, description='Epoch 48', max=227, style=ProgressStyle(description_width='in…"
      ]
     },
     "metadata": {},
     "output_type": "display_data"
    },
    {
     "name": "stdout",
     "output_type": "stream",
     "text": [
      "[ Epoch 48 ]\n",
      "[Training]  loss: 2.127601170555993, ppl:  8.39471, accuracy: 84.720 %, elapse: 62784.837ms\n",
      "[Validation]  loss: 3.1910431609982806,  ppl:  24.31378, accuracy: 55.040 %, elapse: 899.151ms\n"
     ]
    },
    {
     "data": {
      "application/vnd.jupyter.widget-view+json": {
       "model_id": "5f65ef0f75c74f46b69ba1872f67429b",
       "version_major": 2,
       "version_minor": 0
      },
      "text/plain": [
       "HBox(children=(IntProgress(value=0, description='Epoch 49', max=227, style=ProgressStyle(description_width='in…"
      ]
     },
     "metadata": {},
     "output_type": "display_data"
    },
    {
     "name": "stdout",
     "output_type": "stream",
     "text": [
      "[ Epoch 49 ]\n",
      "[Training]  loss: 2.1024699563810847, ppl:  8.18636, accuracy: 85.206 %, elapse: 62871.950ms\n",
      "[Validation]  loss: 3.211829971367039,  ppl:  24.82447, accuracy: 54.939 %, elapse: 913.650ms\n",
      "\n"
     ]
    }
   ],
   "source": [
    "# Continuous space discretization\n",
    "timesteps = np.linspace(0., 1, num=6)\n",
    "timesteps = torch.from_numpy(timesteps).float()\n",
    "\n",
    "EPOCHS = 50\n",
    "LOG_INTERVAL = 5\n",
    "\n",
    "#from torch import autograd\n",
    "#with autograd.detect_anomaly():\n",
    "model_process.train(\n",
    "    exp_name, unique_id,\n",
    "    model, \n",
    "    train_loader, val_loader, timesteps,\n",
    "    optimizer, device,\n",
    "    epochs=EPOCHS, tb=tb, log_interval=LOG_INTERVAL,\n",
    "    #start_epoch=0, best_valid_accu=state[\"acc\"]\n",
    ")"
   ]
  },
  {
   "cell_type": "markdown",
   "metadata": {},
   "source": [
    "### Restore best checkpoint (to restart past training)"
   ]
  },
  {
   "cell_type": "code",
   "execution_count": null,
   "metadata": {},
   "outputs": [],
   "source": [
    "state = checkpoints.restore_best_checkpoint(\n",
    "    \"node_transformer_multi30k\", \"2019-05-29_1200\", \"validation\", model, optimizer)\n",
    "\n",
    "print(\"accuracy\", state[\"acc\"])\n",
    "print(\"loss\", state[\"loss\"])\n",
    "model = model.to(device)"
   ]
  }
 ],
 "metadata": {
  "kernelspec": {
   "display_name": "Python 3",
   "language": "python",
   "name": "python3"
  },
  "language_info": {
   "codemirror_mode": {
    "name": "ipython",
    "version": 3
   },
   "file_extension": ".py",
   "mimetype": "text/x-python",
   "name": "python",
   "nbconvert_exporter": "python",
   "pygments_lexer": "ipython3",
   "version": "3.6.8"
  }
 },
 "nbformat": 4,
 "nbformat_minor": 2
}
