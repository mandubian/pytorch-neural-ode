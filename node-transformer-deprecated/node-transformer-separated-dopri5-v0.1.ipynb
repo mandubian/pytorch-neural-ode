{
 "cells": [
  {
   "cell_type": "code",
   "execution_count": 1,
   "metadata": {},
   "outputs": [
    {
     "name": "stdout",
     "output_type": "stream",
     "text": [
      "Torch Version 1.1.0\n"
     ]
    }
   ],
   "source": [
    "import sys\n",
    "sys.path.append(\"../\")\n",
    "\n",
    "import numpy as np\n",
    "import torch\n",
    "import torch.utils.data\n",
    "import torch.nn as nn\n",
    "import torch.optim as optim\n",
    "\n",
    "import torchdiffeq\n",
    "\n",
    "from tensorboard_utils import Tensorboard\n",
    "from tensorboard_utils import tensorboard_event_accumulator\n",
    "\n",
    "import transformer.Constants as Constants\n",
    "from transformer.Layers import EncoderLayer, DecoderLayer\n",
    "from transformer.Modules import ScaledDotProductAttention\n",
    "from transformer.Models import Decoder, get_attn_key_pad_mask, get_non_pad_mask, get_sinusoid_encoding_table\n",
    "from transformer.SubLayers import PositionwiseFeedForward\n",
    "\n",
    "import dataset\n",
    "\n",
    "import model_process\n",
    "import checkpoints\n",
    "from node_transformer import NodeTransformer\n",
    "\n",
    "import matplotlib\n",
    "import numpy as np\n",
    "import matplotlib.pyplot as plt\n",
    "#%matplotlib notebook  \n",
    "%matplotlib inline\n",
    "%config InlineBackend.figure_format = 'retina'\n",
    "\n",
    "print(\"Torch Version\", torch.__version__)\n",
    "\n",
    "%load_ext autoreload\n",
    "%autoreload 2"
   ]
  },
  {
   "cell_type": "code",
   "execution_count": 2,
   "metadata": {},
   "outputs": [
    {
     "name": "stdout",
     "output_type": "stream",
     "text": [
      "device cuda\n"
     ]
    }
   ],
   "source": [
    "seed = 1\n",
    "torch.manual_seed(seed)\n",
    "device = torch.device(\"cuda\")\n",
    "print(\"device\", device)"
   ]
  },
  {
   "cell_type": "code",
   "execution_count": 3,
   "metadata": {},
   "outputs": [],
   "source": [
    "data = torch.load(\"/home/mandubian/datasets/multi30k/multi30k.atok.low.pt\")"
   ]
  },
  {
   "cell_type": "code",
   "execution_count": 4,
   "metadata": {},
   "outputs": [
    {
     "name": "stdout",
     "output_type": "stream",
     "text": [
      "52\n"
     ]
    }
   ],
   "source": [
    "max_token_seq_len = data['settings'].max_token_seq_len\n",
    "print(max_token_seq_len)"
   ]
  },
  {
   "cell_type": "code",
   "execution_count": 5,
   "metadata": {},
   "outputs": [],
   "source": [
    "train_loader, val_loader = dataset.prepare_dataloaders(data, batch_size=128)"
   ]
  },
  {
   "cell_type": "markdown",
   "metadata": {},
   "source": [
    "### Create an experiment with a name and a unique ID"
   ]
  },
  {
   "cell_type": "code",
   "execution_count": 6,
   "metadata": {},
   "outputs": [],
   "source": [
    "exp_name = \"transformer_6_layers\"\n",
    "unique_id = \"2019-06-20_2330\"\n"
   ]
  },
  {
   "cell_type": "markdown",
   "metadata": {},
   "source": [
    "### Create Model"
   ]
  },
  {
   "cell_type": "code",
   "execution_count": 7,
   "metadata": {},
   "outputs": [],
   "source": [
    "model = None"
   ]
  },
  {
   "cell_type": "code",
   "execution_count": 8,
   "metadata": {},
   "outputs": [
    {
     "name": "stdout",
     "output_type": "stream",
     "text": [
      "src_vocab_sz 9795\n",
      "tgt_vocab_sz 17989\n"
     ]
    }
   ],
   "source": [
    "from odeint_ext_adams import *\n",
    "\n",
    "src_vocab_sz = train_loader.dataset.src_vocab_size\n",
    "print(\"src_vocab_sz\", src_vocab_sz)\n",
    "tgt_vocab_sz = train_loader.dataset.tgt_vocab_size\n",
    "print(\"tgt_vocab_sz\", tgt_vocab_sz)\n",
    "\n",
    "if model:\n",
    "    del model\n",
    "\n",
    "RTOL = 0.01\n",
    "LR=1e-4\n",
    "N_HEAD=8\n",
    "N_LAYERS=6\n",
    "METHOD='dopri5-ext'\n",
    "HAS_NODE_ENCODER=False\n",
    "HAS_NODE_DECODER=False\n",
    "HAS_SEPARATED_NODE_DECODER=False\n",
    "ADD_TIME=False\n",
    "\n",
    "checkpoint_desc = {\n",
    "    #\"rtol\":RTOL,\n",
    "    \"lr\":LR,\n",
    "    \"n_layers\":N_LAYERS,\n",
    "    \"n_head\":N_HEAD,\n",
    "    #\"method\":METHOD,\n",
    "    \"has_node_encoder\":HAS_NODE_ENCODER,\n",
    "    \"has_node_decoder\":HAS_NODE_DECODER,\n",
    "    \"has_separated_node_encoder\":HAS_SEPARATED_NODE_DECODER,\n",
    "    \"add_time\": ADD_TIME,\n",
    "}\n",
    "\n",
    "model = NodeTransformer(\n",
    "    n_src_vocab=max(src_vocab_sz, tgt_vocab_sz),\n",
    "    n_tgt_vocab=max(src_vocab_sz, tgt_vocab_sz),\n",
    "    len_max_seq=max_token_seq_len,\n",
    "    #emb_src_tgt_weight_sharing=False,\n",
    "    #d_word_vec=256, d_model=256, d_inner=1024,\n",
    "    n_layers=N_LAYERS,\n",
    "    n_head=N_HEAD, method=METHOD, rtol=RTOL, atol=RTOL,\n",
    "    has_node_encoder=HAS_NODE_ENCODER, has_node_decoder=HAS_NODE_DECODER,\n",
    "    has_separated_node_decoder=HAS_SEPARATED_NODE_DECODER, add_time=ADD_TIME,\n",
    ")\n",
    "\n",
    "model = model.to(device)"
   ]
  },
  {
   "cell_type": "markdown",
   "metadata": {},
   "source": [
    "### Create Tensorboard metrics logger"
   ]
  },
  {
   "cell_type": "code",
   "execution_count": 9,
   "metadata": {},
   "outputs": [
    {
     "name": "stdout",
     "output_type": "stream",
     "text": [
      "Writing TensorBoard events locally to ../runs/transformer_6_layers_2019-06-20_2330\n"
     ]
    }
   ],
   "source": [
    "tb = Tensorboard(exp_name, unique_name=unique_id, output_dir=\"../runs\")"
   ]
  },
  {
   "cell_type": "markdown",
   "metadata": {},
   "source": [
    "### Create basic optimizer"
   ]
  },
  {
   "cell_type": "code",
   "execution_count": 10,
   "metadata": {},
   "outputs": [],
   "source": [
    "optimizer = optim.Adam(model.parameters(), lr=LR, betas=(0.9, 0.995), eps=1e-9)\n",
    "\n",
    "#optimizer = torch.optim.SGD(model.parameters(), lr=0.0001, momentum=0.9)\n"
   ]
  },
  {
   "cell_type": "markdown",
   "metadata": {},
   "source": [
    "### Train"
   ]
  },
  {
   "cell_type": "code",
   "execution_count": 11,
   "metadata": {},
   "outputs": [
    {
     "name": "stdout",
     "output_type": "stream",
     "text": [
      "Loaded model and timesteps to cuda\n"
     ]
    },
    {
     "data": {
      "application/vnd.jupyter.widget-view+json": {
       "model_id": "4f4b90c5585a435c8be5e3b14e707baf",
       "version_major": 2,
       "version_minor": 0
      },
      "text/plain": [
       "HBox(children=(IntProgress(value=0, description='Training', style=ProgressStyle(description_width='initial')),…"
      ]
     },
     "metadata": {},
     "output_type": "display_data"
    },
    {
     "data": {
      "application/vnd.jupyter.widget-view+json": {
       "model_id": "78173083bf75495d8686b71c2679d1b0",
       "version_major": 2,
       "version_minor": 0
      },
      "text/plain": [
       "HBox(children=(IntProgress(value=0, description='Epoch 0', max=227, style=ProgressStyle(description_width='ini…"
      ]
     },
     "metadata": {},
     "output_type": "display_data"
    },
    {
     "name": "stdout",
     "output_type": "stream",
     "text": [
      "[ Epoch 0 ]\n",
      "Adding group train to writers (dict_keys([]))\n",
      "[Training]  loss: 7.2235593511588565, ppl:  1371.36154, accuracy: 16.599 %, elapse: 61566.379ms\n",
      "Adding group eval to writers (dict_keys(['train']))\n",
      "[Validation]  loss: 5.975024863551293,  ppl:  393.47788, accuracy: 27.932 %, elapse: 886.642ms\n",
      "Checkpointing Validation Model...\n"
     ]
    },
    {
     "data": {
      "application/vnd.jupyter.widget-view+json": {
       "model_id": "d8eb9e28d855411ba4786649a06483e8",
       "version_major": 2,
       "version_minor": 0
      },
      "text/plain": [
       "HBox(children=(IntProgress(value=0, description='Epoch 1', max=227, style=ProgressStyle(description_width='ini…"
      ]
     },
     "metadata": {},
     "output_type": "display_data"
    },
    {
     "name": "stdout",
     "output_type": "stream",
     "text": [
      "[ Epoch 1 ]\n",
      "[Training]  loss: 6.131624574610461, ppl:  460.18316, accuracy: 30.963 %, elapse: 61741.634ms\n",
      "[Validation]  loss: 5.2839826120245,  ppl:  197.15350, accuracy: 33.047 %, elapse: 886.225ms\n",
      "Checkpointing Validation Model...\n"
     ]
    },
    {
     "data": {
      "application/vnd.jupyter.widget-view+json": {
       "model_id": "66658e84a5ea4bf88056c1570aa892bf",
       "version_major": 2,
       "version_minor": 0
      },
      "text/plain": [
       "HBox(children=(IntProgress(value=0, description='Epoch 2', max=227, style=ProgressStyle(description_width='ini…"
      ]
     },
     "metadata": {},
     "output_type": "display_data"
    },
    {
     "name": "stdout",
     "output_type": "stream",
     "text": [
      "[ Epoch 2 ]\n",
      "[Training]  loss: 5.611737301748947, ppl:  273.61918, accuracy: 35.105 %, elapse: 61829.323ms\n",
      "[Validation]  loss: 4.799503687417168,  ppl:  121.45013, accuracy: 36.256 %, elapse: 889.352ms\n",
      "Checkpointing Validation Model...\n"
     ]
    },
    {
     "data": {
      "application/vnd.jupyter.widget-view+json": {
       "model_id": "a47aa0bfdc6249369290d78977660bad",
       "version_major": 2,
       "version_minor": 0
      },
      "text/plain": [
       "HBox(children=(IntProgress(value=0, description='Epoch 3', max=227, style=ProgressStyle(description_width='ini…"
      ]
     },
     "metadata": {},
     "output_type": "display_data"
    },
    {
     "name": "stdout",
     "output_type": "stream",
     "text": [
      "[ Epoch 3 ]\n",
      "[Training]  loss: 5.249176728696815, ppl:  190.40945, accuracy: 38.443 %, elapse: 61881.548ms\n",
      "[Validation]  loss: 4.434336158571531,  ppl:  84.29615, accuracy: 39.802 %, elapse: 885.400ms\n",
      "Checkpointing Validation Model...\n"
     ]
    },
    {
     "data": {
      "application/vnd.jupyter.widget-view+json": {
       "model_id": "19db69867817469eb1792e2ccb01dac3",
       "version_major": 2,
       "version_minor": 0
      },
      "text/plain": [
       "HBox(children=(IntProgress(value=0, description='Epoch 4', max=227, style=ProgressStyle(description_width='ini…"
      ]
     },
     "metadata": {},
     "output_type": "display_data"
    },
    {
     "name": "stdout",
     "output_type": "stream",
     "text": [
      "[ Epoch 4 ]\n",
      "[Training]  loss: 4.970103780322496, ppl:  144.04184, accuracy: 41.545 %, elapse: 61515.407ms\n",
      "[Validation]  loss: 4.145467690815513,  ppl:  63.14715, accuracy: 42.919 %, elapse: 887.919ms\n",
      "Checkpointing Validation Model...\n"
     ]
    },
    {
     "data": {
      "application/vnd.jupyter.widget-view+json": {
       "model_id": "2574a4b060154253866e3e171cfa879a",
       "version_major": 2,
       "version_minor": 0
      },
      "text/plain": [
       "HBox(children=(IntProgress(value=0, description='Epoch 5', max=227, style=ProgressStyle(description_width='ini…"
      ]
     },
     "metadata": {},
     "output_type": "display_data"
    },
    {
     "name": "stdout",
     "output_type": "stream",
     "text": [
      "[ Epoch 5 ]\n",
      "[Training]  loss: 4.741854278772327, ppl:  114.64659, accuracy: 44.069 %, elapse: 61628.993ms\n",
      "[Validation]  loss: 3.9454950589113653,  ppl:  51.70193, accuracy: 44.588 %, elapse: 901.415ms\n",
      "Checkpointing Validation Model...\n"
     ]
    },
    {
     "data": {
      "application/vnd.jupyter.widget-view+json": {
       "model_id": "d09aa9baba244191a7fc9550d01bace6",
       "version_major": 2,
       "version_minor": 0
      },
      "text/plain": [
       "HBox(children=(IntProgress(value=0, description='Epoch 6', max=227, style=ProgressStyle(description_width='ini…"
      ]
     },
     "metadata": {},
     "output_type": "display_data"
    },
    {
     "name": "stdout",
     "output_type": "stream",
     "text": [
      "[ Epoch 6 ]\n",
      "[Training]  loss: 4.5556971131717985, ppl:  95.17308, accuracy: 46.124 %, elapse: 61227.118ms\n",
      "[Validation]  loss: 3.804431938511892,  ppl:  44.89974, accuracy: 46.056 %, elapse: 888.103ms\n",
      "Checkpointing Validation Model...\n"
     ]
    },
    {
     "data": {
      "application/vnd.jupyter.widget-view+json": {
       "model_id": "e811c660014d41e2a37dcf1edc42f67f",
       "version_major": 2,
       "version_minor": 0
      },
      "text/plain": [
       "HBox(children=(IntProgress(value=0, description='Epoch 7', max=227, style=ProgressStyle(description_width='ini…"
      ]
     },
     "metadata": {},
     "output_type": "display_data"
    },
    {
     "name": "stdout",
     "output_type": "stream",
     "text": [
      "[ Epoch 7 ]\n",
      "[Training]  loss: 4.403000811119757, ppl:  81.69565, accuracy: 47.906 %, elapse: 61592.751ms\n",
      "[Validation]  loss: 3.6607101880954938,  ppl:  38.88895, accuracy: 47.181 %, elapse: 892.708ms\n",
      "Checkpointing Validation Model...\n"
     ]
    },
    {
     "data": {
      "application/vnd.jupyter.widget-view+json": {
       "model_id": "6bcf218fc9fd47dcab2efdf952371146",
       "version_major": 2,
       "version_minor": 0
      },
      "text/plain": [
       "HBox(children=(IntProgress(value=0, description='Epoch 8', max=227, style=ProgressStyle(description_width='ini…"
      ]
     },
     "metadata": {},
     "output_type": "display_data"
    },
    {
     "name": "stdout",
     "output_type": "stream",
     "text": [
      "[ Epoch 8 ]\n",
      "[Training]  loss: 4.269500272654117, ppl:  71.48590, accuracy: 49.554 %, elapse: 61653.779ms\n",
      "[Validation]  loss: 3.5257453888396375,  ppl:  33.97909, accuracy: 48.241 %, elapse: 899.850ms\n",
      "Checkpointing Validation Model...\n"
     ]
    },
    {
     "data": {
      "application/vnd.jupyter.widget-view+json": {
       "model_id": "dc61065dac114ac194133d6f53096678",
       "version_major": 2,
       "version_minor": 0
      },
      "text/plain": [
       "HBox(children=(IntProgress(value=0, description='Epoch 9', max=227, style=ProgressStyle(description_width='ini…"
      ]
     },
     "metadata": {},
     "output_type": "display_data"
    },
    {
     "name": "stdout",
     "output_type": "stream",
     "text": [
      "[ Epoch 9 ]\n",
      "[Training]  loss: 4.153875382076213, ppl:  63.68031, accuracy: 51.029 %, elapse: 61861.103ms\n",
      "[Validation]  loss: 3.4440650549152876,  ppl:  31.31399, accuracy: 48.986 %, elapse: 888.685ms\n",
      "Checkpointing Validation Model...\n"
     ]
    },
    {
     "data": {
      "application/vnd.jupyter.widget-view+json": {
       "model_id": "d3a6b19f49e24db780a2d59c48dbd20f",
       "version_major": 2,
       "version_minor": 0
      },
      "text/plain": [
       "HBox(children=(IntProgress(value=0, description='Epoch 10', max=227, style=ProgressStyle(description_width='in…"
      ]
     },
     "metadata": {},
     "output_type": "display_data"
    },
    {
     "name": "stdout",
     "output_type": "stream",
     "text": [
      "[ Epoch 10 ]\n",
      "[Training]  loss: 4.049625650546544, ppl:  57.37597, accuracy: 52.437 %, elapse: 61895.532ms\n",
      "[Validation]  loss: 3.3790054523515294,  ppl:  29.34158, accuracy: 49.953 %, elapse: 887.341ms\n",
      "Checkpointing Validation Model...\n"
     ]
    },
    {
     "data": {
      "application/vnd.jupyter.widget-view+json": {
       "model_id": "9d4ccaf9ce0645c8a86e0675bfc16639",
       "version_major": 2,
       "version_minor": 0
      },
      "text/plain": [
       "HBox(children=(IntProgress(value=0, description='Epoch 11', max=227, style=ProgressStyle(description_width='in…"
      ]
     },
     "metadata": {},
     "output_type": "display_data"
    },
    {
     "name": "stdout",
     "output_type": "stream",
     "text": [
      "[ Epoch 11 ]\n",
      "[Training]  loss: 3.954736531867953, ppl:  52.18194, accuracy: 53.670 %, elapse: 62236.721ms\n",
      "[Validation]  loss: 3.3172995258995095,  ppl:  27.58576, accuracy: 50.340 %, elapse: 909.275ms\n",
      "Checkpointing Validation Model...\n"
     ]
    },
    {
     "data": {
      "application/vnd.jupyter.widget-view+json": {
       "model_id": "b4006ec5245148c4b9c3ecea2d7f5487",
       "version_major": 2,
       "version_minor": 0
      },
      "text/plain": [
       "HBox(children=(IntProgress(value=0, description='Epoch 12', max=227, style=ProgressStyle(description_width='in…"
      ]
     },
     "metadata": {},
     "output_type": "display_data"
    },
    {
     "name": "stdout",
     "output_type": "stream",
     "text": [
      "[ Epoch 12 ]\n",
      "[Training]  loss: 3.8644316215776335, ppl:  47.67617, accuracy: 54.984 %, elapse: 61240.938ms\n",
      "[Validation]  loss: 3.268442962425675,  ppl:  26.27040, accuracy: 51.035 %, elapse: 902.026ms\n",
      "Checkpointing Validation Model...\n"
     ]
    },
    {
     "data": {
      "application/vnd.jupyter.widget-view+json": {
       "model_id": "050019b5118043058221f7ae15776f44",
       "version_major": 2,
       "version_minor": 0
      },
      "text/plain": [
       "HBox(children=(IntProgress(value=0, description='Epoch 13', max=227, style=ProgressStyle(description_width='in…"
      ]
     },
     "metadata": {},
     "output_type": "display_data"
    },
    {
     "name": "stdout",
     "output_type": "stream",
     "text": [
      "[ Epoch 13 ]\n",
      "[Training]  loss: 3.7836560495446614, ppl:  43.97653, accuracy: 56.116 %, elapse: 61776.531ms\n",
      "[Validation]  loss: 3.221307188966348,  ppl:  25.06086, accuracy: 51.408 %, elapse: 886.904ms\n",
      "Checkpointing Validation Model...\n"
     ]
    },
    {
     "data": {
      "application/vnd.jupyter.widget-view+json": {
       "model_id": "e2d3651eef6f444e8cdaa4dc8a14051c",
       "version_major": 2,
       "version_minor": 0
      },
      "text/plain": [
       "HBox(children=(IntProgress(value=0, description='Epoch 14', max=227, style=ProgressStyle(description_width='in…"
      ]
     },
     "metadata": {},
     "output_type": "display_data"
    },
    {
     "name": "stdout",
     "output_type": "stream",
     "text": [
      "[ Epoch 14 ]\n",
      "[Training]  loss: 3.7020620794527606, ppl:  40.53080, accuracy: 57.324 %, elapse: 61467.325ms\n",
      "[Validation]  loss: 3.178625622078498,  ppl:  24.01373, accuracy: 51.873 %, elapse: 889.173ms\n",
      "Checkpointing Validation Model...\n"
     ]
    },
    {
     "data": {
      "application/vnd.jupyter.widget-view+json": {
       "model_id": "a696af1903fd4145a1c4598dc8dea1b5",
       "version_major": 2,
       "version_minor": 0
      },
      "text/plain": [
       "HBox(children=(IntProgress(value=0, description='Epoch 15', max=227, style=ProgressStyle(description_width='in…"
      ]
     },
     "metadata": {},
     "output_type": "display_data"
    },
    {
     "name": "stdout",
     "output_type": "stream",
     "text": [
      "[ Epoch 15 ]\n",
      "[Training]  loss: 3.626175195168419, ppl:  37.56885, accuracy: 58.479 %, elapse: 61280.264ms\n",
      "[Validation]  loss: 3.181361767049932,  ppl:  24.07952, accuracy: 52.031 %, elapse: 889.200ms\n",
      "Checkpointing Validation Model...\n"
     ]
    },
    {
     "data": {
      "application/vnd.jupyter.widget-view+json": {
       "model_id": "d3eb192fedb145eda0a45ae3358895e7",
       "version_major": 2,
       "version_minor": 0
      },
      "text/plain": [
       "HBox(children=(IntProgress(value=0, description='Epoch 16', max=227, style=ProgressStyle(description_width='in…"
      ]
     },
     "metadata": {},
     "output_type": "display_data"
    },
    {
     "name": "stdout",
     "output_type": "stream",
     "text": [
      "[ Epoch 16 ]\n",
      "[Training]  loss: 3.5552920700777126, ppl:  34.99804, accuracy: 59.516 %, elapse: 62018.015ms\n",
      "[Validation]  loss: 3.129823591914267,  ppl:  22.86994, accuracy: 52.583 %, elapse: 886.944ms\n",
      "Checkpointing Validation Model...\n"
     ]
    },
    {
     "data": {
      "application/vnd.jupyter.widget-view+json": {
       "model_id": "ec1f3ddf6cc64319899e92c6ed13d57d",
       "version_major": 2,
       "version_minor": 0
      },
      "text/plain": [
       "HBox(children=(IntProgress(value=0, description='Epoch 17', max=227, style=ProgressStyle(description_width='in…"
      ]
     },
     "metadata": {},
     "output_type": "display_data"
    },
    {
     "name": "stdout",
     "output_type": "stream",
     "text": [
      "[ Epoch 17 ]\n",
      "[Training]  loss: 3.485296185512063, ppl:  32.63209, accuracy: 60.653 %, elapse: 61636.351ms\n",
      "[Validation]  loss: 3.1065540643021525,  ppl:  22.34392, accuracy: 52.797 %, elapse: 888.376ms\n",
      "Checkpointing Validation Model...\n"
     ]
    },
    {
     "data": {
      "application/vnd.jupyter.widget-view+json": {
       "model_id": "362197b4f9f9435697dfebe6084cfd28",
       "version_major": 2,
       "version_minor": 0
      },
      "text/plain": [
       "HBox(children=(IntProgress(value=0, description='Epoch 18', max=227, style=ProgressStyle(description_width='in…"
      ]
     },
     "metadata": {},
     "output_type": "display_data"
    },
    {
     "name": "stdout",
     "output_type": "stream",
     "text": [
      "[ Epoch 18 ]\n",
      "[Training]  loss: 3.417452145880192, ppl:  30.49163, accuracy: 61.772 %, elapse: 61733.647ms\n",
      "[Validation]  loss: 3.0798077321307042,  ppl:  21.75422, accuracy: 53.299 %, elapse: 888.237ms\n",
      "Checkpointing Validation Model...\n"
     ]
    },
    {
     "data": {
      "application/vnd.jupyter.widget-view+json": {
       "model_id": "b985ad9ffb3f4e28af7e369cc75f5646",
       "version_major": 2,
       "version_minor": 0
      },
      "text/plain": [
       "HBox(children=(IntProgress(value=0, description='Epoch 19', max=227, style=ProgressStyle(description_width='in…"
      ]
     },
     "metadata": {},
     "output_type": "display_data"
    },
    {
     "name": "stdout",
     "output_type": "stream",
     "text": [
      "[ Epoch 19 ]\n",
      "[Training]  loss: 3.353798248410696, ppl:  28.61120, accuracy: 62.747 %, elapse: 61543.150ms\n",
      "[Validation]  loss: 3.0865037509402535,  ppl:  21.90037, accuracy: 53.414 %, elapse: 887.147ms\n",
      "Checkpointing Validation Model...\n"
     ]
    },
    {
     "data": {
      "application/vnd.jupyter.widget-view+json": {
       "model_id": "e18a945a12c6401e85a8deb78d52dd4f",
       "version_major": 2,
       "version_minor": 0
      },
      "text/plain": [
       "HBox(children=(IntProgress(value=0, description='Epoch 20', max=227, style=ProgressStyle(description_width='in…"
      ]
     },
     "metadata": {},
     "output_type": "display_data"
    },
    {
     "name": "stdout",
     "output_type": "stream",
     "text": [
      "[ Epoch 20 ]\n",
      "[Training]  loss: 3.291516870416551, ppl:  26.88361, accuracy: 63.770 %, elapse: 61766.417ms\n",
      "[Validation]  loss: 3.057862569903378,  ppl:  21.28202, accuracy: 53.156 %, elapse: 901.946ms\n"
     ]
    },
    {
     "data": {
      "application/vnd.jupyter.widget-view+json": {
       "model_id": "0c1f57a7c6174c3aa82f703163b79d15",
       "version_major": 2,
       "version_minor": 0
      },
      "text/plain": [
       "HBox(children=(IntProgress(value=0, description='Epoch 21', max=227, style=ProgressStyle(description_width='in…"
      ]
     },
     "metadata": {},
     "output_type": "display_data"
    },
    {
     "name": "stdout",
     "output_type": "stream",
     "text": [
      "[ Epoch 21 ]\n",
      "[Training]  loss: 3.2308629888999056, ppl:  25.30148, accuracy: 64.776 %, elapse: 61564.438ms\n",
      "[Validation]  loss: 3.025019910429651,  ppl:  20.59441, accuracy: 53.521 %, elapse: 907.845ms\n",
      "Checkpointing Validation Model...\n"
     ]
    },
    {
     "data": {
      "application/vnd.jupyter.widget-view+json": {
       "model_id": "3434197005344efd882a590ef0345d69",
       "version_major": 2,
       "version_minor": 0
      },
      "text/plain": [
       "HBox(children=(IntProgress(value=0, description='Epoch 22', max=227, style=ProgressStyle(description_width='in…"
      ]
     },
     "metadata": {},
     "output_type": "display_data"
    },
    {
     "name": "stdout",
     "output_type": "stream",
     "text": [
      "[ Epoch 22 ]\n",
      "[Training]  loss: 3.171966132266974, ppl:  23.85434, accuracy: 65.763 %, elapse: 61511.059ms\n",
      "[Validation]  loss: 3.057421511211405,  ppl:  21.27264, accuracy: 53.679 %, elapse: 900.449ms\n",
      "Checkpointing Validation Model...\n"
     ]
    },
    {
     "data": {
      "application/vnd.jupyter.widget-view+json": {
       "model_id": "7a42c06daa4342b4a16245bc43c8286e",
       "version_major": 2,
       "version_minor": 0
      },
      "text/plain": [
       "HBox(children=(IntProgress(value=0, description='Epoch 23', max=227, style=ProgressStyle(description_width='in…"
      ]
     },
     "metadata": {},
     "output_type": "display_data"
    },
    {
     "name": "stdout",
     "output_type": "stream",
     "text": [
      "[ Epoch 23 ]\n",
      "[Training]  loss: 3.1163941959925805, ppl:  22.56487, accuracy: 66.723 %, elapse: 61124.784ms\n",
      "[Validation]  loss: 3.0611816860985743,  ppl:  21.35277, accuracy: 53.693 %, elapse: 886.142ms\n",
      "Checkpointing Validation Model...\n"
     ]
    },
    {
     "data": {
      "application/vnd.jupyter.widget-view+json": {
       "model_id": "04e125ccded14b99a0855d9f63e2444d",
       "version_major": 2,
       "version_minor": 0
      },
      "text/plain": [
       "HBox(children=(IntProgress(value=0, description='Epoch 24', max=227, style=ProgressStyle(description_width='in…"
      ]
     },
     "metadata": {},
     "output_type": "display_data"
    },
    {
     "name": "stdout",
     "output_type": "stream",
     "text": [
      "[ Epoch 24 ]\n",
      "[Training]  loss: 3.0595907375453293, ppl:  21.31883, accuracy: 67.700 %, elapse: 61677.086ms\n",
      "[Validation]  loss: 3.033094198299484,  ppl:  20.76137, accuracy: 54.366 %, elapse: 887.021ms\n",
      "Checkpointing Validation Model...\n"
     ]
    },
    {
     "data": {
      "application/vnd.jupyter.widget-view+json": {
       "model_id": "b28a3378ec934ec7b82647cb411583a7",
       "version_major": 2,
       "version_minor": 0
      },
      "text/plain": [
       "HBox(children=(IntProgress(value=0, description='Epoch 25', max=227, style=ProgressStyle(description_width='in…"
      ]
     },
     "metadata": {},
     "output_type": "display_data"
    },
    {
     "name": "stdout",
     "output_type": "stream",
     "text": [
      "[ Epoch 25 ]\n",
      "[Training]  loss: 3.0079640168011736, ppl:  20.24614, accuracy: 68.573 %, elapse: 61956.717ms\n",
      "[Validation]  loss: 3.0568231139520203,  ppl:  21.25991, accuracy: 54.144 %, elapse: 887.208ms\n"
     ]
    },
    {
     "data": {
      "application/vnd.jupyter.widget-view+json": {
       "model_id": "bd2db513e3cb4d8f9d418b8e8e1d125c",
       "version_major": 2,
       "version_minor": 0
      },
      "text/plain": [
       "HBox(children=(IntProgress(value=0, description='Epoch 26', max=227, style=ProgressStyle(description_width='in…"
      ]
     },
     "metadata": {},
     "output_type": "display_data"
    },
    {
     "name": "stdout",
     "output_type": "stream",
     "text": [
      "[ Epoch 26 ]\n",
      "[Training]  loss: 2.9573720794054266, ppl:  19.24732, accuracy: 69.459 %, elapse: 61530.807ms\n",
      "[Validation]  loss: 3.051384579393223,  ppl:  21.14460, accuracy: 53.765 %, elapse: 887.437ms\n"
     ]
    },
    {
     "data": {
      "application/vnd.jupyter.widget-view+json": {
       "model_id": "31b5690474da48bca4841784149d3438",
       "version_major": 2,
       "version_minor": 0
      },
      "text/plain": [
       "HBox(children=(IntProgress(value=0, description='Epoch 27', max=227, style=ProgressStyle(description_width='in…"
      ]
     },
     "metadata": {},
     "output_type": "display_data"
    },
    {
     "name": "stdout",
     "output_type": "stream",
     "text": [
      "[ Epoch 27 ]\n",
      "[Training]  loss: 2.907264680751677, ppl:  18.30666, accuracy: 70.346 %, elapse: 61767.996ms\n",
      "[Validation]  loss: 3.023755570163067,  ppl:  20.56839, accuracy: 54.144 %, elapse: 888.344ms\n"
     ]
    },
    {
     "data": {
      "application/vnd.jupyter.widget-view+json": {
       "model_id": "ae74167214bf42ab8c90aa384e711d87",
       "version_major": 2,
       "version_minor": 0
      },
      "text/plain": [
       "HBox(children=(IntProgress(value=0, description='Epoch 28', max=227, style=ProgressStyle(description_width='in…"
      ]
     },
     "metadata": {},
     "output_type": "display_data"
    },
    {
     "name": "stdout",
     "output_type": "stream",
     "text": [
      "[ Epoch 28 ]\n",
      "[Training]  loss: 2.8561339292737955, ppl:  17.39415, accuracy: 71.267 %, elapse: 61525.572ms\n",
      "[Validation]  loss: 3.040335550205065,  ppl:  20.91226, accuracy: 54.266 %, elapse: 888.879ms\n"
     ]
    },
    {
     "data": {
      "application/vnd.jupyter.widget-view+json": {
       "model_id": "dc8de4e675e449748b1eb2ab9ed734ba",
       "version_major": 2,
       "version_minor": 0
      },
      "text/plain": [
       "HBox(children=(IntProgress(value=0, description='Epoch 29', max=227, style=ProgressStyle(description_width='in…"
      ]
     },
     "metadata": {},
     "output_type": "display_data"
    },
    {
     "name": "stdout",
     "output_type": "stream",
     "text": [
      "[ Epoch 29 ]\n",
      "[Training]  loss: 2.811232707694427, ppl:  16.63041, accuracy: 72.050 %, elapse: 61771.679ms\n",
      "[Validation]  loss: 3.0446501878828176,  ppl:  21.00268, accuracy: 54.417 %, elapse: 886.931ms\n",
      "Checkpointing Validation Model...\n"
     ]
    },
    {
     "data": {
      "application/vnd.jupyter.widget-view+json": {
       "model_id": "5573e30c79e4407a99e35886c5700efd",
       "version_major": 2,
       "version_minor": 0
      },
      "text/plain": [
       "HBox(children=(IntProgress(value=0, description='Epoch 30', max=227, style=ProgressStyle(description_width='in…"
      ]
     },
     "metadata": {},
     "output_type": "display_data"
    },
    {
     "name": "stdout",
     "output_type": "stream",
     "text": [
      "[ Epoch 30 ]\n",
      "[Training]  loss: 2.766295042615599, ppl:  15.89962, accuracy: 72.803 %, elapse: 61931.606ms\n",
      "[Validation]  loss: 3.048543635322641,  ppl:  21.08462, accuracy: 54.660 %, elapse: 903.055ms\n",
      "Checkpointing Validation Model...\n"
     ]
    },
    {
     "data": {
      "application/vnd.jupyter.widget-view+json": {
       "model_id": "7746adec0c3047ea88399bc74bb31fd2",
       "version_major": 2,
       "version_minor": 0
      },
      "text/plain": [
       "HBox(children=(IntProgress(value=0, description='Epoch 31', max=227, style=ProgressStyle(description_width='in…"
      ]
     },
     "metadata": {},
     "output_type": "display_data"
    },
    {
     "name": "stdout",
     "output_type": "stream",
     "text": [
      "[ Epoch 31 ]\n",
      "[Training]  loss: 2.7213144256506467, ppl:  15.20029, accuracy: 73.659 %, elapse: 61374.191ms\n",
      "[Validation]  loss: 3.078574803610126,  ppl:  21.72741, accuracy: 54.696 %, elapse: 894.747ms\n",
      "Checkpointing Validation Model...\n"
     ]
    },
    {
     "data": {
      "application/vnd.jupyter.widget-view+json": {
       "model_id": "e909f18e1af24102bd179eb2295e88c9",
       "version_major": 2,
       "version_minor": 0
      },
      "text/plain": [
       "HBox(children=(IntProgress(value=0, description='Epoch 32', max=227, style=ProgressStyle(description_width='in…"
      ]
     },
     "metadata": {},
     "output_type": "display_data"
    },
    {
     "name": "stdout",
     "output_type": "stream",
     "text": [
      "[ Epoch 32 ]\n",
      "[Training]  loss: 2.676646051568525, ppl:  14.53626, accuracy: 74.516 %, elapse: 61708.758ms\n",
      "[Validation]  loss: 3.091830735323089,  ppl:  22.01735, accuracy: 54.273 %, elapse: 889.571ms\n"
     ]
    },
    {
     "data": {
      "application/vnd.jupyter.widget-view+json": {
       "model_id": "681fc1231e0e452ab31997e4de868a8d",
       "version_major": 2,
       "version_minor": 0
      },
      "text/plain": [
       "HBox(children=(IntProgress(value=0, description='Epoch 33', max=227, style=ProgressStyle(description_width='in…"
      ]
     },
     "metadata": {},
     "output_type": "display_data"
    },
    {
     "name": "stdout",
     "output_type": "stream",
     "text": [
      "[ Epoch 33 ]\n",
      "[Training]  loss: 2.635380696009296, ppl:  13.94862, accuracy: 75.226 %, elapse: 61801.278ms\n",
      "[Validation]  loss: 3.065088425813991,  ppl:  21.43636, accuracy: 54.667 %, elapse: 890.943ms\n"
     ]
    },
    {
     "data": {
      "application/vnd.jupyter.widget-view+json": {
       "model_id": "54c5dc12cf05413db20982dd5f9edb2f",
       "version_major": 2,
       "version_minor": 0
      },
      "text/plain": [
       "HBox(children=(IntProgress(value=0, description='Epoch 34', max=227, style=ProgressStyle(description_width='in…"
      ]
     },
     "metadata": {},
     "output_type": "display_data"
    },
    {
     "name": "stdout",
     "output_type": "stream",
     "text": [
      "[ Epoch 34 ]\n",
      "[Training]  loss: 2.5955309207385153, ppl:  13.40370, accuracy: 75.868 %, elapse: 61728.124ms\n",
      "[Validation]  loss: 3.075884901765886,  ppl:  21.66905, accuracy: 54.359 %, elapse: 905.097ms\n"
     ]
    },
    {
     "data": {
      "application/vnd.jupyter.widget-view+json": {
       "model_id": "54225d791c084373bc3dad1b6d260d4c",
       "version_major": 2,
       "version_minor": 0
      },
      "text/plain": [
       "HBox(children=(IntProgress(value=0, description='Epoch 35', max=227, style=ProgressStyle(description_width='in…"
      ]
     },
     "metadata": {},
     "output_type": "display_data"
    },
    {
     "name": "stdout",
     "output_type": "stream",
     "text": [
      "[ Epoch 35 ]\n",
      "[Training]  loss: 2.555540369113705, ppl:  12.87826, accuracy: 76.631 %, elapse: 61893.173ms\n",
      "[Validation]  loss: 3.069434929973494,  ppl:  21.52973, accuracy: 54.782 %, elapse: 894.484ms\n",
      "Checkpointing Validation Model...\n"
     ]
    },
    {
     "data": {
      "application/vnd.jupyter.widget-view+json": {
       "model_id": "df63276ae7ca45528557d86b0230c08d",
       "version_major": 2,
       "version_minor": 0
      },
      "text/plain": [
       "HBox(children=(IntProgress(value=0, description='Epoch 36', max=227, style=ProgressStyle(description_width='in…"
      ]
     },
     "metadata": {},
     "output_type": "display_data"
    },
    {
     "name": "stdout",
     "output_type": "stream",
     "text": [
      "[ Epoch 36 ]\n",
      "[Training]  loss: 2.5160290404708068, ppl:  12.37934, accuracy: 77.334 %, elapse: 61692.509ms\n",
      "[Validation]  loss: 3.0907347522207895,  ppl:  21.99323, accuracy: 55.147 %, elapse: 888.752ms\n",
      "Checkpointing Validation Model...\n"
     ]
    },
    {
     "data": {
      "application/vnd.jupyter.widget-view+json": {
       "model_id": "b7a584bd281b4785ab20a9e184ffeea2",
       "version_major": 2,
       "version_minor": 0
      },
      "text/plain": [
       "HBox(children=(IntProgress(value=0, description='Epoch 37', max=227, style=ProgressStyle(description_width='in…"
      ]
     },
     "metadata": {},
     "output_type": "display_data"
    },
    {
     "name": "stdout",
     "output_type": "stream",
     "text": [
      "[ Epoch 37 ]\n",
      "[Training]  loss: 2.480366587020254, ppl:  11.94564, accuracy: 77.976 %, elapse: 61651.067ms\n",
      "[Validation]  loss: 3.1059780190535675,  ppl:  22.33105, accuracy: 54.653 %, elapse: 885.491ms\n"
     ]
    },
    {
     "data": {
      "application/vnd.jupyter.widget-view+json": {
       "model_id": "54d9fb6d135a4abfb8230620df85a6ea",
       "version_major": 2,
       "version_minor": 0
      },
      "text/plain": [
       "HBox(children=(IntProgress(value=0, description='Epoch 38', max=227, style=ProgressStyle(description_width='in…"
      ]
     },
     "metadata": {},
     "output_type": "display_data"
    },
    {
     "name": "stdout",
     "output_type": "stream",
     "text": [
      "[ Epoch 38 ]\n",
      "[Training]  loss: 2.4440151729382067, ppl:  11.51920, accuracy: 78.676 %, elapse: 61409.153ms\n",
      "[Validation]  loss: 3.130931957820671,  ppl:  22.89531, accuracy: 54.603 %, elapse: 890.444ms\n"
     ]
    },
    {
     "data": {
      "application/vnd.jupyter.widget-view+json": {
       "model_id": "99ec9c6ef7a54569825ecc506fa71e10",
       "version_major": 2,
       "version_minor": 0
      },
      "text/plain": [
       "HBox(children=(IntProgress(value=0, description='Epoch 39', max=227, style=ProgressStyle(description_width='in…"
      ]
     },
     "metadata": {},
     "output_type": "display_data"
    },
    {
     "name": "stdout",
     "output_type": "stream",
     "text": [
      "[ Epoch 39 ]\n",
      "[Training]  loss: 2.4066043645102333, ppl:  11.09622, accuracy: 79.378 %, elapse: 61310.510ms\n",
      "[Validation]  loss: 3.1300716677524356,  ppl:  22.87562, accuracy: 54.653 %, elapse: 887.732ms\n"
     ]
    },
    {
     "data": {
      "application/vnd.jupyter.widget-view+json": {
       "model_id": "447d66abb7a6420f968152cefcd1e3e4",
       "version_major": 2,
       "version_minor": 0
      },
      "text/plain": [
       "HBox(children=(IntProgress(value=0, description='Epoch 40', max=227, style=ProgressStyle(description_width='in…"
      ]
     },
     "metadata": {},
     "output_type": "display_data"
    },
    {
     "name": "stdout",
     "output_type": "stream",
     "text": [
      "[ Epoch 40 ]\n",
      "[Training]  loss: 2.37166661335434, ppl:  10.71524, accuracy: 79.958 %, elapse: 61641.054ms\n",
      "[Validation]  loss: 3.128873928782506,  ppl:  22.84824, accuracy: 54.904 %, elapse: 903.072ms\n"
     ]
    },
    {
     "data": {
      "application/vnd.jupyter.widget-view+json": {
       "model_id": "04c8a6fbcbb94d85a2104b922f689cbc",
       "version_major": 2,
       "version_minor": 0
      },
      "text/plain": [
       "HBox(children=(IntProgress(value=0, description='Epoch 41', max=227, style=ProgressStyle(description_width='in…"
      ]
     },
     "metadata": {},
     "output_type": "display_data"
    },
    {
     "name": "stdout",
     "output_type": "stream",
     "text": [
      "[ Epoch 41 ]\n",
      "[Training]  loss: 2.339608342409426, ppl:  10.37717, accuracy: 80.619 %, elapse: 61573.939ms\n",
      "[Validation]  loss: 3.126169720252167,  ppl:  22.78653, accuracy: 55.298 %, elapse: 887.470ms\n",
      "Checkpointing Validation Model...\n"
     ]
    },
    {
     "data": {
      "application/vnd.jupyter.widget-view+json": {
       "model_id": "05b4041e909c4c18badb58d7191bb7c0",
       "version_major": 2,
       "version_minor": 0
      },
      "text/plain": [
       "HBox(children=(IntProgress(value=0, description='Epoch 42', max=227, style=ProgressStyle(description_width='in…"
      ]
     },
     "metadata": {},
     "output_type": "display_data"
    },
    {
     "name": "stdout",
     "output_type": "stream",
     "text": [
      "[ Epoch 42 ]\n",
      "[Training]  loss: 2.3057704804396466, ppl:  10.03190, accuracy: 81.219 %, elapse: 61534.669ms\n",
      "[Validation]  loss: 3.154124844970091,  ppl:  23.43252, accuracy: 54.925 %, elapse: 900.562ms\n"
     ]
    },
    {
     "data": {
      "application/vnd.jupyter.widget-view+json": {
       "model_id": "92003e3a7d92466997a6e2fc18cb2f64",
       "version_major": 2,
       "version_minor": 0
      },
      "text/plain": [
       "HBox(children=(IntProgress(value=0, description='Epoch 43', max=227, style=ProgressStyle(description_width='in…"
      ]
     },
     "metadata": {},
     "output_type": "display_data"
    },
    {
     "name": "stdout",
     "output_type": "stream",
     "text": [
      "[ Epoch 43 ]\n",
      "[Training]  loss: 2.2770802726710504, ppl:  9.74818, accuracy: 81.706 %, elapse: 61848.229ms\n",
      "[Validation]  loss: 3.152339972195358,  ppl:  23.39073, accuracy: 55.033 %, elapse: 885.443ms\n"
     ]
    },
    {
     "data": {
      "application/vnd.jupyter.widget-view+json": {
       "model_id": "3a653b376cb74b16bccd52a3eadd7376",
       "version_major": 2,
       "version_minor": 0
      },
      "text/plain": [
       "HBox(children=(IntProgress(value=0, description='Epoch 44', max=227, style=ProgressStyle(description_width='in…"
      ]
     },
     "metadata": {},
     "output_type": "display_data"
    },
    {
     "name": "stdout",
     "output_type": "stream",
     "text": [
      "[ Epoch 44 ]\n"
     ]
    },
    {
     "ename": "KeyboardInterrupt",
     "evalue": "",
     "output_type": "error",
     "traceback": [
      "\u001b[0;31m\u001b[0m",
      "\u001b[0;31mKeyboardInterrupt\u001b[0mTraceback (most recent call last)",
      "\u001b[0;32m<ipython-input-11-e71b4c294624>\u001b[0m in \u001b[0;36m<module>\u001b[0;34m\u001b[0m\n\u001b[1;32m     15\u001b[0m     \u001b[0mepochs\u001b[0m\u001b[0;34m=\u001b[0m\u001b[0mEPOCHS\u001b[0m\u001b[0;34m,\u001b[0m \u001b[0mtb\u001b[0m\u001b[0;34m=\u001b[0m\u001b[0mtb\u001b[0m\u001b[0;34m,\u001b[0m \u001b[0mlog_interval\u001b[0m\u001b[0;34m=\u001b[0m\u001b[0mLOG_INTERVAL\u001b[0m\u001b[0;34m,\u001b[0m\u001b[0;34m\u001b[0m\u001b[0;34m\u001b[0m\u001b[0m\n\u001b[1;32m     16\u001b[0m     \u001b[0mstart_epoch\u001b[0m\u001b[0;34m=\u001b[0m\u001b[0;36m0\u001b[0m\u001b[0;34m,\u001b[0m\u001b[0;34m\u001b[0m\u001b[0;34m\u001b[0m\u001b[0m\n\u001b[0;32m---> 17\u001b[0;31m     \u001b[0mcheckpoint_desc\u001b[0m\u001b[0;34m=\u001b[0m \u001b[0mcheckpoint_desc\u001b[0m\u001b[0;34m,\u001b[0m\u001b[0;34m\u001b[0m\u001b[0;34m\u001b[0m\u001b[0m\n\u001b[0m\u001b[1;32m     18\u001b[0m     \u001b[0;31m#best_valid_accu=state[\"acc\"],\u001b[0m\u001b[0;34m\u001b[0m\u001b[0;34m\u001b[0m\u001b[0;34m\u001b[0m\u001b[0m\n\u001b[1;32m     19\u001b[0m )\n",
      "\u001b[0;32m~/workspaces/mandubian/notebooks/pytorch-neural-ode/node-transformer/model_process.py\u001b[0m in \u001b[0;36mtrain\u001b[0;34m(exp_name, unique_id, model, training_data, validation_data, timesteps, optimizer, device, epochs, tb, log_interval, start_epoch, best_valid_accu, best_valid_loss, checkpoint_desc)\u001b[0m\n\u001b[1;32m    154\u001b[0m \u001b[0;34m\u001b[0m\u001b[0m\n\u001b[1;32m    155\u001b[0m     \u001b[0mstart\u001b[0m \u001b[0;34m=\u001b[0m \u001b[0mtime\u001b[0m\u001b[0;34m.\u001b[0m\u001b[0mtime\u001b[0m\u001b[0;34m(\u001b[0m\u001b[0;34m)\u001b[0m\u001b[0;34m\u001b[0m\u001b[0;34m\u001b[0m\u001b[0m\n\u001b[0;32m--> 156\u001b[0;31m     \u001b[0mtrain_loss\u001b[0m\u001b[0;34m,\u001b[0m \u001b[0mtrain_accu\u001b[0m \u001b[0;34m=\u001b[0m \u001b[0mtrain_epoch\u001b[0m\u001b[0;34m(\u001b[0m\u001b[0mmodel\u001b[0m\u001b[0;34m,\u001b[0m \u001b[0mtraining_data\u001b[0m\u001b[0;34m,\u001b[0m \u001b[0mtimesteps\u001b[0m\u001b[0;34m,\u001b[0m \u001b[0moptimizer\u001b[0m\u001b[0;34m,\u001b[0m \u001b[0mdevice\u001b[0m\u001b[0;34m,\u001b[0m \u001b[0mepoch_i\u001b[0m\u001b[0;34m,\u001b[0m \u001b[0mpb\u001b[0m\u001b[0;34m,\u001b[0m \u001b[0mtb\u001b[0m\u001b[0;34m,\u001b[0m \u001b[0mlog_interval\u001b[0m\u001b[0;34m)\u001b[0m\u001b[0;34m\u001b[0m\u001b[0;34m\u001b[0m\u001b[0m\n\u001b[0m\u001b[1;32m    157\u001b[0m     print('[Training]  loss: {train_loss}, ppl: {ppl: 8.5f}, accuracy: {accu:3.3f} %, '\\\n\u001b[1;32m    158\u001b[0m           'elapse: {elapse:3.3f}ms'.format(\n",
      "\u001b[0;32m~/workspaces/mandubian/notebooks/pytorch-neural-ode/node-transformer/model_process.py\u001b[0m in \u001b[0;36mtrain_epoch\u001b[0;34m(model, training_data, timesteps, optimizer, device, epoch, pb, tb, log_interval)\u001b[0m\n\u001b[1;32m     35\u001b[0m \u001b[0;34m\u001b[0m\u001b[0m\n\u001b[1;32m     36\u001b[0m         \u001b[0mloss\u001b[0m\u001b[0;34m,\u001b[0m \u001b[0mn_correct\u001b[0m \u001b[0;34m=\u001b[0m \u001b[0mcompute_performance\u001b[0m\u001b[0;34m(\u001b[0m\u001b[0mpred_as\u001b[0m\u001b[0;34m,\u001b[0m \u001b[0mgold_as\u001b[0m\u001b[0;34m,\u001b[0m \u001b[0msmoothing\u001b[0m\u001b[0;34m=\u001b[0m\u001b[0;32mTrue\u001b[0m\u001b[0;34m)\u001b[0m\u001b[0;34m\u001b[0m\u001b[0;34m\u001b[0m\u001b[0m\n\u001b[0;32m---> 37\u001b[0;31m         \u001b[0mloss\u001b[0m\u001b[0;34m.\u001b[0m\u001b[0mbackward\u001b[0m\u001b[0;34m(\u001b[0m\u001b[0;34m)\u001b[0m\u001b[0;34m\u001b[0m\u001b[0;34m\u001b[0m\u001b[0m\n\u001b[0m\u001b[1;32m     38\u001b[0m \u001b[0;34m\u001b[0m\u001b[0m\n\u001b[1;32m     39\u001b[0m         \u001b[0;31m# update parameters\u001b[0m\u001b[0;34m\u001b[0m\u001b[0;34m\u001b[0m\u001b[0;34m\u001b[0m\u001b[0m\n",
      "\u001b[0;32m~/.local/lib/python3.6/site-packages/torch/tensor.py\u001b[0m in \u001b[0;36mbackward\u001b[0;34m(self, gradient, retain_graph, create_graph)\u001b[0m\n\u001b[1;32m    105\u001b[0m                 \u001b[0mproducts\u001b[0m\u001b[0;34m.\u001b[0m \u001b[0mDefaults\u001b[0m \u001b[0mto\u001b[0m\u001b[0;31m \u001b[0m\u001b[0;31m`\u001b[0m\u001b[0;31m`\u001b[0m\u001b[0;32mFalse\u001b[0m\u001b[0;31m`\u001b[0m\u001b[0;31m`\u001b[0m\u001b[0;34m.\u001b[0m\u001b[0;34m\u001b[0m\u001b[0;34m\u001b[0m\u001b[0m\n\u001b[1;32m    106\u001b[0m         \"\"\"\n\u001b[0;32m--> 107\u001b[0;31m         \u001b[0mtorch\u001b[0m\u001b[0;34m.\u001b[0m\u001b[0mautograd\u001b[0m\u001b[0;34m.\u001b[0m\u001b[0mbackward\u001b[0m\u001b[0;34m(\u001b[0m\u001b[0mself\u001b[0m\u001b[0;34m,\u001b[0m \u001b[0mgradient\u001b[0m\u001b[0;34m,\u001b[0m \u001b[0mretain_graph\u001b[0m\u001b[0;34m,\u001b[0m \u001b[0mcreate_graph\u001b[0m\u001b[0;34m)\u001b[0m\u001b[0;34m\u001b[0m\u001b[0;34m\u001b[0m\u001b[0m\n\u001b[0m\u001b[1;32m    108\u001b[0m \u001b[0;34m\u001b[0m\u001b[0m\n\u001b[1;32m    109\u001b[0m     \u001b[0;32mdef\u001b[0m \u001b[0mregister_hook\u001b[0m\u001b[0;34m(\u001b[0m\u001b[0mself\u001b[0m\u001b[0;34m,\u001b[0m \u001b[0mhook\u001b[0m\u001b[0;34m)\u001b[0m\u001b[0;34m:\u001b[0m\u001b[0;34m\u001b[0m\u001b[0;34m\u001b[0m\u001b[0m\n",
      "\u001b[0;32m~/.local/lib/python3.6/site-packages/torch/autograd/__init__.py\u001b[0m in \u001b[0;36mbackward\u001b[0;34m(tensors, grad_tensors, retain_graph, create_graph, grad_variables)\u001b[0m\n\u001b[1;32m     91\u001b[0m     Variable._execution_engine.run_backward(\n\u001b[1;32m     92\u001b[0m         \u001b[0mtensors\u001b[0m\u001b[0;34m,\u001b[0m \u001b[0mgrad_tensors\u001b[0m\u001b[0;34m,\u001b[0m \u001b[0mretain_graph\u001b[0m\u001b[0;34m,\u001b[0m \u001b[0mcreate_graph\u001b[0m\u001b[0;34m,\u001b[0m\u001b[0;34m\u001b[0m\u001b[0;34m\u001b[0m\u001b[0m\n\u001b[0;32m---> 93\u001b[0;31m         allow_unreachable=True)  # allow_unreachable flag\n\u001b[0m\u001b[1;32m     94\u001b[0m \u001b[0;34m\u001b[0m\u001b[0m\n\u001b[1;32m     95\u001b[0m \u001b[0;34m\u001b[0m\u001b[0m\n",
      "\u001b[0;31mKeyboardInterrupt\u001b[0m: "
     ]
    }
   ],
   "source": [
    "# Continuous space discretization\n",
    "timesteps = np.linspace(0., 1., num=2)\n",
    "timesteps = torch.from_numpy(timesteps).float()\n",
    "\n",
    "EPOCHS = 100\n",
    "LOG_INTERVAL = 5\n",
    "\n",
    "#from torch import autograd\n",
    "#with autograd.detect_anomaly():\n",
    "model_process.train(\n",
    "    exp_name, unique_id,\n",
    "    model, \n",
    "    train_loader, val_loader, timesteps,\n",
    "    optimizer, device,\n",
    "    epochs=EPOCHS, tb=tb, log_interval=LOG_INTERVAL,\n",
    "    start_epoch=0,\n",
    "    checkpoint_desc= checkpoint_desc,\n",
    "    #best_valid_accu=state[\"acc\"],\n",
    ")"
   ]
  },
  {
   "cell_type": "code",
   "execution_count": 19,
   "metadata": {},
   "outputs": [],
   "source": [
    "model.encoder.encoder.rtol = 0.001\n",
    "model.encoder.encoder.atol = 0.001\n",
    "#model.decoder.decoder.rtol = 0.001\n",
    "#model.decoder.decoder.atol = 0.001"
   ]
  },
  {
   "cell_type": "markdown",
   "metadata": {},
   "source": [
    "### Restore best checkpoint (to restart past training)"
   ]
  },
  {
   "cell_type": "code",
   "execution_count": 11,
   "metadata": {},
   "outputs": [
    {
     "name": "stdout",
     "output_type": "stream",
     "text": [
      "Extracting state from checkpoints/node_transformer_separated_dopri5_multi30k_encoder_only_add_time_2019-06-20_1230_validation_best.pth\n",
      "Loading model state_dict from state found in checkpoints/node_transformer_separated_dopri5_multi30k_encoder_only_add_time_2019-06-20_1230_validation_best.pth\n",
      "Loading optimizer state_dict from state found in checkpoints/node_transformer_separated_dopri5_multi30k_encoder_only_add_time_2019-06-20_1230_validation_best.pth\n",
      "accuracy 0.5886524822695035\n",
      "loss 2.558568739534082\n"
     ]
    }
   ],
   "source": [
    "state = checkpoints.restore_best_checkpoint(\n",
    "    exp_name, unique_id, \"validation\", model, optimizer)\n",
    "\n",
    "print(\"accuracy\", state[\"acc\"])\n",
    "print(\"loss\", state[\"loss\"])\n",
    "model = model.to(device)"
   ]
  }
 ],
 "metadata": {
  "kernelspec": {
   "display_name": "Python 3",
   "language": "python",
   "name": "python3"
  },
  "language_info": {
   "codemirror_mode": {
    "name": "ipython",
    "version": 3
   },
   "file_extension": ".py",
   "mimetype": "text/x-python",
   "name": "python",
   "nbconvert_exporter": "python",
   "pygments_lexer": "ipython3",
   "version": "3.6.8"
  }
 },
 "nbformat": 4,
 "nbformat_minor": 2
}
