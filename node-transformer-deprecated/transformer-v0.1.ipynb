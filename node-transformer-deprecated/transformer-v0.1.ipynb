{
 "cells": [
  {
   "cell_type": "code",
   "execution_count": 1,
   "metadata": {},
   "outputs": [
    {
     "name": "stdout",
     "output_type": "stream",
     "text": [
      "Torch Version 1.1.0\n"
     ]
    }
   ],
   "source": [
    "import numpy as np\n",
    "import torch\n",
    "import torch.utils.data\n",
    "import torch.nn as nn\n",
    "import torch.optim as optim\n",
    "\n",
    "import torchdiffeq\n",
    "\n",
    "from tensorboard_utils import Tensorboard\n",
    "from tensorboard_utils import tensorboard_event_accumulator\n",
    "\n",
    "import transformer.Constants as Constants\n",
    "from transformer.Layers import EncoderLayer, DecoderLayer\n",
    "from transformer.Modules import ScaledDotProductAttention\n",
    "from transformer.Models import Decoder, get_attn_key_pad_mask, get_non_pad_mask, get_sinusoid_encoding_table\n",
    "from transformer.SubLayers import PositionwiseFeedForward\n",
    "\n",
    "import dataset\n",
    "\n",
    "import model_process\n",
    "import checkpoints\n",
    "from node_transformer import NodeTransformer\n",
    "\n",
    "import matplotlib\n",
    "import numpy as np\n",
    "import matplotlib.pyplot as plt\n",
    "#%matplotlib notebook  \n",
    "%matplotlib inline\n",
    "%config InlineBackend.figure_format = 'retina'\n",
    "\n",
    "print(\"Torch Version\", torch.__version__)\n",
    "\n",
    "%load_ext autoreload\n",
    "%autoreload 2"
   ]
  },
  {
   "cell_type": "code",
   "execution_count": 2,
   "metadata": {},
   "outputs": [
    {
     "name": "stdout",
     "output_type": "stream",
     "text": [
      "device cuda\n"
     ]
    }
   ],
   "source": [
    "seed = 1\n",
    "torch.manual_seed(seed)\n",
    "device = torch.device(\"cuda\")\n",
    "print(\"device\", device)"
   ]
  },
  {
   "cell_type": "code",
   "execution_count": 3,
   "metadata": {},
   "outputs": [],
   "source": [
    "data = torch.load(\"/home/mandubian/datasets/multi30k/multi30k.atok.low.pt\")"
   ]
  },
  {
   "cell_type": "code",
   "execution_count": 4,
   "metadata": {},
   "outputs": [
    {
     "name": "stdout",
     "output_type": "stream",
     "text": [
      "52\n"
     ]
    }
   ],
   "source": [
    "max_token_seq_len = data['settings'].max_token_seq_len\n",
    "print(max_token_seq_len)"
   ]
  },
  {
   "cell_type": "code",
   "execution_count": 5,
   "metadata": {},
   "outputs": [],
   "source": [
    "train_loader, val_loader = dataset.prepare_dataloaders(data, batch_size=128)"
   ]
  },
  {
   "cell_type": "markdown",
   "metadata": {},
   "source": [
    "### Create an experiment with a name and a unique ID"
   ]
  },
  {
   "cell_type": "code",
   "execution_count": 6,
   "metadata": {},
   "outputs": [],
   "source": [
    "exp_name = \"transformer_multi30k\"\n",
    "unique_id = \"2019-06-07_1000\"\n"
   ]
  },
  {
   "cell_type": "markdown",
   "metadata": {},
   "source": [
    "### Create Model"
   ]
  },
  {
   "cell_type": "code",
   "execution_count": 7,
   "metadata": {},
   "outputs": [],
   "source": [
    "model = None"
   ]
  },
  {
   "cell_type": "code",
   "execution_count": 8,
   "metadata": {},
   "outputs": [
    {
     "name": "stdout",
     "output_type": "stream",
     "text": [
      "src_vocab_sz 9795\n",
      "tgt_vocab_sz 17989\n"
     ]
    }
   ],
   "source": [
    "src_vocab_sz = train_loader.dataset.src_vocab_size\n",
    "print(\"src_vocab_sz\", src_vocab_sz)\n",
    "tgt_vocab_sz = train_loader.dataset.tgt_vocab_size\n",
    "print(\"tgt_vocab_sz\", tgt_vocab_sz)\n",
    "\n",
    "if model:\n",
    "    del model\n",
    "    \n",
    "model = NodeTransformer(\n",
    "    n_src_vocab=max(src_vocab_sz, tgt_vocab_sz),\n",
    "    n_tgt_vocab=max(src_vocab_sz, tgt_vocab_sz),\n",
    "    len_max_seq=max_token_seq_len,\n",
    "    #emb_src_tgt_weight_sharing=False,\n",
    "    #d_word_vec=128, d_model=128, d_inner=512,\n",
    "    n_head=8, method='dopri5-ext', rtol=1e-3, atol=1e-3,\n",
    "    has_node_encoder=False, has_node_decoder=False)\n",
    "\n",
    "model = model.to(device)"
   ]
  },
  {
   "cell_type": "markdown",
   "metadata": {},
   "source": [
    "### Create Tensorboard metrics logger"
   ]
  },
  {
   "cell_type": "code",
   "execution_count": 9,
   "metadata": {},
   "outputs": [
    {
     "name": "stdout",
     "output_type": "stream",
     "text": [
      "Writing TensorBoard events locally to runs/transformer_multi30k_2019-06-07_1000\n"
     ]
    }
   ],
   "source": [
    "tb = Tensorboard(exp_name, unique_name=unique_id)"
   ]
  },
  {
   "cell_type": "markdown",
   "metadata": {},
   "source": [
    "### Create basic optimizer"
   ]
  },
  {
   "cell_type": "code",
   "execution_count": 11,
   "metadata": {},
   "outputs": [],
   "source": [
    "optimizer = optim.Adam(model.parameters(), lr=1e-4, betas=(0.9, 0.995), eps=1e-9)\n"
   ]
  },
  {
   "cell_type": "markdown",
   "metadata": {},
   "source": [
    "### Train"
   ]
  },
  {
   "cell_type": "code",
   "execution_count": 12,
   "metadata": {},
   "outputs": [
    {
     "name": "stdout",
     "output_type": "stream",
     "text": [
      "Loaded model and timesteps to cuda\n"
     ]
    },
    {
     "data": {
      "application/vnd.jupyter.widget-view+json": {
       "model_id": "f310ed663d36465993f7512d0dd11dcb",
       "version_major": 2,
       "version_minor": 0
      },
      "text/plain": [
       "HBox(children=(IntProgress(value=0, description='Training', max=50, style=ProgressStyle(description_width='ini…"
      ]
     },
     "metadata": {},
     "output_type": "display_data"
    },
    {
     "data": {
      "application/vnd.jupyter.widget-view+json": {
       "model_id": "5ece98403ced4a6490721d440da4f68a",
       "version_major": 2,
       "version_minor": 0
      },
      "text/plain": [
       "HBox(children=(IntProgress(value=0, description='Epoch 0', max=227, style=ProgressStyle(description_width='ini…"
      ]
     },
     "metadata": {},
     "output_type": "display_data"
    },
    {
     "name": "stdout",
     "output_type": "stream",
     "text": [
      "[ Epoch 0 ]\n",
      "Adding group train to writers (dict_keys([]))\n",
      "[Training]  loss: 6.8149000610367345, ppl:  911.32543, accuracy: 27.076 %, elapse: 19205.983ms\n",
      "Adding group eval to writers (dict_keys(['train']))\n",
      "[Validation]  loss: 5.35197686920177,  ppl:  211.02505, accuracy: 34.644 %, elapse: 285.239ms\n",
      "Checkpointing Validation Model...\n"
     ]
    },
    {
     "data": {
      "application/vnd.jupyter.widget-view+json": {
       "model_id": "5796c697315344438dd951a2b455d288",
       "version_major": 2,
       "version_minor": 0
      },
      "text/plain": [
       "HBox(children=(IntProgress(value=0, description='Epoch 1', max=227, style=ProgressStyle(description_width='ini…"
      ]
     },
     "metadata": {},
     "output_type": "display_data"
    },
    {
     "name": "stdout",
     "output_type": "stream",
     "text": [
      "[ Epoch 1 ]\n",
      "[Training]  loss: 5.709207316331694, ppl:  301.63187, accuracy: 37.813 %, elapse: 19029.006ms\n",
      "[Validation]  loss: 4.641788004155026,  ppl:  103.72965, accuracy: 41.214 %, elapse: 285.800ms\n",
      "Checkpointing Validation Model...\n"
     ]
    },
    {
     "data": {
      "application/vnd.jupyter.widget-view+json": {
       "model_id": "307b741d797446a4a756a74aa5c31eb4",
       "version_major": 2,
       "version_minor": 0
      },
      "text/plain": [
       "HBox(children=(IntProgress(value=0, description='Epoch 2', max=227, style=ProgressStyle(description_width='ini…"
      ]
     },
     "metadata": {},
     "output_type": "display_data"
    },
    {
     "name": "stdout",
     "output_type": "stream",
     "text": [
      "[ Epoch 2 ]\n",
      "[Training]  loss: 5.221279466281199, ppl:  185.17095, accuracy: 42.742 %, elapse: 19098.102ms\n",
      "[Validation]  loss: 4.201269888042661,  ppl:  66.77107, accuracy: 45.018 %, elapse: 287.158ms\n",
      "Checkpointing Validation Model...\n"
     ]
    },
    {
     "data": {
      "application/vnd.jupyter.widget-view+json": {
       "model_id": "d890482f584f41729297320eb5063910",
       "version_major": 2,
       "version_minor": 0
      },
      "text/plain": [
       "HBox(children=(IntProgress(value=0, description='Epoch 3', max=227, style=ProgressStyle(description_width='ini…"
      ]
     },
     "metadata": {},
     "output_type": "display_data"
    },
    {
     "name": "stdout",
     "output_type": "stream",
     "text": [
      "[ Epoch 3 ]\n",
      "[Training]  loss: 4.882612129451231, ppl:  131.97495, accuracy: 46.122 %, elapse: 19079.331ms\n",
      "[Validation]  loss: 3.87762375528333,  ppl:  48.30928, accuracy: 47.912 %, elapse: 286.661ms\n",
      "Checkpointing Validation Model...\n"
     ]
    },
    {
     "data": {
      "application/vnd.jupyter.widget-view+json": {
       "model_id": "a5d751e47294454cb2d572f3c0e482af",
       "version_major": 2,
       "version_minor": 0
      },
      "text/plain": [
       "HBox(children=(IntProgress(value=0, description='Epoch 4', max=227, style=ProgressStyle(description_width='ini…"
      ]
     },
     "metadata": {},
     "output_type": "display_data"
    },
    {
     "name": "stdout",
     "output_type": "stream",
     "text": [
      "[ Epoch 4 ]\n",
      "[Training]  loss: 4.625005148037302, ppl:  102.00330, accuracy: 48.558 %, elapse: 19195.698ms\n",
      "[Validation]  loss: 3.6569998242621247,  ppl:  38.74493, accuracy: 49.846 %, elapse: 285.892ms\n",
      "Checkpointing Validation Model...\n"
     ]
    },
    {
     "data": {
      "application/vnd.jupyter.widget-view+json": {
       "model_id": "ba8b6c1bd0f84c8c9de91ea78d43f052",
       "version_major": 2,
       "version_minor": 0
      },
      "text/plain": [
       "HBox(children=(IntProgress(value=0, description='Epoch 5', max=227, style=ProgressStyle(description_width='ini…"
      ]
     },
     "metadata": {},
     "output_type": "display_data"
    },
    {
     "name": "stdout",
     "output_type": "stream",
     "text": [
      "[ Epoch 5 ]\n",
      "[Training]  loss: 4.422383956332246, ppl:  83.29462, accuracy: 50.618 %, elapse: 19190.359ms\n",
      "[Validation]  loss: 3.4661356542486033,  ppl:  32.01279, accuracy: 51.307 %, elapse: 287.055ms\n",
      "Checkpointing Validation Model...\n"
     ]
    },
    {
     "data": {
      "application/vnd.jupyter.widget-view+json": {
       "model_id": "5f1b525dffc841bba6a8e2d20cf3f9ea",
       "version_major": 2,
       "version_minor": 0
      },
      "text/plain": [
       "HBox(children=(IntProgress(value=0, description='Epoch 6', max=227, style=ProgressStyle(description_width='ini…"
      ]
     },
     "metadata": {},
     "output_type": "display_data"
    },
    {
     "name": "stdout",
     "output_type": "stream",
     "text": [
      "[ Epoch 6 ]\n",
      "[Training]  loss: 4.258283854245886, ppl:  70.68857, accuracy: 52.266 %, elapse: 19292.726ms\n",
      "[Validation]  loss: 3.3301772224125115,  ppl:  27.94329, accuracy: 52.611 %, elapse: 287.839ms\n",
      "Checkpointing Validation Model...\n"
     ]
    },
    {
     "data": {
      "application/vnd.jupyter.widget-view+json": {
       "model_id": "0dbb8f905baf43f0b88c7286420f5fec",
       "version_major": 2,
       "version_minor": 0
      },
      "text/plain": [
       "HBox(children=(IntProgress(value=0, description='Epoch 7', max=227, style=ProgressStyle(description_width='ini…"
      ]
     },
     "metadata": {},
     "output_type": "display_data"
    },
    {
     "name": "stdout",
     "output_type": "stream",
     "text": [
      "[ Epoch 7 ]\n",
      "[Training]  loss: 4.123006861047643, ppl:  61.74462, accuracy: 53.653 %, elapse: 19341.239ms\n",
      "[Validation]  loss: 3.205529012979977,  ppl:  24.66855, accuracy: 53.786 %, elapse: 286.993ms\n",
      "Checkpointing Validation Model...\n"
     ]
    },
    {
     "data": {
      "application/vnd.jupyter.widget-view+json": {
       "model_id": "b22a6dab0b084e60ac92a102497da379",
       "version_major": 2,
       "version_minor": 0
      },
      "text/plain": [
       "HBox(children=(IntProgress(value=0, description='Epoch 8', max=227, style=ProgressStyle(description_width='ini…"
      ]
     },
     "metadata": {},
     "output_type": "display_data"
    },
    {
     "name": "stdout",
     "output_type": "stream",
     "text": [
      "[ Epoch 8 ]\n",
      "[Training]  loss: 4.006088463278855, ppl:  54.93158, accuracy: 54.971 %, elapse: 19157.291ms\n",
      "[Validation]  loss: 3.1169744388141165,  ppl:  22.57797, accuracy: 54.510 %, elapse: 286.757ms\n",
      "Checkpointing Validation Model...\n"
     ]
    },
    {
     "data": {
      "application/vnd.jupyter.widget-view+json": {
       "model_id": "ec36ebc8463145549cfa22ac3d1c4133",
       "version_major": 2,
       "version_minor": 0
      },
      "text/plain": [
       "HBox(children=(IntProgress(value=0, description='Epoch 9', max=227, style=ProgressStyle(description_width='ini…"
      ]
     },
     "metadata": {},
     "output_type": "display_data"
    },
    {
     "name": "stdout",
     "output_type": "stream",
     "text": [
      "[ Epoch 9 ]\n",
      "[Training]  loss: 3.903140753192194, ppl:  49.55785, accuracy: 56.118 %, elapse: 19145.078ms\n",
      "[Validation]  loss: 3.0255612558430047,  ppl:  20.60557, accuracy: 55.570 %, elapse: 286.950ms\n",
      "Checkpointing Validation Model...\n"
     ]
    },
    {
     "data": {
      "application/vnd.jupyter.widget-view+json": {
       "model_id": "00ba8bd044bd433094b8fe095edc07df",
       "version_major": 2,
       "version_minor": 0
      },
      "text/plain": [
       "HBox(children=(IntProgress(value=0, description='Epoch 10', max=227, style=ProgressStyle(description_width='in…"
      ]
     },
     "metadata": {},
     "output_type": "display_data"
    },
    {
     "name": "stdout",
     "output_type": "stream",
     "text": [
      "[ Epoch 10 ]\n",
      "[Training]  loss: 3.8134498209280165, ppl:  45.30647, accuracy: 57.225 %, elapse: 19227.834ms\n",
      "[Validation]  loss: 2.963360856738932,  ppl:  19.36294, accuracy: 56.114 %, elapse: 286.996ms\n",
      "Checkpointing Validation Model...\n"
     ]
    },
    {
     "data": {
      "application/vnd.jupyter.widget-view+json": {
       "model_id": "fdf31456a5c245b1be8970cf7d4615cf",
       "version_major": 2,
       "version_minor": 0
      },
      "text/plain": [
       "HBox(children=(IntProgress(value=0, description='Epoch 11', max=227, style=ProgressStyle(description_width='in…"
      ]
     },
     "metadata": {},
     "output_type": "display_data"
    },
    {
     "name": "stdout",
     "output_type": "stream",
     "text": [
      "[ Epoch 11 ]\n",
      "[Training]  loss: 3.730016917819589, ppl:  41.67981, accuracy: 58.213 %, elapse: 19257.791ms\n",
      "[Validation]  loss: 2.9031291136094994,  ppl:  18.23110, accuracy: 57.038 %, elapse: 287.244ms\n",
      "Checkpointing Validation Model...\n"
     ]
    },
    {
     "data": {
      "application/vnd.jupyter.widget-view+json": {
       "model_id": "f49d8c7516944ff48e58b3aa95d7429e",
       "version_major": 2,
       "version_minor": 0
      },
      "text/plain": [
       "HBox(children=(IntProgress(value=0, description='Epoch 12', max=227, style=ProgressStyle(description_width='in…"
      ]
     },
     "metadata": {},
     "output_type": "display_data"
    },
    {
     "name": "stdout",
     "output_type": "stream",
     "text": [
      "[ Epoch 12 ]\n",
      "[Training]  loss: 3.6553272047205625, ppl:  38.68018, accuracy: 59.161 %, elapse: 19173.209ms\n",
      "[Validation]  loss: 2.8594095249368685,  ppl:  17.45122, accuracy: 57.339 %, elapse: 287.387ms\n",
      "Checkpointing Validation Model...\n"
     ]
    },
    {
     "data": {
      "application/vnd.jupyter.widget-view+json": {
       "model_id": "e3c759a9e01946edab5e7f80743099d1",
       "version_major": 2,
       "version_minor": 0
      },
      "text/plain": [
       "HBox(children=(IntProgress(value=0, description='Epoch 13', max=227, style=ProgressStyle(description_width='in…"
      ]
     },
     "metadata": {},
     "output_type": "display_data"
    },
    {
     "name": "stdout",
     "output_type": "stream",
     "text": [
      "[ Epoch 13 ]\n",
      "[Training]  loss: 3.5854325269291243, ppl:  36.06896, accuracy: 60.070 %, elapse: 19194.095ms\n",
      "[Validation]  loss: 2.8131415971550613,  ppl:  16.66218, accuracy: 57.948 %, elapse: 287.422ms\n",
      "Checkpointing Validation Model...\n"
     ]
    },
    {
     "data": {
      "application/vnd.jupyter.widget-view+json": {
       "model_id": "28e74a1266b04659a441e67d28e17988",
       "version_major": 2,
       "version_minor": 0
      },
      "text/plain": [
       "HBox(children=(IntProgress(value=0, description='Epoch 14', max=227, style=ProgressStyle(description_width='in…"
      ]
     },
     "metadata": {},
     "output_type": "display_data"
    },
    {
     "name": "stdout",
     "output_type": "stream",
     "text": [
      "[ Epoch 14 ]\n",
      "[Training]  loss: 3.521586382016125, ppl:  33.83807, accuracy: 61.031 %, elapse: 19267.316ms\n",
      "[Validation]  loss: 2.7764724413348914,  ppl:  16.06226, accuracy: 58.221 %, elapse: 287.343ms\n",
      "Checkpointing Validation Model...\n"
     ]
    },
    {
     "data": {
      "application/vnd.jupyter.widget-view+json": {
       "model_id": "f6e9133e301c42e1a44af1f09d46f10c",
       "version_major": 2,
       "version_minor": 0
      },
      "text/plain": [
       "HBox(children=(IntProgress(value=0, description='Epoch 15', max=227, style=ProgressStyle(description_width='in…"
      ]
     },
     "metadata": {},
     "output_type": "display_data"
    },
    {
     "name": "stdout",
     "output_type": "stream",
     "text": [
      "[ Epoch 15 ]\n",
      "[Training]  loss: 3.4651449033742487, ppl:  31.98109, accuracy: 61.772 %, elapse: 19171.697ms\n",
      "[Validation]  loss: 2.7467189416886058,  ppl:  15.59139, accuracy: 58.643 %, elapse: 289.780ms\n",
      "Checkpointing Validation Model...\n"
     ]
    },
    {
     "data": {
      "application/vnd.jupyter.widget-view+json": {
       "model_id": "6b801d2892334abaa408e93f3d982d6e",
       "version_major": 2,
       "version_minor": 0
      },
      "text/plain": [
       "HBox(children=(IntProgress(value=0, description='Epoch 16', max=227, style=ProgressStyle(description_width='in…"
      ]
     },
     "metadata": {},
     "output_type": "display_data"
    },
    {
     "name": "stdout",
     "output_type": "stream",
     "text": [
      "[ Epoch 16 ]\n",
      "[Training]  loss: 3.408083768268836, ppl:  30.20730, accuracy: 62.515 %, elapse: 19294.364ms\n",
      "[Validation]  loss: 2.7245766690061073,  ppl:  15.24996, accuracy: 58.786 %, elapse: 287.600ms\n",
      "Checkpointing Validation Model...\n"
     ]
    },
    {
     "data": {
      "application/vnd.jupyter.widget-view+json": {
       "model_id": "bb07c2200bf1447682aeebefdf456763",
       "version_major": 2,
       "version_minor": 0
      },
      "text/plain": [
       "HBox(children=(IntProgress(value=0, description='Epoch 17', max=227, style=ProgressStyle(description_width='in…"
      ]
     },
     "metadata": {},
     "output_type": "display_data"
    },
    {
     "name": "stdout",
     "output_type": "stream",
     "text": [
      "[ Epoch 17 ]\n",
      "[Training]  loss: 3.3537013417763224, ppl:  28.60843, accuracy: 63.296 %, elapse: 19263.549ms\n",
      "[Validation]  loss: 2.714487761871821,  ppl:  15.09687, accuracy: 59.123 %, elapse: 287.532ms\n",
      "Checkpointing Validation Model...\n"
     ]
    },
    {
     "data": {
      "application/vnd.jupyter.widget-view+json": {
       "model_id": "05564748e7274b4db56adc1dc4462af8",
       "version_major": 2,
       "version_minor": 0
      },
      "text/plain": [
       "HBox(children=(IntProgress(value=0, description='Epoch 18', max=227, style=ProgressStyle(description_width='in…"
      ]
     },
     "metadata": {},
     "output_type": "display_data"
    },
    {
     "name": "stdout",
     "output_type": "stream",
     "text": [
      "[ Epoch 18 ]\n",
      "[Training]  loss: 3.305841905589071, ppl:  27.27149, accuracy: 63.963 %, elapse: 19235.801ms\n",
      "[Validation]  loss: 2.681176654622466,  ppl:  14.60227, accuracy: 59.274 %, elapse: 287.500ms\n",
      "Checkpointing Validation Model...\n"
     ]
    },
    {
     "data": {
      "application/vnd.jupyter.widget-view+json": {
       "model_id": "bc1902c8722140f0895949250454263b",
       "version_major": 2,
       "version_minor": 0
      },
      "text/plain": [
       "HBox(children=(IntProgress(value=0, description='Epoch 19', max=227, style=ProgressStyle(description_width='in…"
      ]
     },
     "metadata": {},
     "output_type": "display_data"
    },
    {
     "name": "stdout",
     "output_type": "stream",
     "text": [
      "[ Epoch 19 ]\n",
      "[Training]  loss: 3.254038400699319, ppl:  25.89470, accuracy: 64.741 %, elapse: 19289.994ms\n",
      "[Validation]  loss: 2.6499454911761675,  ppl:  14.15327, accuracy: 59.711 %, elapse: 287.331ms\n",
      "Checkpointing Validation Model...\n"
     ]
    },
    {
     "data": {
      "application/vnd.jupyter.widget-view+json": {
       "model_id": "eaa81e26cec841e5873ce462fba4034b",
       "version_major": 2,
       "version_minor": 0
      },
      "text/plain": [
       "HBox(children=(IntProgress(value=0, description='Epoch 20', max=227, style=ProgressStyle(description_width='in…"
      ]
     },
     "metadata": {},
     "output_type": "display_data"
    },
    {
     "name": "stdout",
     "output_type": "stream",
     "text": [
      "[ Epoch 20 ]\n",
      "[Training]  loss: 3.2098861677973685, ppl:  24.77627, accuracy: 65.378 %, elapse: 19367.139ms\n",
      "[Validation]  loss: 2.6287706687889534,  ppl:  13.85672, accuracy: 59.668 %, elapse: 288.026ms\n"
     ]
    },
    {
     "data": {
      "application/vnd.jupyter.widget-view+json": {
       "model_id": "d5ccf0644a25406fb096eca75920b524",
       "version_major": 2,
       "version_minor": 0
      },
      "text/plain": [
       "HBox(children=(IntProgress(value=0, description='Epoch 21', max=227, style=ProgressStyle(description_width='in…"
      ]
     },
     "metadata": {},
     "output_type": "display_data"
    },
    {
     "name": "stdout",
     "output_type": "stream",
     "text": [
      "[ Epoch 21 ]\n",
      "[Training]  loss: 3.1689672080594713, ppl:  23.78291, accuracy: 65.973 %, elapse: 19315.423ms\n",
      "[Validation]  loss: 2.6248423641053713,  ppl:  13.80240, accuracy: 60.019 %, elapse: 287.227ms\n",
      "Checkpointing Validation Model...\n"
     ]
    },
    {
     "data": {
      "application/vnd.jupyter.widget-view+json": {
       "model_id": "986620730e4646fa8339e38866a949f7",
       "version_major": 2,
       "version_minor": 0
      },
      "text/plain": [
       "HBox(children=(IntProgress(value=0, description='Epoch 22', max=227, style=ProgressStyle(description_width='in…"
      ]
     },
     "metadata": {},
     "output_type": "display_data"
    },
    {
     "name": "stdout",
     "output_type": "stream",
     "text": [
      "[ Epoch 22 ]\n",
      "[Training]  loss: 3.1232531022303016, ppl:  22.72017, accuracy: 66.678 %, elapse: 19318.844ms\n",
      "[Validation]  loss: 2.62673569135504,  ppl:  13.82856, accuracy: 60.090 %, elapse: 287.155ms\n",
      "Checkpointing Validation Model...\n"
     ]
    },
    {
     "data": {
      "application/vnd.jupyter.widget-view+json": {
       "model_id": "0f712c0bf9ea498ba31dbfecd7db05ad",
       "version_major": 2,
       "version_minor": 0
      },
      "text/plain": [
       "HBox(children=(IntProgress(value=0, description='Epoch 23', max=227, style=ProgressStyle(description_width='in…"
      ]
     },
     "metadata": {},
     "output_type": "display_data"
    },
    {
     "name": "stdout",
     "output_type": "stream",
     "text": [
      "[ Epoch 23 ]\n",
      "[Training]  loss: 3.082037394471548, ppl:  21.80278, accuracy: 67.251 %, elapse: 19258.919ms\n",
      "[Validation]  loss: 2.591683523370899,  ppl:  13.35223, accuracy: 60.305 %, elapse: 300.765ms\n",
      "Checkpointing Validation Model...\n"
     ]
    },
    {
     "data": {
      "application/vnd.jupyter.widget-view+json": {
       "model_id": "9a8f5797bc054408aea40f696ee8c12e",
       "version_major": 2,
       "version_minor": 0
      },
      "text/plain": [
       "HBox(children=(IntProgress(value=0, description='Epoch 24', max=227, style=ProgressStyle(description_width='in…"
      ]
     },
     "metadata": {},
     "output_type": "display_data"
    },
    {
     "name": "stdout",
     "output_type": "stream",
     "text": [
      "[ Epoch 24 ]\n",
      "[Training]  loss: 3.045673388802711, ppl:  21.02418, accuracy: 67.771 %, elapse: 19209.310ms\n",
      "[Validation]  loss: 2.583979128049108,  ppl:  13.24976, accuracy: 60.671 %, elapse: 287.338ms\n",
      "Checkpointing Validation Model...\n"
     ]
    },
    {
     "data": {
      "application/vnd.jupyter.widget-view+json": {
       "model_id": "c16ab0c5d0654e3fa70fbff9b56b921d",
       "version_major": 2,
       "version_minor": 0
      },
      "text/plain": [
       "HBox(children=(IntProgress(value=0, description='Epoch 25', max=227, style=ProgressStyle(description_width='in…"
      ]
     },
     "metadata": {},
     "output_type": "display_data"
    },
    {
     "name": "stdout",
     "output_type": "stream",
     "text": [
      "[ Epoch 25 ]\n",
      "[Training]  loss: 3.007106275681019, ppl:  20.22878, accuracy: 68.449 %, elapse: 19297.897ms\n",
      "[Validation]  loss: 2.578282076219867,  ppl:  13.17449, accuracy: 60.807 %, elapse: 287.760ms\n",
      "Checkpointing Validation Model...\n"
     ]
    },
    {
     "data": {
      "application/vnd.jupyter.widget-view+json": {
       "model_id": "f1694fbdddd9466abdbfdfd8d6491196",
       "version_major": 2,
       "version_minor": 0
      },
      "text/plain": [
       "HBox(children=(IntProgress(value=0, description='Epoch 26', max=227, style=ProgressStyle(description_width='in…"
      ]
     },
     "metadata": {},
     "output_type": "display_data"
    },
    {
     "name": "stdout",
     "output_type": "stream",
     "text": [
      "[ Epoch 26 ]\n",
      "[Training]  loss: 2.970538389044133, ppl:  19.50242, accuracy: 69.022 %, elapse: 19232.895ms\n",
      "[Validation]  loss: 2.5717140480324074,  ppl:  13.08824, accuracy: 60.585 %, elapse: 288.249ms\n"
     ]
    },
    {
     "data": {
      "application/vnd.jupyter.widget-view+json": {
       "model_id": "faf698a0b5e443aca069699438570785",
       "version_major": 2,
       "version_minor": 0
      },
      "text/plain": [
       "HBox(children=(IntProgress(value=0, description='Epoch 27', max=227, style=ProgressStyle(description_width='in…"
      ]
     },
     "metadata": {},
     "output_type": "display_data"
    },
    {
     "name": "stdout",
     "output_type": "stream",
     "text": [
      "[ Epoch 27 ]\n",
      "[Training]  loss: 2.932887938489493, ppl:  18.78179, accuracy: 69.570 %, elapse: 19022.968ms\n",
      "[Validation]  loss: 2.583282560338536,  ppl:  13.24053, accuracy: 60.563 %, elapse: 291.326ms\n"
     ]
    },
    {
     "data": {
      "application/vnd.jupyter.widget-view+json": {
       "model_id": "b074b318f55a450d9c81ec63a4a3e923",
       "version_major": 2,
       "version_minor": 0
      },
      "text/plain": [
       "HBox(children=(IntProgress(value=0, description='Epoch 28', max=227, style=ProgressStyle(description_width='in…"
      ]
     },
     "metadata": {},
     "output_type": "display_data"
    },
    {
     "name": "stdout",
     "output_type": "stream",
     "text": [
      "[ Epoch 28 ]\n",
      "[Training]  loss: 2.9000793092342505, ppl:  18.17559, accuracy: 70.081 %, elapse: 19208.324ms\n",
      "[Validation]  loss: 2.5588046949156906,  ppl:  12.92036, accuracy: 60.921 %, elapse: 288.368ms\n",
      "Checkpointing Validation Model...\n"
     ]
    },
    {
     "data": {
      "application/vnd.jupyter.widget-view+json": {
       "model_id": "f53f9e4777d94fadab63eef5e7f748c5",
       "version_major": 2,
       "version_minor": 0
      },
      "text/plain": [
       "HBox(children=(IntProgress(value=0, description='Epoch 29', max=227, style=ProgressStyle(description_width='in…"
      ]
     },
     "metadata": {},
     "output_type": "display_data"
    },
    {
     "name": "stdout",
     "output_type": "stream",
     "text": [
      "[ Epoch 29 ]\n",
      "[Training]  loss: 2.8655112512750396, ppl:  17.55803, accuracy: 70.664 %, elapse: 19232.314ms\n",
      "[Validation]  loss: 2.5717961628138655,  ppl:  13.08931, accuracy: 60.928 %, elapse: 288.946ms\n",
      "Checkpointing Validation Model...\n"
     ]
    },
    {
     "data": {
      "application/vnd.jupyter.widget-view+json": {
       "model_id": "494bf4132b204c198b07c20eed191103",
       "version_major": 2,
       "version_minor": 0
      },
      "text/plain": [
       "HBox(children=(IntProgress(value=0, description='Epoch 30', max=227, style=ProgressStyle(description_width='in…"
      ]
     },
     "metadata": {},
     "output_type": "display_data"
    },
    {
     "name": "stdout",
     "output_type": "stream",
     "text": [
      "[ Epoch 30 ]\n",
      "[Training]  loss: 2.8326299293565005, ppl:  16.99008, accuracy: 71.201 %, elapse: 19191.897ms\n",
      "[Validation]  loss: 2.5638964060205334,  ppl:  12.98632, accuracy: 60.542 %, elapse: 286.521ms\n"
     ]
    },
    {
     "data": {
      "application/vnd.jupyter.widget-view+json": {
       "model_id": "0e4a7761ea7c49d2a09152a945f8ddef",
       "version_major": 2,
       "version_minor": 0
      },
      "text/plain": [
       "HBox(children=(IntProgress(value=0, description='Epoch 31', max=227, style=ProgressStyle(description_width='in…"
      ]
     },
     "metadata": {},
     "output_type": "display_data"
    },
    {
     "name": "stdout",
     "output_type": "stream",
     "text": [
      "[ Epoch 31 ]\n",
      "[Training]  loss: 2.8010262737999496, ppl:  16.46153, accuracy: 71.651 %, elapse: 19151.319ms\n",
      "[Validation]  loss: 2.553544679116072,  ppl:  12.85258, accuracy: 60.936 %, elapse: 287.549ms\n",
      "Checkpointing Validation Model...\n"
     ]
    },
    {
     "data": {
      "application/vnd.jupyter.widget-view+json": {
       "model_id": "bd2d56c6430b42fe99a1e1e735319d49",
       "version_major": 2,
       "version_minor": 0
      },
      "text/plain": [
       "HBox(children=(IntProgress(value=0, description='Epoch 32', max=227, style=ProgressStyle(description_width='in…"
      ]
     },
     "metadata": {},
     "output_type": "display_data"
    },
    {
     "name": "stdout",
     "output_type": "stream",
     "text": [
      "[ Epoch 32 ]\n",
      "[Training]  loss: 2.7683642373515585, ppl:  15.93255, accuracy: 72.264 %, elapse: 19249.395ms\n",
      "[Validation]  loss: 2.558455457864326,  ppl:  12.91585, accuracy: 61.022 %, elapse: 286.093ms\n",
      "Checkpointing Validation Model...\n"
     ]
    },
    {
     "data": {
      "application/vnd.jupyter.widget-view+json": {
       "model_id": "7ff0a6831fd6480a94e309bed78293c7",
       "version_major": 2,
       "version_minor": 0
      },
      "text/plain": [
       "HBox(children=(IntProgress(value=0, description='Epoch 33', max=227, style=ProgressStyle(description_width='in…"
      ]
     },
     "metadata": {},
     "output_type": "display_data"
    },
    {
     "name": "stdout",
     "output_type": "stream",
     "text": [
      "[ Epoch 33 ]\n",
      "[Training]  loss: 2.738777834456113, ppl:  15.46807, accuracy: 72.763 %, elapse: 19324.383ms\n",
      "[Validation]  loss: 2.5463302265787306,  ppl:  12.76019, accuracy: 61.029 %, elapse: 287.187ms\n",
      "Checkpointing Validation Model...\n"
     ]
    },
    {
     "data": {
      "application/vnd.jupyter.widget-view+json": {
       "model_id": "4b524f5795734645a4a8124b28a3abf7",
       "version_major": 2,
       "version_minor": 0
      },
      "text/plain": [
       "HBox(children=(IntProgress(value=0, description='Epoch 34', max=227, style=ProgressStyle(description_width='in…"
      ]
     },
     "metadata": {},
     "output_type": "display_data"
    },
    {
     "name": "stdout",
     "output_type": "stream",
     "text": [
      "[ Epoch 34 ]\n",
      "[Training]  loss: 2.7079431309204782, ppl:  14.99839, accuracy: 73.224 %, elapse: 19169.953ms\n",
      "[Validation]  loss: 2.5505116966428467,  ppl:  12.81366, accuracy: 61.065 %, elapse: 287.598ms\n",
      "Checkpointing Validation Model...\n"
     ]
    },
    {
     "data": {
      "application/vnd.jupyter.widget-view+json": {
       "model_id": "410e3d2c1ab743c1825ff0610a18cac3",
       "version_major": 2,
       "version_minor": 0
      },
      "text/plain": [
       "HBox(children=(IntProgress(value=0, description='Epoch 35', max=227, style=ProgressStyle(description_width='in…"
      ]
     },
     "metadata": {},
     "output_type": "display_data"
    },
    {
     "name": "stdout",
     "output_type": "stream",
     "text": [
      "[ Epoch 35 ]\n",
      "[Training]  loss: 2.6801784852383355, ppl:  14.58770, accuracy: 73.786 %, elapse: 19254.931ms\n",
      "[Validation]  loss: 2.5525227130010206,  ppl:  12.83945, accuracy: 61.151 %, elapse: 286.926ms\n",
      "Checkpointing Validation Model...\n"
     ]
    },
    {
     "data": {
      "application/vnd.jupyter.widget-view+json": {
       "model_id": "250b0cd7c60246c581876b49a81b4f2f",
       "version_major": 2,
       "version_minor": 0
      },
      "text/plain": [
       "HBox(children=(IntProgress(value=0, description='Epoch 36', max=227, style=ProgressStyle(description_width='in…"
      ]
     },
     "metadata": {},
     "output_type": "display_data"
    },
    {
     "name": "stdout",
     "output_type": "stream",
     "text": [
      "[ Epoch 36 ]\n",
      "[Training]  loss: 2.6538176551126043, ppl:  14.20818, accuracy: 74.162 %, elapse: 19206.389ms\n",
      "[Validation]  loss: 2.5462488113907247,  ppl:  12.75915, accuracy: 61.165 %, elapse: 292.544ms\n",
      "Checkpointing Validation Model...\n"
     ]
    },
    {
     "data": {
      "application/vnd.jupyter.widget-view+json": {
       "model_id": "dec6a5fd0ed2429495b59d6e0fe0f252",
       "version_major": 2,
       "version_minor": 0
      },
      "text/plain": [
       "HBox(children=(IntProgress(value=0, description='Epoch 37', max=227, style=ProgressStyle(description_width='in…"
      ]
     },
     "metadata": {},
     "output_type": "display_data"
    },
    {
     "name": "stdout",
     "output_type": "stream",
     "text": [
      "[ Epoch 37 ]\n",
      "[Training]  loss: 2.626255959568011, ppl:  13.82192, accuracy: 74.706 %, elapse: 19279.195ms\n",
      "[Validation]  loss: 2.5454947370983776,  ppl:  12.74953, accuracy: 61.365 %, elapse: 288.078ms\n",
      "Checkpointing Validation Model...\n"
     ]
    },
    {
     "data": {
      "application/vnd.jupyter.widget-view+json": {
       "model_id": "68d227dc251243b7b05860cafcef9b0b",
       "version_major": 2,
       "version_minor": 0
      },
      "text/plain": [
       "HBox(children=(IntProgress(value=0, description='Epoch 38', max=227, style=ProgressStyle(description_width='in…"
      ]
     },
     "metadata": {},
     "output_type": "display_data"
    },
    {
     "name": "stdout",
     "output_type": "stream",
     "text": [
      "[ Epoch 38 ]\n",
      "[Training]  loss: 2.597747584029436, ppl:  13.43345, accuracy: 75.161 %, elapse: 19240.255ms\n",
      "[Validation]  loss: 2.554861646300102,  ppl:  12.86952, accuracy: 61.545 %, elapse: 287.290ms\n",
      "Checkpointing Validation Model...\n"
     ]
    },
    {
     "data": {
      "application/vnd.jupyter.widget-view+json": {
       "model_id": "396be6819d274083988721435cbef439",
       "version_major": 2,
       "version_minor": 0
      },
      "text/plain": [
       "HBox(children=(IntProgress(value=0, description='Epoch 39', max=227, style=ProgressStyle(description_width='in…"
      ]
     },
     "metadata": {},
     "output_type": "display_data"
    },
    {
     "name": "stdout",
     "output_type": "stream",
     "text": [
      "[ Epoch 39 ]\n",
      "[Training]  loss: 2.571709822023426, ppl:  13.08818, accuracy: 75.665 %, elapse: 19283.040ms\n",
      "[Validation]  loss: 2.5563447319493697,  ppl:  12.88862, accuracy: 61.129 %, elapse: 287.303ms\n"
     ]
    },
    {
     "data": {
      "application/vnd.jupyter.widget-view+json": {
       "model_id": "7a1bf1ab2a814dc8ae9036cf7b1114db",
       "version_major": 2,
       "version_minor": 0
      },
      "text/plain": [
       "HBox(children=(IntProgress(value=0, description='Epoch 40', max=227, style=ProgressStyle(description_width='in…"
      ]
     },
     "metadata": {},
     "output_type": "display_data"
    },
    {
     "name": "stdout",
     "output_type": "stream",
     "text": [
      "[ Epoch 40 ]\n",
      "[Training]  loss: 2.54691290225444, ppl:  12.76763, accuracy: 76.105 %, elapse: 19251.555ms\n",
      "[Validation]  loss: 2.5683553348478134,  ppl:  13.04435, accuracy: 61.086 %, elapse: 289.211ms\n"
     ]
    },
    {
     "data": {
      "application/vnd.jupyter.widget-view+json": {
       "model_id": "c43e04ca9c2240c580d84d6c592b0bda",
       "version_major": 2,
       "version_minor": 0
      },
      "text/plain": [
       "HBox(children=(IntProgress(value=0, description='Epoch 41', max=227, style=ProgressStyle(description_width='in…"
      ]
     },
     "metadata": {},
     "output_type": "display_data"
    },
    {
     "name": "stdout",
     "output_type": "stream",
     "text": [
      "[ Epoch 41 ]\n",
      "[Training]  loss: 2.5214596745709623, ppl:  12.44675, accuracy: 76.567 %, elapse: 19161.765ms\n",
      "[Validation]  loss: 2.5596232192548265,  ppl:  12.93094, accuracy: 61.086 %, elapse: 287.415ms\n"
     ]
    },
    {
     "data": {
      "application/vnd.jupyter.widget-view+json": {
       "model_id": "c52a03fd26c246cf9934a49faa40316e",
       "version_major": 2,
       "version_minor": 0
      },
      "text/plain": [
       "HBox(children=(IntProgress(value=0, description='Epoch 42', max=227, style=ProgressStyle(description_width='in…"
      ]
     },
     "metadata": {},
     "output_type": "display_data"
    },
    {
     "name": "stdout",
     "output_type": "stream",
     "text": [
      "[ Epoch 42 ]\n",
      "[Training]  loss: 2.498970646289876, ppl:  12.16996, accuracy: 76.955 %, elapse: 19297.633ms\n",
      "[Validation]  loss: 2.565563572196925,  ppl:  13.00799, accuracy: 61.666 %, elapse: 287.214ms\n",
      "Checkpointing Validation Model...\n"
     ]
    },
    {
     "data": {
      "application/vnd.jupyter.widget-view+json": {
       "model_id": "90f256639c6a43e88beef845b55adf20",
       "version_major": 2,
       "version_minor": 0
      },
      "text/plain": [
       "HBox(children=(IntProgress(value=0, description='Epoch 43', max=227, style=ProgressStyle(description_width='in…"
      ]
     },
     "metadata": {},
     "output_type": "display_data"
    },
    {
     "name": "stdout",
     "output_type": "stream",
     "text": [
      "[ Epoch 43 ]\n",
      "[Training]  loss: 2.476282393978307, ppl:  11.89695, accuracy: 77.352 %, elapse: 19248.771ms\n",
      "[Validation]  loss: 2.5854675655882855,  ppl:  13.26949, accuracy: 61.265 %, elapse: 287.247ms\n"
     ]
    },
    {
     "data": {
      "application/vnd.jupyter.widget-view+json": {
       "model_id": "24d30c7d1ec34f4695477b9c196535e6",
       "version_major": 2,
       "version_minor": 0
      },
      "text/plain": [
       "HBox(children=(IntProgress(value=0, description='Epoch 44', max=227, style=ProgressStyle(description_width='in…"
      ]
     },
     "metadata": {},
     "output_type": "display_data"
    },
    {
     "name": "stdout",
     "output_type": "stream",
     "text": [
      "[ Epoch 44 ]\n",
      "[Training]  loss: 2.450184462506979, ppl:  11.59048, accuracy: 77.775 %, elapse: 19342.824ms\n",
      "[Validation]  loss: 2.5886967840248674,  ppl:  13.31241, accuracy: 61.208 %, elapse: 287.669ms\n"
     ]
    },
    {
     "data": {
      "application/vnd.jupyter.widget-view+json": {
       "model_id": "0991fe055f2e4c1a8f904ef5c52554fd",
       "version_major": 2,
       "version_minor": 0
      },
      "text/plain": [
       "HBox(children=(IntProgress(value=0, description='Epoch 45', max=227, style=ProgressStyle(description_width='in…"
      ]
     },
     "metadata": {},
     "output_type": "display_data"
    },
    {
     "name": "stdout",
     "output_type": "stream",
     "text": [
      "[ Epoch 45 ]\n",
      "[Training]  loss: 2.4313040332251825, ppl:  11.37370, accuracy: 78.162 %, elapse: 19217.146ms\n",
      "[Validation]  loss: 2.589681234441042,  ppl:  13.32552, accuracy: 61.272 %, elapse: 286.766ms\n"
     ]
    },
    {
     "data": {
      "application/vnd.jupyter.widget-view+json": {
       "model_id": "25c5ec5f890f44b7a6dd7bc15f2af27a",
       "version_major": 2,
       "version_minor": 0
      },
      "text/plain": [
       "HBox(children=(IntProgress(value=0, description='Epoch 46', max=227, style=ProgressStyle(description_width='in…"
      ]
     },
     "metadata": {},
     "output_type": "display_data"
    },
    {
     "name": "stdout",
     "output_type": "stream",
     "text": [
      "[ Epoch 46 ]\n",
      "[Training]  loss: 2.407496511081418, ppl:  11.10612, accuracy: 78.595 %, elapse: 19273.083ms\n",
      "[Validation]  loss: 2.5865377686718696,  ppl:  13.28370, accuracy: 61.172 %, elapse: 287.521ms\n"
     ]
    },
    {
     "data": {
      "application/vnd.jupyter.widget-view+json": {
       "model_id": "1771318771844e68bc16de120276bc1f",
       "version_major": 2,
       "version_minor": 0
      },
      "text/plain": [
       "HBox(children=(IntProgress(value=0, description='Epoch 47', max=227, style=ProgressStyle(description_width='in…"
      ]
     },
     "metadata": {},
     "output_type": "display_data"
    },
    {
     "name": "stdout",
     "output_type": "stream",
     "text": [
      "[ Epoch 47 ]\n",
      "[Training]  loss: 2.387569536504241, ppl:  10.88700, accuracy: 78.908 %, elapse: 19187.665ms\n",
      "[Validation]  loss: 2.588779196133543,  ppl:  13.31351, accuracy: 61.537 %, elapse: 287.255ms\n"
     ]
    },
    {
     "data": {
      "application/vnd.jupyter.widget-view+json": {
       "model_id": "cf3f656cc0bc4c279a54aa7510830e42",
       "version_major": 2,
       "version_minor": 0
      },
      "text/plain": [
       "HBox(children=(IntProgress(value=0, description='Epoch 48', max=227, style=ProgressStyle(description_width='in…"
      ]
     },
     "metadata": {},
     "output_type": "display_data"
    },
    {
     "name": "stdout",
     "output_type": "stream",
     "text": [
      "[ Epoch 48 ]\n",
      "[Training]  loss: 2.3634617543730814, ppl:  10.62768, accuracy: 79.446 %, elapse: 19346.606ms\n",
      "[Validation]  loss: 2.586259278008364,  ppl:  13.28000, accuracy: 61.244 %, elapse: 287.271ms\n"
     ]
    },
    {
     "data": {
      "application/vnd.jupyter.widget-view+json": {
       "model_id": "7cdbb6c2cf374bc4b3fab601d4f07537",
       "version_major": 2,
       "version_minor": 0
      },
      "text/plain": [
       "HBox(children=(IntProgress(value=0, description='Epoch 49', max=227, style=ProgressStyle(description_width='in…"
      ]
     },
     "metadata": {},
     "output_type": "display_data"
    },
    {
     "name": "stdout",
     "output_type": "stream",
     "text": [
      "[ Epoch 49 ]\n",
      "[Training]  loss: 2.3470888432062367, ppl:  10.45509, accuracy: 79.760 %, elapse: 19267.039ms\n",
      "[Validation]  loss: 2.578025202994036,  ppl:  13.17110, accuracy: 61.459 %, elapse: 287.232ms\n",
      "\n"
     ]
    }
   ],
   "source": [
    "# Continuous space discretization\n",
    "timesteps = np.linspace(0., 1, num=6)\n",
    "timesteps = torch.from_numpy(timesteps).float()\n",
    "\n",
    "EPOCHS = 50\n",
    "LOG_INTERVAL = 5\n",
    "\n",
    "#from torch import autograd\n",
    "#with autograd.detect_anomaly():\n",
    "model_process.train(\n",
    "    exp_name, unique_id,\n",
    "    model, \n",
    "    train_loader, val_loader, timesteps,\n",
    "    optimizer, device,\n",
    "    epochs=EPOCHS, tb=tb, log_interval=LOG_INTERVAL,\n",
    "    #start_epoch=0, best_valid_accu=state[\"acc\"]\n",
    ")"
   ]
  },
  {
   "cell_type": "markdown",
   "metadata": {},
   "source": [
    "### Restore best checkpoint (to restart past training)"
   ]
  },
  {
   "cell_type": "code",
   "execution_count": null,
   "metadata": {},
   "outputs": [],
   "source": [
    "state = checkpoints.restore_best_checkpoint(\n",
    "    \"node_transformer_multi30k\", \"2019-05-29_1200\", \"validation\", model, optimizer)\n",
    "\n",
    "print(\"accuracy\", state[\"acc\"])\n",
    "print(\"loss\", state[\"loss\"])\n",
    "model = model.to(device)"
   ]
  }
 ],
 "metadata": {
  "kernelspec": {
   "display_name": "Python 3",
   "language": "python",
   "name": "python3"
  },
  "language_info": {
   "codemirror_mode": {
    "name": "ipython",
    "version": 3
   },
   "file_extension": ".py",
   "mimetype": "text/x-python",
   "name": "python",
   "nbconvert_exporter": "python",
   "pygments_lexer": "ipython3",
   "version": "3.6.8"
  }
 },
 "nbformat": 4,
 "nbformat_minor": 2
}
