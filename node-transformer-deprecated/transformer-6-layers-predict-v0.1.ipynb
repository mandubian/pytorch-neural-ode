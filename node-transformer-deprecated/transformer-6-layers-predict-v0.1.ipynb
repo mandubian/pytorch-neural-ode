{
 "cells": [
  {
   "cell_type": "code",
   "execution_count": 1,
   "metadata": {},
   "outputs": [
    {
     "name": "stdout",
     "output_type": "stream",
     "text": [
      "Torch Version 1.1.0\n"
     ]
    }
   ],
   "source": [
    "import numpy as np\n",
    "import torch\n",
    "import torch.utils.data\n",
    "import torch.nn as nn\n",
    "import torch.optim as optim\n",
    "\n",
    "import torchdiffeq\n",
    "\n",
    "from tensorboard_utils import Tensorboard\n",
    "from tensorboard_utils import tensorboard_event_accumulator\n",
    "\n",
    "import transformer.Constants as Constants\n",
    "from transformer.Layers import EncoderLayer, DecoderLayer\n",
    "from transformer.Modules import ScaledDotProductAttention\n",
    "from transformer.Models import Decoder, get_attn_key_pad_mask, get_non_pad_mask, get_sinusoid_encoding_table\n",
    "from transformer.SubLayers import PositionwiseFeedForward\n",
    "\n",
    "import dataset\n",
    "\n",
    "import model_process\n",
    "import checkpoints\n",
    "from node_transformer import NodeTransformer\n",
    "\n",
    "import matplotlib\n",
    "import numpy as np\n",
    "import matplotlib.pyplot as plt\n",
    "#%matplotlib notebook  \n",
    "%matplotlib inline\n",
    "%config InlineBackend.figure_format = 'retina'\n",
    "\n",
    "print(\"Torch Version\", torch.__version__)\n",
    "\n",
    "%load_ext autoreload\n",
    "%autoreload 2"
   ]
  },
  {
   "cell_type": "code",
   "execution_count": 2,
   "metadata": {},
   "outputs": [
    {
     "name": "stdout",
     "output_type": "stream",
     "text": [
      "device cuda\n"
     ]
    }
   ],
   "source": [
    "seed = 1\n",
    "torch.manual_seed(seed)\n",
    "device = torch.device(\"cuda\")\n",
    "print(\"device\", device)"
   ]
  },
  {
   "cell_type": "code",
   "execution_count": 3,
   "metadata": {},
   "outputs": [],
   "source": [
    "data = torch.load(\"/home/mandubian/datasets/multi30k/multi30k.atok.low.pt\")"
   ]
  },
  {
   "cell_type": "code",
   "execution_count": 4,
   "metadata": {},
   "outputs": [
    {
     "name": "stdout",
     "output_type": "stream",
     "text": [
      "52\n"
     ]
    }
   ],
   "source": [
    "max_token_seq_len = data['settings'].max_token_seq_len\n",
    "print(max_token_seq_len)"
   ]
  },
  {
   "cell_type": "code",
   "execution_count": 5,
   "metadata": {},
   "outputs": [],
   "source": [
    "train_loader, val_loader = dataset.prepare_dataloaders(data, batch_size=16)"
   ]
  },
  {
   "cell_type": "markdown",
   "metadata": {},
   "source": [
    "### Create an experiment with a name and a unique ID"
   ]
  },
  {
   "cell_type": "code",
   "execution_count": 6,
   "metadata": {},
   "outputs": [],
   "source": [
    "exp_name = \"transformer_6_layers_multi30k\"\n",
    "unique_id = \"2019-06-07_1000\"\n"
   ]
  },
  {
   "cell_type": "markdown",
   "metadata": {},
   "source": [
    "### Create Model"
   ]
  },
  {
   "cell_type": "code",
   "execution_count": 7,
   "metadata": {},
   "outputs": [],
   "source": [
    "model = None"
   ]
  },
  {
   "cell_type": "code",
   "execution_count": 8,
   "metadata": {},
   "outputs": [
    {
     "name": "stdout",
     "output_type": "stream",
     "text": [
      "src_vocab_sz 9795\n",
      "tgt_vocab_sz 17989\n"
     ]
    }
   ],
   "source": [
    "\n",
    "src_vocab_sz = train_loader.dataset.src_vocab_size\n",
    "print(\"src_vocab_sz\", src_vocab_sz)\n",
    "tgt_vocab_sz = train_loader.dataset.tgt_vocab_size\n",
    "print(\"tgt_vocab_sz\", tgt_vocab_sz)\n",
    "\n",
    "if model:\n",
    "    del model\n",
    "    \n",
    "model = NodeTransformer(\n",
    "    n_src_vocab=max(src_vocab_sz, tgt_vocab_sz),\n",
    "    n_tgt_vocab=max(src_vocab_sz, tgt_vocab_sz),\n",
    "    len_max_seq=max_token_seq_len,\n",
    "    n_layers=6,    \n",
    "    #emb_src_tgt_weight_sharing=False,\n",
    "    #d_word_vec=128, d_model=128, d_inner=512,\n",
    "    n_head=8, method='dopri5-ext', rtol=1e-3, atol=1e-3,\n",
    "    has_node_encoder=False, has_node_decoder=False)\n",
    "\n",
    "model = model.to(device)"
   ]
  },
  {
   "cell_type": "markdown",
   "metadata": {},
   "source": [
    "### Create basic optimizer"
   ]
  },
  {
   "cell_type": "code",
   "execution_count": 9,
   "metadata": {},
   "outputs": [],
   "source": [
    "optimizer = optim.Adam(model.parameters(), lr=1e-4, betas=(0.9, 0.995), eps=1e-9)\n"
   ]
  },
  {
   "cell_type": "markdown",
   "metadata": {},
   "source": [
    "### Restore best checkpoint (to restart past training)"
   ]
  },
  {
   "cell_type": "code",
   "execution_count": 10,
   "metadata": {},
   "outputs": [
    {
     "name": "stdout",
     "output_type": "stream",
     "text": [
      "Extracting state from checkpoints/transformer_6_layers_multi30k_2019-06-07_1000_validation_best.pth\n",
      "Loading model state_dict from state found in checkpoints/transformer_6_layers_multi30k_2019-06-07_1000_validation_best.pth\n",
      "Loading optimizer state_dict from state found in checkpoints/transformer_6_layers_multi30k_2019-06-07_1000_validation_best.pth\n",
      "accuracy 0.5533347661007235\n",
      "loss 3.2005433952221685\n"
     ]
    }
   ],
   "source": [
    "state = checkpoints.restore_best_checkpoint(\n",
    "    exp_name, unique_id, \"validation\", model, optimizer)\n",
    "\n",
    "print(\"accuracy\", state[\"acc\"])\n",
    "print(\"loss\", state[\"loss\"])\n",
    "model = model.to(device)"
   ]
  },
  {
   "cell_type": "code",
   "execution_count": 17,
   "metadata": {},
   "outputs": [
    {
     "name": "stdout",
     "output_type": "stream",
     "text": [
      "(tensor([[   2, 5572, 4113, 8034, 1523, 3968,  995, 7521, 9726, 5572, 8218,    3,\n",
      "            0,    0,    0,    0,    0,    0,    0,    0,    0,    0,    0,    0,\n",
      "            0,    0,    0],\n",
      "        [   2, 5572, 4185, 7761, 6389, 5572, 5008, 9291, 1160, 5572, 7354, 5955,\n",
      "            3,    0,    0,    0,    0,    0,    0,    0,    0,    0,    0,    0,\n",
      "            0,    0,    0],\n",
      "        [   2, 5572, 4112, 5604, 1057, 5597, 1160, 5572, 9392, 3470, 1384, 5955,\n",
      "            3,    0,    0,    0,    0,    0,    0,    0,    0,    0,    0,    0,\n",
      "            0,    0,    0],\n",
      "        [   2,  113, 1523, 8412, 1079, 5572, 2589, 5654, 4474, 3301, 1160,  719,\n",
      "         7091, 6113, 8616,    3,    0,    0,    0,    0,    0,    0,    0,    0,\n",
      "            0,    0,    0],\n",
      "        [   2, 5572, 7703, 4185, 5604, 5572, 3307, 4898, 2278, 6919, 3192, 6389,\n",
      "         5572,  963, 6016, 5955,    3,    0,    0,    0,    0,    0,    0,    0,\n",
      "            0,    0,    0],\n",
      "        [   2, 5572, 3160, 6389, 5572, 3307, 8755, 2285,  642, 5572, 9441, 6346,\n",
      "         8945, 6805, 8034, 2955, 4506, 2285, 6150, 7857, 6909, 6184,  132, 5572,\n",
      "            1, 5955,    3],\n",
      "        [   2, 5572, 2277, 4022, 6919, 6910, 7800, 6909, 6570, 4022, 5955,    3,\n",
      "            0,    0,    0,    0,    0,    0,    0,    0,    0,    0,    0,    0,\n",
      "            0,    0,    0],\n",
      "        [   2, 5572, 7377, 4112, 5604, 5572, 3369, 6030, 1528, 5572, 4802,  851,\n",
      "          342,  719, 7518, 9566, 5955,    3,    0,    0,    0,    0,    0,    0,\n",
      "            0,    0,    0],\n",
      "        [   2, 5572, 4185, 6389, 5572, 3162, 7457, 6919, 8739, 6909, 9721,    3,\n",
      "            0,    0,    0,    0,    0,    0,    0,    0,    0,    0,    0,    0,\n",
      "            0,    0,    0],\n",
      "        [   2, 5572, 6542, 9392, 6389, 5572, 8879,  944, 9364, 8238,  642, 5572,\n",
      "         6480,  233,    3,    0,    0,    0,    0,    0,    0,    0,    0,    0,\n",
      "            0,    0,    0],\n",
      "        [   2, 5572, 7377, 3900, 6919,  731, 2184, 1160, 2849, 3003, 2131, 5955,\n",
      "            3,    0,    0,    0,    0,    0,    0,    0,    0,    0,    0,    0,\n",
      "            0,    0,    0],\n",
      "        [   2, 5572, 2618, 1160, 5572, 8994, 6389, 6000, 8829, 5955,    3,    0,\n",
      "            0,    0,    0,    0,    0,    0,    0,    0,    0,    0,    0,    0,\n",
      "            0,    0,    0],\n",
      "        [   2, 1005, 7377, 6950, 9691, 8444, 5572, 2589,  952, 1425, 6052, 5955,\n",
      "            3,    0,    0,    0,    0,    0,    0,    0,    0,    0,    0,    0,\n",
      "            0,    0,    0],\n",
      "        [   2, 5572, 9392, 6919, 3192, 7693, 4604,  457, 5701, 3751,  342,  719,\n",
      "         9432, 7979, 5955,    3,    0,    0,    0,    0,    0,    0,    0,    0,\n",
      "            0,    0,    0],\n",
      "        [   2, 5572, 2695, 5736, 5572, 1216, 1160, 4604,  418, 5955,    3,    0,\n",
      "            0,    0,    0,    0,    0,    0,    0,    0,    0,    0,    0,    0,\n",
      "            0,    0,    0],\n",
      "        [   2, 1005,  791, 1160,  113, 9137, 9084, 6908,  952, 5686, 6166, 9084,\n",
      "         3776, 3968, 1963, 7682, 2277, 1723, 5955,    3,    0,    0,    0,    0,\n",
      "            0,    0,    0]]), tensor([[ 1,  2,  3,  4,  5,  6,  7,  8,  9, 10, 11, 12,  0,  0,  0,  0,  0,  0,\n",
      "          0,  0,  0,  0,  0,  0,  0,  0,  0],\n",
      "        [ 1,  2,  3,  4,  5,  6,  7,  8,  9, 10, 11, 12, 13,  0,  0,  0,  0,  0,\n",
      "          0,  0,  0,  0,  0,  0,  0,  0,  0],\n",
      "        [ 1,  2,  3,  4,  5,  6,  7,  8,  9, 10, 11, 12, 13,  0,  0,  0,  0,  0,\n",
      "          0,  0,  0,  0,  0,  0,  0,  0,  0],\n",
      "        [ 1,  2,  3,  4,  5,  6,  7,  8,  9, 10, 11, 12, 13, 14, 15, 16,  0,  0,\n",
      "          0,  0,  0,  0,  0,  0,  0,  0,  0],\n",
      "        [ 1,  2,  3,  4,  5,  6,  7,  8,  9, 10, 11, 12, 13, 14, 15, 16, 17,  0,\n",
      "          0,  0,  0,  0,  0,  0,  0,  0,  0],\n",
      "        [ 1,  2,  3,  4,  5,  6,  7,  8,  9, 10, 11, 12, 13, 14, 15, 16, 17, 18,\n",
      "         19, 20, 21, 22, 23, 24, 25, 26, 27],\n",
      "        [ 1,  2,  3,  4,  5,  6,  7,  8,  9, 10, 11, 12,  0,  0,  0,  0,  0,  0,\n",
      "          0,  0,  0,  0,  0,  0,  0,  0,  0],\n",
      "        [ 1,  2,  3,  4,  5,  6,  7,  8,  9, 10, 11, 12, 13, 14, 15, 16, 17, 18,\n",
      "          0,  0,  0,  0,  0,  0,  0,  0,  0],\n",
      "        [ 1,  2,  3,  4,  5,  6,  7,  8,  9, 10, 11, 12,  0,  0,  0,  0,  0,  0,\n",
      "          0,  0,  0,  0,  0,  0,  0,  0,  0],\n",
      "        [ 1,  2,  3,  4,  5,  6,  7,  8,  9, 10, 11, 12, 13, 14, 15,  0,  0,  0,\n",
      "          0,  0,  0,  0,  0,  0,  0,  0,  0],\n",
      "        [ 1,  2,  3,  4,  5,  6,  7,  8,  9, 10, 11, 12, 13,  0,  0,  0,  0,  0,\n",
      "          0,  0,  0,  0,  0,  0,  0,  0,  0],\n",
      "        [ 1,  2,  3,  4,  5,  6,  7,  8,  9, 10, 11,  0,  0,  0,  0,  0,  0,  0,\n",
      "          0,  0,  0,  0,  0,  0,  0,  0,  0],\n",
      "        [ 1,  2,  3,  4,  5,  6,  7,  8,  9, 10, 11, 12, 13,  0,  0,  0,  0,  0,\n",
      "          0,  0,  0,  0,  0,  0,  0,  0,  0],\n",
      "        [ 1,  2,  3,  4,  5,  6,  7,  8,  9, 10, 11, 12, 13, 14, 15, 16,  0,  0,\n",
      "          0,  0,  0,  0,  0,  0,  0,  0,  0],\n",
      "        [ 1,  2,  3,  4,  5,  6,  7,  8,  9, 10, 11,  0,  0,  0,  0,  0,  0,  0,\n",
      "          0,  0,  0,  0,  0,  0,  0,  0,  0],\n",
      "        [ 1,  2,  3,  4,  5,  6,  7,  8,  9, 10, 11, 12, 13, 14, 15, 16, 17, 18,\n",
      "         19, 20,  0,  0,  0,  0,  0,  0,  0]]), tensor([[    2, 12709, 12710,  9165,  4869,   762,  4378,  7724,  6533, 14015,\n",
      "             3,     0,     0,     0,     0,     0,     0,     0,     0,     0,\n",
      "             0,     0,     0,     0,     0,     0,     0,     0,     0,     0],\n",
      "        [    2,   594, 13511,  1170, 11767,   267, 12676,  7780,  7724,   267,\n",
      "         10231, 10970,     3,     0,     0,     0,     0,     0,     0,     0,\n",
      "             0,     0,     0,     0,     0,     0,     0,     0,     0,     0],\n",
      "        [    2,   594,  5824, 16796, 10823,  1913,  7724, 14814,   861,  8782,\n",
      "          5885, 10970,     3,     0,     0,     0,     0,     0,     0,     0,\n",
      "             0,     0,     0,     0,     0,     0,     0,     0,     0,     0],\n",
      "        [    2,  1156,  8610, 17445, 12709,  3318,     1,  7724,   267,     1,\n",
      "          2184,  7724,     3,     0,     0,     0,     0,     0,     0,     0,\n",
      "             0,     0,     0,     0,     0,     0,     0,     0,     0,     0],\n",
      "        [    2,   594, 13511, 16796,  1191, 13688,  4124,  7433, 12709,  3483,\n",
      "          2774,  4560,  4124,  1913, 11767,   267,  2911, 16822, 10970,     3,\n",
      "             0,     0,     0,     0,     0,     0,     0,     0,     0,     0],\n",
      "        [    2, 12709,  5885, 11767,   267, 13784,   831,  4124, 10947, 12709,\n",
      "         15977,    21,  4285,     1, 11250, 11767,   267, 16592,  1823, 13641,\n",
      "          4124, 12339,  5839,  6533,   989, 11767, 10947, 13325, 10970,     3],\n",
      "        [    2,   594,  3241,  6211,  8628,    44,  9192,  6211, 15145, 10970,\n",
      "             3,     0,     0,     0,     0,     0,     0,     0,     0,     0,\n",
      "             0,     0,     0,     0,     0,     0,     0,     0,     0,     0],\n",
      "        [    2,   594, 14318,  5824, 16796,   267,  6207, 16709, 17067, 11244,\n",
      "          6533,  3995, 11767,  6520,  8557,   251,  1453, 10970,     3,     0,\n",
      "             0,     0,     0,     0,     0,     0,     0,     0,     0,     0],\n",
      "        [    2,   594, 13511,  7287, 11767,   267, 17683, 13136,     3,     0,\n",
      "             0,     0,     0,     0,     0,     0,     0,     0,     0,     0,\n",
      "             0,     0,     0,     0,     0,     0,     0,     0,     0,     0],\n",
      "        [    2, 12709, 16378,  5885, 16796,   267,  4066, 16717, 13641,   594,\n",
      "          1647,     3,     0,     0,     0,     0,     0,     0,     0,     0,\n",
      "             0,     0,     0,     0,     0,     0,     0,     0,     0,     0],\n",
      "        [    2,   594,  4565, 16260, 11357, 13423,  7724,   267, 10715,  6022,\n",
      "         10970,     3,     0,     0,     0,     0,     0,     0,     0,     0,\n",
      "             0,     0,     0,     0,     0,     0,     0,     0,     0,     0],\n",
      "        [    2, 12709,  4724,  7724,   267, 16730,   282,  7045, 13497, 10970,\n",
      "             3,     0,     0,     0,     0,     0,     0,     0,     0,     0,\n",
      "             0,     0,     0,     0,     0,     0,     0,     0,     0,     0],\n",
      "        [    2,  1474, 17519, 15982,  4566,  4778,   594, 17311, 16709,   931,\n",
      "          8803, 15294, 10970,     3,     0,     0,     0,     0,     0,     0,\n",
      "             0,     0,     0,     0,     0,     0,     0,     0,     0,     0],\n",
      "        [    2, 12709,  5885,  1913,  2967, 10496,     1,  7724,   267,  4822,\n",
      "         10970,     3,     0,     0,     0,     0,     0,     0,     0,     0,\n",
      "             0,     0,     0,     0,     0,     0,     0,     0,     0,     0],\n",
      "        [    2, 12709,  5885,  3984,   594,  1073,  7724, 17605,  6966, 10970,\n",
      "             3,     0,     0,     0,     0,     0,     0,     0,     0,     0,\n",
      "             0,     0,     0,     0,     0,     0,     0,     0,     0,     0],\n",
      "        [    2,  1474, 12162,  7724,  1156,  5183,  7899,   267, 11170,  7714,\n",
      "          2658,  4976, 17887, 10970,     3,     0,     0,     0,     0,     0,\n",
      "             0,     0,     0,     0,     0,     0,     0,     0,     0,     0]]), tensor([[ 1,  2,  3,  4,  5,  6,  7,  8,  9, 10, 11,  0,  0,  0,  0,  0,  0,  0,\n",
      "          0,  0,  0,  0,  0,  0,  0,  0,  0,  0,  0,  0],\n",
      "        [ 1,  2,  3,  4,  5,  6,  7,  8,  9, 10, 11, 12, 13,  0,  0,  0,  0,  0,\n",
      "          0,  0,  0,  0,  0,  0,  0,  0,  0,  0,  0,  0],\n",
      "        [ 1,  2,  3,  4,  5,  6,  7,  8,  9, 10, 11, 12, 13,  0,  0,  0,  0,  0,\n",
      "          0,  0,  0,  0,  0,  0,  0,  0,  0,  0,  0,  0],\n",
      "        [ 1,  2,  3,  4,  5,  6,  7,  8,  9, 10, 11, 12, 13,  0,  0,  0,  0,  0,\n",
      "          0,  0,  0,  0,  0,  0,  0,  0,  0,  0,  0,  0],\n",
      "        [ 1,  2,  3,  4,  5,  6,  7,  8,  9, 10, 11, 12, 13, 14, 15, 16, 17, 18,\n",
      "         19, 20,  0,  0,  0,  0,  0,  0,  0,  0,  0,  0],\n",
      "        [ 1,  2,  3,  4,  5,  6,  7,  8,  9, 10, 11, 12, 13, 14, 15, 16, 17, 18,\n",
      "         19, 20, 21, 22, 23, 24, 25, 26, 27, 28, 29, 30],\n",
      "        [ 1,  2,  3,  4,  5,  6,  7,  8,  9, 10, 11,  0,  0,  0,  0,  0,  0,  0,\n",
      "          0,  0,  0,  0,  0,  0,  0,  0,  0,  0,  0,  0],\n",
      "        [ 1,  2,  3,  4,  5,  6,  7,  8,  9, 10, 11, 12, 13, 14, 15, 16, 17, 18,\n",
      "         19,  0,  0,  0,  0,  0,  0,  0,  0,  0,  0,  0],\n",
      "        [ 1,  2,  3,  4,  5,  6,  7,  8,  9,  0,  0,  0,  0,  0,  0,  0,  0,  0,\n",
      "          0,  0,  0,  0,  0,  0,  0,  0,  0,  0,  0,  0],\n",
      "        [ 1,  2,  3,  4,  5,  6,  7,  8,  9, 10, 11, 12,  0,  0,  0,  0,  0,  0,\n",
      "          0,  0,  0,  0,  0,  0,  0,  0,  0,  0,  0,  0],\n",
      "        [ 1,  2,  3,  4,  5,  6,  7,  8,  9, 10, 11, 12,  0,  0,  0,  0,  0,  0,\n",
      "          0,  0,  0,  0,  0,  0,  0,  0,  0,  0,  0,  0],\n",
      "        [ 1,  2,  3,  4,  5,  6,  7,  8,  9, 10, 11,  0,  0,  0,  0,  0,  0,  0,\n",
      "          0,  0,  0,  0,  0,  0,  0,  0,  0,  0,  0,  0],\n",
      "        [ 1,  2,  3,  4,  5,  6,  7,  8,  9, 10, 11, 12, 13, 14,  0,  0,  0,  0,\n",
      "          0,  0,  0,  0,  0,  0,  0,  0,  0,  0,  0,  0],\n",
      "        [ 1,  2,  3,  4,  5,  6,  7,  8,  9, 10, 11, 12,  0,  0,  0,  0,  0,  0,\n",
      "          0,  0,  0,  0,  0,  0,  0,  0,  0,  0,  0,  0],\n",
      "        [ 1,  2,  3,  4,  5,  6,  7,  8,  9, 10, 11,  0,  0,  0,  0,  0,  0,  0,\n",
      "          0,  0,  0,  0,  0,  0,  0,  0,  0,  0,  0,  0],\n",
      "        [ 1,  2,  3,  4,  5,  6,  7,  8,  9, 10, 11, 12, 13, 14, 15,  0,  0,  0,\n",
      "          0,  0,  0,  0,  0,  0,  0,  0,  0,  0,  0,  0]]))\n",
      "<s> a group of men are loading cotton onto a truck </s> <blank> <blank> <blank> <blank> <blank> <blank> <blank> <blank> <blank> <blank> <blank> <blank> <blank> <blank> <blank>\n",
      "<s> eine gruppe von männern lädt baumwolle auf einen lastwagen </s> <blank> <blank> <blank> <blank> <blank> <blank> <blank> <blank> <blank> <blank> <blank> <blank> <blank> <blank> <blank> <blank> <blank> <blank> <blank>\n"
     ]
    }
   ],
   "source": [
    "fst = next(iter(val_loader))\n",
    "print(fst)\n",
    "en = ' '.join([val_loader.dataset.src_idx2word[idx] for idx in fst[0][0].numpy()])\n",
    "ge = ' '.join([val_loader.dataset.tgt_idx2word[idx] for idx in fst[2][0].numpy()])\n",
    "print(en)\n",
    "print(ge)"
   ]
  },
  {
   "cell_type": "code",
   "execution_count": 18,
   "metadata": {},
   "outputs": [],
   "source": [
    "timesteps = np.linspace(0., 1, num=6)\n",
    "timesteps = torch.from_numpy(timesteps).float().to(device)\n",
    "\n",
    "qs = fst[0]\n",
    "qs_pos = fst[1]\n",
    "resp = model_process.predict_single(qs, qs_pos, model, timesteps, device, max_token_seq_len)\n"
   ]
  },
  {
   "cell_type": "code",
   "execution_count": 20,
   "metadata": {},
   "outputs": [
    {
     "name": "stdout",
     "output_type": "stream",
     "text": [
      "score -0.0947723388671875\n",
      "[EN] <s> a lady in a red coat , holding a bluish hand bag likely of asian descent , jumping off the ground for a <unk> . </s>\n",
      "[GE] eine frau in einem roten mantel hält einen roten eimer in der hand , während eine andere frau mit einem eimer von der hand . </s>\n"
     ]
    }
   ],
   "source": [
    "idx = 5\n",
    "print(\"score\", resp[idx][\"score\"])\n",
    "en = ' '.join([val_loader.dataset.src_idx2word[idx] for idx in qs[idx].cpu().numpy()])\n",
    "ge = ' '.join([val_loader.dataset.tgt_idx2word[idx] for idx in resp[idx][\"resp\"]])\n",
    "print(\"[EN]\", en)\n",
    "print(\"[GE]\", ge)"
   ]
  },
  {
   "cell_type": "code",
   "execution_count": 11,
   "metadata": {},
   "outputs": [],
   "source": [
    "import itertools\n",
    "import codecs\n",
    "\n",
    "timesteps = np.linspace(0., 1, num=6)\n",
    "timesteps = torch.from_numpy(timesteps).float().to(device)\n",
    "\n",
    "resps = []\n",
    "f = codecs.open(f\"{exp_name}_{unique_id}_prediction.txt\",\"w+\", \"utf-8\")\n",
    "\n",
    "def cb(batch_idx, batch, all_hyp, all_scores):\n",
    "    for i, idx_seqs in enumerate(all_hyp):\n",
    "        for j, idx_seq in enumerate(idx_seqs):\n",
    "            s = all_scores[i][j].cpu().item()\n",
    "            b = batch[0][i].cpu().numpy()\n",
    "            b = list(filter(lambda x: x != Constants.BOS and x!=Constants.EOS and x!=Constants.PAD, b))\n",
    "\n",
    "            idx_seq = list(filter(lambda x: x != Constants.BOS and x!=Constants.EOS and x!=Constants.PAD, idx_seq))\n",
    "\n",
    "            en = ' '.join([val_loader.dataset.src_idx2word[idx] for idx in b])\n",
    "            ge = ' '.join([val_loader.dataset.tgt_idx2word[idx] for idx in idx_seq])\n",
    "            resps.append({\"en\":en, \"ge\":ge, \"score\":s})\n",
    "            f.write(ge + \"\\n\")            \n",
    "    \n",
    "resp = model_process.predict_dataset(val_loader, model, timesteps, device,\n",
    "                                     cb, max_token_seq_len)\n",
    "\n",
    "f.close()"
   ]
  }
 ],
 "metadata": {
  "kernelspec": {
   "display_name": "Python 3",
   "language": "python",
   "name": "python3"
  },
  "language_info": {
   "codemirror_mode": {
    "name": "ipython",
    "version": 3
   },
   "file_extension": ".py",
   "mimetype": "text/x-python",
   "name": "python",
   "nbconvert_exporter": "python",
   "pygments_lexer": "ipython3",
   "version": "3.6.8"
  }
 },
 "nbformat": 4,
 "nbformat_minor": 2
}
