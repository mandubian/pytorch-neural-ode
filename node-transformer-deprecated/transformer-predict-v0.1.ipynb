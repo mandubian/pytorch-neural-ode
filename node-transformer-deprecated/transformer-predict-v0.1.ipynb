{
 "cells": [
  {
   "cell_type": "code",
   "execution_count": 1,
   "metadata": {},
   "outputs": [
    {
     "name": "stdout",
     "output_type": "stream",
     "text": [
      "Torch Version 1.1.0\n"
     ]
    }
   ],
   "source": [
    "import numpy as np\n",
    "import torch\n",
    "import torch.utils.data\n",
    "import torch.nn as nn\n",
    "import torch.optim as optim\n",
    "\n",
    "import torchdiffeq\n",
    "\n",
    "from tensorboard_utils import Tensorboard\n",
    "from tensorboard_utils import tensorboard_event_accumulator\n",
    "\n",
    "import transformer.Constants as Constants\n",
    "from transformer.Layers import EncoderLayer, DecoderLayer\n",
    "from transformer.Modules import ScaledDotProductAttention\n",
    "from transformer.Models import Decoder, get_attn_key_pad_mask, get_non_pad_mask, get_sinusoid_encoding_table\n",
    "from transformer.SubLayers import PositionwiseFeedForward\n",
    "\n",
    "import dataset\n",
    "\n",
    "import model_process\n",
    "import checkpoints\n",
    "from node_transformer import NodeTransformer\n",
    "\n",
    "import matplotlib\n",
    "import numpy as np\n",
    "import matplotlib.pyplot as plt\n",
    "#%matplotlib notebook  \n",
    "%matplotlib inline\n",
    "%config InlineBackend.figure_format = 'retina'\n",
    "\n",
    "print(\"Torch Version\", torch.__version__)\n",
    "\n",
    "%load_ext autoreload\n",
    "%autoreload 2"
   ]
  },
  {
   "cell_type": "code",
   "execution_count": 2,
   "metadata": {},
   "outputs": [
    {
     "name": "stdout",
     "output_type": "stream",
     "text": [
      "device cuda\n"
     ]
    }
   ],
   "source": [
    "seed = 1\n",
    "torch.manual_seed(seed)\n",
    "device = torch.device(\"cuda\")\n",
    "print(\"device\", device)"
   ]
  },
  {
   "cell_type": "code",
   "execution_count": 3,
   "metadata": {},
   "outputs": [],
   "source": [
    "data = torch.load(\"/home/mandubian/datasets/multi30k/multi30k.atok.low.pt\")"
   ]
  },
  {
   "cell_type": "code",
   "execution_count": 4,
   "metadata": {},
   "outputs": [
    {
     "name": "stdout",
     "output_type": "stream",
     "text": [
      "52\n"
     ]
    }
   ],
   "source": [
    "max_token_seq_len = data['settings'].max_token_seq_len\n",
    "print(max_token_seq_len)"
   ]
  },
  {
   "cell_type": "code",
   "execution_count": 5,
   "metadata": {},
   "outputs": [],
   "source": [
    "train_loader, val_loader = dataset.prepare_dataloaders(data, batch_size=16)"
   ]
  },
  {
   "cell_type": "markdown",
   "metadata": {},
   "source": [
    "### Create an experiment with a name and a unique ID"
   ]
  },
  {
   "cell_type": "code",
   "execution_count": 6,
   "metadata": {},
   "outputs": [],
   "source": [
    "exp_name = \"transformer_multi30k\"\n",
    "unique_id = \"2019-06-07_1000\"\n"
   ]
  },
  {
   "cell_type": "markdown",
   "metadata": {},
   "source": [
    "### Create Model"
   ]
  },
  {
   "cell_type": "code",
   "execution_count": 7,
   "metadata": {},
   "outputs": [],
   "source": [
    "model = None"
   ]
  },
  {
   "cell_type": "code",
   "execution_count": 8,
   "metadata": {},
   "outputs": [
    {
     "name": "stdout",
     "output_type": "stream",
     "text": [
      "src_vocab_sz 9795\n",
      "tgt_vocab_sz 17989\n"
     ]
    }
   ],
   "source": [
    "\n",
    "src_vocab_sz = train_loader.dataset.src_vocab_size\n",
    "print(\"src_vocab_sz\", src_vocab_sz)\n",
    "tgt_vocab_sz = train_loader.dataset.tgt_vocab_size\n",
    "print(\"tgt_vocab_sz\", tgt_vocab_sz)\n",
    "\n",
    "if model:\n",
    "    del model\n",
    "    \n",
    "model = NodeTransformer(\n",
    "    n_src_vocab=max(src_vocab_sz, tgt_vocab_sz),\n",
    "    n_tgt_vocab=max(src_vocab_sz, tgt_vocab_sz),\n",
    "    len_max_seq=max_token_seq_len,\n",
    "    #emb_src_tgt_weight_sharing=False,\n",
    "    #d_word_vec=128, d_model=128, d_inner=512,\n",
    "    n_head=8, method='dopri5-ext', rtol=1e-3, atol=1e-3,\n",
    "    has_node_encoder=False, has_node_decoder=False)\n",
    "\n",
    "model = model.to(device)"
   ]
  },
  {
   "cell_type": "markdown",
   "metadata": {},
   "source": [
    "### Create basic optimizer"
   ]
  },
  {
   "cell_type": "code",
   "execution_count": 9,
   "metadata": {},
   "outputs": [],
   "source": [
    "optimizer = optim.Adam(model.parameters(), lr=1e-4, betas=(0.9, 0.995), eps=1e-9)\n"
   ]
  },
  {
   "cell_type": "markdown",
   "metadata": {},
   "source": [
    "### Restore best checkpoint (to restart past training)"
   ]
  },
  {
   "cell_type": "code",
   "execution_count": 10,
   "metadata": {},
   "outputs": [
    {
     "name": "stdout",
     "output_type": "stream",
     "text": [
      "Extracting state from checkpoints/transformer_multi30k_2019-06-07_1000_validation_best.pth\n",
      "Loading model state_dict from state found in checkpoints/transformer_multi30k_2019-06-07_1000_validation_best.pth\n",
      "Loading optimizer state_dict from state found in checkpoints/transformer_multi30k_2019-06-07_1000_validation_best.pth\n",
      "accuracy 0.6166630847481911\n",
      "loss 2.565563572196925\n"
     ]
    }
   ],
   "source": [
    "state = checkpoints.restore_best_checkpoint(\n",
    "    exp_name, unique_id, \"validation\", model, optimizer)\n",
    "\n",
    "print(\"accuracy\", state[\"acc\"])\n",
    "print(\"loss\", state[\"loss\"])\n",
    "model = model.to(device)"
   ]
  },
  {
   "cell_type": "code",
   "execution_count": null,
   "metadata": {},
   "outputs": [],
   "source": [
    "fst = next(iter(val_loader))\n",
    "print(fst)\n",
    "en = ' '.join([val_loader.dataset.src_idx2word[idx] for idx in fst[0][0].numpy()])\n",
    "ge = ' '.join([val_loader.dataset.tgt_idx2word[idx] for idx in fst[2][0].numpy()])\n",
    "print(en)\n",
    "print(ge)"
   ]
  },
  {
   "cell_type": "code",
   "execution_count": 124,
   "metadata": {},
   "outputs": [],
   "source": [
    "timesteps = np.linspace(0., 1, num=6)\n",
    "timesteps = torch.from_numpy(timesteps).float().to(device)\n",
    "\n",
    "qs = fst[0]\n",
    "qs_pos = fst[1]\n",
    "resp = model_process.predict_single(qs, qs_pos, model, timesteps, device, max_token_seq_len)\n"
   ]
  },
  {
   "cell_type": "code",
   "execution_count": 134,
   "metadata": {},
   "outputs": [
    {
     "name": "stdout",
     "output_type": "stream",
     "text": [
      "score -0.069061279296875\n",
      "[EN] <s> a lady in a red coat , holding a bluish hand bag likely of asian descent , jumping off the ground for a <unk> . </s>\n",
      "[GE] eine dame in einem roten mantel hält eine tasche für eine tasche in der hand , während sie zum einer springen . </s>\n"
     ]
    }
   ],
   "source": [
    "idx = 5\n",
    "print(\"score\", resp[idx][\"score\"])\n",
    "en = ' '.join([val_loader.dataset.src_idx2word[idx] for idx in qs[idx].cpu().numpy()])\n",
    "ge = ' '.join([val_loader.dataset.tgt_idx2word[idx] for idx in resp[idx][\"resp\"]])\n",
    "print(\"[EN]\", en)\n",
    "print(\"[GE]\", ge)"
   ]
  },
  {
   "cell_type": "code",
   "execution_count": 11,
   "metadata": {},
   "outputs": [],
   "source": [
    "import itertools\n",
    "import codecs\n",
    "\n",
    "timesteps = np.linspace(0., 1, num=6)\n",
    "timesteps = torch.from_numpy(timesteps).float().to(device)\n",
    "\n",
    "resps = []\n",
    "f = codecs.open(f\"{exp_name}_{unique_id}_prediction.txt\",\"w+\", \"utf-8\")\n",
    "\n",
    "def cb(batch_idx, batch, all_hyp, all_scores):\n",
    "    for i, idx_seqs in enumerate(all_hyp):\n",
    "        for j, idx_seq in enumerate(idx_seqs):\n",
    "            s = all_scores[i][j].cpu().item()\n",
    "            b = batch[0][i].cpu().numpy()\n",
    "            b = list(filter(lambda x: x != Constants.BOS and x!=Constants.EOS and x!=Constants.PAD, b))\n",
    "\n",
    "            idx_seq = list(filter(lambda x: x != Constants.BOS and x!=Constants.EOS and x!=Constants.PAD, idx_seq))\n",
    "\n",
    "            en = ' '.join([val_loader.dataset.src_idx2word[idx] for idx in b])\n",
    "            ge = ' '.join([val_loader.dataset.tgt_idx2word[idx] for idx in idx_seq])\n",
    "            resps.append({\"en\":en, \"ge\":ge, \"score\":s})\n",
    "            f.write(ge + \"\\n\")            \n",
    "    \n",
    "resp = model_process.predict_dataset(val_loader, model, timesteps, device,\n",
    "                                     cb, max_token_seq_len)\n",
    "\n",
    "f.close()"
   ]
  }
 ],
 "metadata": {
  "kernelspec": {
   "display_name": "Python 3",
   "language": "python",
   "name": "python3"
  },
  "language_info": {
   "codemirror_mode": {
    "name": "ipython",
    "version": 3
   },
   "file_extension": ".py",
   "mimetype": "text/x-python",
   "name": "python",
   "nbconvert_exporter": "python",
   "pygments_lexer": "ipython3",
   "version": "3.6.8"
  }
 },
 "nbformat": 4,
 "nbformat_minor": 2
}
